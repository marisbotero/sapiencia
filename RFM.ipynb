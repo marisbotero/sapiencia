{
  "nbformat": 4,
  "nbformat_minor": 5,
  "metadata": {
    "kernelspec": {
      "display_name": "Python 3",
      "language": "python",
      "name": "python3"
    },
    "language_info": {
      "codemirror_mode": {
        "name": "ipython",
        "version": 3
      },
      "file_extension": ".py",
      "mimetype": "text/x-python",
      "name": "python",
      "nbconvert_exporter": "python",
      "pygments_lexer": "ipython3",
      "version": "3.8.8"
    },
    "colab": {
      "name": "RFM.ipynb",
      "provenance": [],
      "include_colab_link": true
    }
  },
  "cells": [
    {
      "cell_type": "markdown",
      "metadata": {
        "id": "view-in-github",
        "colab_type": "text"
      },
      "source": [
        "<a href=\"https://colab.research.google.com/github/marisbotero/sapiencia/blob/main/RFM.ipynb\" target=\"_parent\"><img src=\"https://colab.research.google.com/assets/colab-badge.svg\" alt=\"Open In Colab\"/></a>"
      ]
    },
    {
      "cell_type": "markdown",
      "metadata": {
        "id": "e65dc2c2-8358-4739-b18e-174e900479f7"
      },
      "source": [
        "# PPROYECTO DISTRIAS"
      ],
      "id": "e65dc2c2-8358-4739-b18e-174e900479f7"
    },
    {
      "cell_type": "markdown",
      "metadata": {
        "id": "02834887-4ee8-4c80-9f23-9d6dc244e884"
      },
      "source": [
        "### LIBRERÍAS"
      ],
      "id": "02834887-4ee8-4c80-9f23-9d6dc244e884"
    },
    {
      "cell_type": "code",
      "metadata": {
        "id": "56d7649e-304c-4080-8d8c-81acd637c283"
      },
      "source": [
        "import pandas as pd\n",
        "import seaborn as sns"
      ],
      "id": "56d7649e-304c-4080-8d8c-81acd637c283",
      "execution_count": 1,
      "outputs": []
    },
    {
      "cell_type": "markdown",
      "metadata": {
        "id": "7df55193-0a5f-44b8-a70d-a26cadfd84d6"
      },
      "source": [
        "### LECTURA DEL DATASET"
      ],
      "id": "7df55193-0a5f-44b8-a70d-a26cadfd84d6"
    },
    {
      "cell_type": "code",
      "metadata": {
        "colab": {
          "base_uri": "https://localhost:8080/",
          "height": 267
        },
        "id": "cdc4e64d-3abc-4266-aac4-b7b406fd82fc",
        "outputId": "f9531b82-2e64-4bb3-8444-14591acdf76b"
      },
      "source": [
        "df = pd.read_excel('datos_distrias.xlsx')\n",
        "df.head(2)"
      ],
      "id": "cdc4e64d-3abc-4266-aac4-b7b406fd82fc",
      "execution_count": 3,
      "outputs": [
        {
          "output_type": "execute_result",
          "data": {
            "text/html": [
              "<div>\n",
              "<style scoped>\n",
              "    .dataframe tbody tr th:only-of-type {\n",
              "        vertical-align: middle;\n",
              "    }\n",
              "\n",
              "    .dataframe tbody tr th {\n",
              "        vertical-align: top;\n",
              "    }\n",
              "\n",
              "    .dataframe thead th {\n",
              "        text-align: right;\n",
              "    }\n",
              "</style>\n",
              "<table border=\"1\" class=\"dataframe\">\n",
              "  <thead>\n",
              "    <tr style=\"text-align: right;\">\n",
              "      <th></th>\n",
              "      <th>NOMBRE_DOCUMENTO_MAESTRO</th>\n",
              "      <th>NOMBRE_CONSECUTIVO</th>\n",
              "      <th>TIPO_DOCUMENTO</th>\n",
              "      <th>NUMERO_DOCUMENTO</th>\n",
              "      <th>FECHA_DOCUMENTO</th>\n",
              "      <th>FECHA_VENCIMIENTO</th>\n",
              "      <th>IDENTIFICACION_TERCERO</th>\n",
              "      <th>NOMBRE_TERCERO</th>\n",
              "      <th>ID_CENTRO_COSTO</th>\n",
              "      <th>NOMBRE_CENTRO_COSTO</th>\n",
              "      <th>NOMBRE_CLASIFICACION</th>\n",
              "      <th>ID_PRODUCTO_SERVICIO</th>\n",
              "      <th>PRODUCTO_SERVICIO</th>\n",
              "      <th>CANTIDAD</th>\n",
              "      <th>VALOR_UNITARIO</th>\n",
              "      <th>VALOR_TOTAL</th>\n",
              "      <th>PORCENTAJE_DESCUENTO</th>\n",
              "      <th>VALOR_DESCUENTO</th>\n",
              "      <th>SUBTOTAL</th>\n",
              "      <th>IVA</th>\n",
              "      <th>TOTAL_NETO</th>\n",
              "      <th>UTILIDAD</th>\n",
              "      <th>RENTABILIDAD</th>\n",
              "      <th>COSTO</th>\n",
              "      <th>Columna2</th>\n",
              "      <th>CEDULA_VENDEDOR</th>\n",
              "      <th>NOMBRE_VENDEDOR</th>\n",
              "      <th>FORMA_DE_PAGO</th>\n",
              "      <th>TIPO</th>\n",
              "      <th>MARCA</th>\n",
              "      <th>LINEA</th>\n",
              "      <th>GRUPO</th>\n",
              "      <th>CLASE</th>\n",
              "      <th>NOMBRE_ESTABLECIMIENTO</th>\n",
              "      <th>ID_USUARIO_CREA</th>\n",
              "      <th>USUARIO_CREA</th>\n",
              "      <th>ID_TERCERO</th>\n",
              "      <th>ID_VENDEDOR</th>\n",
              "      <th>Columna1</th>\n",
              "    </tr>\n",
              "  </thead>\n",
              "  <tbody>\n",
              "    <tr>\n",
              "      <th>0</th>\n",
              "      <td>FACTURA</td>\n",
              "      <td>FACTURA ELECTRONICA DEV</td>\n",
              "      <td>DEV</td>\n",
              "      <td>3077</td>\n",
              "      <td>2020-01-02</td>\n",
              "      <td>2020-02-01</td>\n",
              "      <td>900247351</td>\n",
              "      <td>ECHEVERRI INVERSIONES CAMEL SOCIEDAD POR ACCIO...</td>\n",
              "      <td>8003</td>\n",
              "      <td>SV VENTAS</td>\n",
              "      <td>GRAVADAS 19</td>\n",
              "      <td>383</td>\n",
              "      <td>SOLDADURA LIQ PVC 1/32</td>\n",
              "      <td>1.0</td>\n",
              "      <td>14321.0</td>\n",
              "      <td>14321.0</td>\n",
              "      <td>40.0</td>\n",
              "      <td>5728.4</td>\n",
              "      <td>8592.6</td>\n",
              "      <td>1633.0</td>\n",
              "      <td>10225.6</td>\n",
              "      <td>3179.6</td>\n",
              "      <td>37.0039</td>\n",
              "      <td>5413.0</td>\n",
              "      <td>3179.6</td>\n",
              "      <td>6869313.0</td>\n",
              "      <td>ACOSTA SUAREZ EDUARDO</td>\n",
              "      <td>CREDITO</td>\n",
              "      <td>NaN</td>\n",
              "      <td>017-GERFOR</td>\n",
              "      <td>NaN</td>\n",
              "      <td>1023-SOLDADURA PVC CEMENTO SOLVENTE</td>\n",
              "      <td>NaN</td>\n",
              "      <td>NaN</td>\n",
              "      <td>25785971</td>\n",
              "      <td>LEDA YIMARA ARGUMEDO DIAZ</td>\n",
              "      <td>4509</td>\n",
              "      <td>1856</td>\n",
              "      <td>NaN</td>\n",
              "    </tr>\n",
              "    <tr>\n",
              "      <th>1</th>\n",
              "      <td>FACTURA</td>\n",
              "      <td>FACTURA ELECTRONICA DEV</td>\n",
              "      <td>DEV</td>\n",
              "      <td>3077</td>\n",
              "      <td>2020-01-02</td>\n",
              "      <td>2020-02-01</td>\n",
              "      <td>900247351</td>\n",
              "      <td>ECHEVERRI INVERSIONES CAMEL SOCIEDAD POR ACCIO...</td>\n",
              "      <td>8003</td>\n",
              "      <td>SV VENTAS</td>\n",
              "      <td>GRAVADAS 19</td>\n",
              "      <td>164</td>\n",
              "      <td>ADAPTADOR PRES MACHO 1</td>\n",
              "      <td>4.0</td>\n",
              "      <td>1302.0</td>\n",
              "      <td>5208.0</td>\n",
              "      <td>40.0</td>\n",
              "      <td>2083.2</td>\n",
              "      <td>3124.8</td>\n",
              "      <td>594.0</td>\n",
              "      <td>3718.8</td>\n",
              "      <td>1212.8</td>\n",
              "      <td>38.8120</td>\n",
              "      <td>1912.0</td>\n",
              "      <td>1212.8</td>\n",
              "      <td>6869313.0</td>\n",
              "      <td>ACOSTA SUAREZ EDUARDO</td>\n",
              "      <td>CREDITO</td>\n",
              "      <td>NaN</td>\n",
              "      <td>017-GERFOR</td>\n",
              "      <td>NaN</td>\n",
              "      <td>1007-ACCESORIOS PRESION LISO-ROSCADO</td>\n",
              "      <td>NaN</td>\n",
              "      <td>NaN</td>\n",
              "      <td>25785971</td>\n",
              "      <td>LEDA YIMARA ARGUMEDO DIAZ</td>\n",
              "      <td>4509</td>\n",
              "      <td>1856</td>\n",
              "      <td>NaN</td>\n",
              "    </tr>\n",
              "  </tbody>\n",
              "</table>\n",
              "</div>"
            ],
            "text/plain": [
              "  NOMBRE_DOCUMENTO_MAESTRO       NOMBRE_CONSECUTIVO  ... ID_VENDEDOR  Columna1\n",
              "0                  FACTURA  FACTURA ELECTRONICA DEV  ...        1856       NaN\n",
              "1                  FACTURA  FACTURA ELECTRONICA DEV  ...        1856       NaN\n",
              "\n",
              "[2 rows x 39 columns]"
            ]
          },
          "metadata": {},
          "execution_count": 3
        }
      ]
    },
    {
      "cell_type": "code",
      "metadata": {
        "colab": {
          "base_uri": "https://localhost:8080/"
        },
        "id": "de13403d-2095-4854-814c-41c04dda7817",
        "outputId": "d0bab64c-676d-40f6-d88a-5eea03ceabe5"
      },
      "source": [
        "df.info()"
      ],
      "id": "de13403d-2095-4854-814c-41c04dda7817",
      "execution_count": 4,
      "outputs": [
        {
          "output_type": "stream",
          "name": "stdout",
          "text": [
            "<class 'pandas.core.frame.DataFrame'>\n",
            "RangeIndex: 222272 entries, 0 to 222271\n",
            "Data columns (total 39 columns):\n",
            " #   Column                    Non-Null Count   Dtype         \n",
            "---  ------                    --------------   -----         \n",
            " 0   NOMBRE_DOCUMENTO_MAESTRO  222272 non-null  object        \n",
            " 1   NOMBRE_CONSECUTIVO        222272 non-null  object        \n",
            " 2   TIPO_DOCUMENTO            222272 non-null  object        \n",
            " 3   NUMERO_DOCUMENTO          222272 non-null  int64         \n",
            " 4   FECHA_DOCUMENTO           222272 non-null  datetime64[ns]\n",
            " 5   FECHA_VENCIMIENTO         222272 non-null  datetime64[ns]\n",
            " 6   IDENTIFICACION_TERCERO    222272 non-null  object        \n",
            " 7   NOMBRE_TERCERO            222272 non-null  object        \n",
            " 8   ID_CENTRO_COSTO           222272 non-null  int64         \n",
            " 9   NOMBRE_CENTRO_COSTO       222272 non-null  object        \n",
            " 10  NOMBRE_CLASIFICACION      222272 non-null  object        \n",
            " 11  ID_PRODUCTO_SERVICIO      222272 non-null  int64         \n",
            " 12  PRODUCTO_SERVICIO         222272 non-null  object        \n",
            " 13  CANTIDAD                  222272 non-null  float64       \n",
            " 14  VALOR_UNITARIO            222272 non-null  float64       \n",
            " 15  VALOR_TOTAL               222272 non-null  float64       \n",
            " 16  PORCENTAJE_DESCUENTO      222272 non-null  float64       \n",
            " 17  VALOR_DESCUENTO           222272 non-null  float64       \n",
            " 18  SUBTOTAL                  222272 non-null  float64       \n",
            " 19  IVA                       222272 non-null  float64       \n",
            " 20  TOTAL_NETO                222272 non-null  float64       \n",
            " 21  UTILIDAD                  222268 non-null  float64       \n",
            " 22  RENTABILIDAD              222268 non-null  float64       \n",
            " 23  COSTO                     222268 non-null  float64       \n",
            " 24  Columna2                  222268 non-null  float64       \n",
            " 25  CEDULA_VENDEDOR           222079 non-null  float64       \n",
            " 26  NOMBRE_VENDEDOR           222079 non-null  object        \n",
            " 27  FORMA_DE_PAGO             222272 non-null  object        \n",
            " 28  TIPO                      34288 non-null   object        \n",
            " 29  MARCA                     201064 non-null  object        \n",
            " 30  LINEA                     142269 non-null  object        \n",
            " 31  GRUPO                     216100 non-null  object        \n",
            " 32  CLASE                     150733 non-null  object        \n",
            " 33  NOMBRE_ESTABLECIMIENTO    45510 non-null   object        \n",
            " 34  ID_USUARIO_CREA           222272 non-null  int64         \n",
            " 35  USUARIO_CREA              222272 non-null  object        \n",
            " 36  ID_TERCERO                222272 non-null  int64         \n",
            " 37  ID_VENDEDOR               222272 non-null  int64         \n",
            " 38  Columna1                  0 non-null       float64       \n",
            "dtypes: datetime64[ns](2), float64(14), int64(6), object(17)\n",
            "memory usage: 66.1+ MB\n"
          ]
        }
      ]
    },
    {
      "cell_type": "markdown",
      "metadata": {
        "id": "88522d2a-e303-424f-87b1-8337aee90660"
      },
      "source": [
        "### LIMPIEZA E IMPUTACIÓN DE DATOS"
      ],
      "id": "88522d2a-e303-424f-87b1-8337aee90660"
    },
    {
      "cell_type": "code",
      "metadata": {
        "id": "dc886e4d-a76e-42d6-a0b8-16706439d132"
      },
      "source": [
        "#Transformar tipo de variable\n",
        "df['NUMERO_DOCUMENTO']=df['NUMERO_DOCUMENTO'].astype(str)\n",
        "df['CEDULA_VENDEDOR']=df['CEDULA_VENDEDOR'].astype(str)\n",
        "df['ID_CENTRO_COSTO']=df['ID_CENTRO_COSTO'].astype(str)\n",
        "df['ID_PRODUCTO_SERVICIO']=df['ID_PRODUCTO_SERVICIO'].astype(str)\n",
        "df['ID_USUARIO_CREA']=df['ID_USUARIO_CREA'].astype(str)\n",
        "df['ID_TERCERO']=df['ID_TERCERO'].astype(str)\n",
        "df['ID_VENDEDOR']=df['ID_VENDEDOR'].astype(str)"
      ],
      "id": "dc886e4d-a76e-42d6-a0b8-16706439d132",
      "execution_count": 5,
      "outputs": []
    },
    {
      "cell_type": "code",
      "metadata": {
        "colab": {
          "base_uri": "https://localhost:8080/"
        },
        "id": "cd791122-1034-4a0c-855c-60b2837395f4",
        "outputId": "ab5d5cef-a495-49ba-c674-6f2ed4ffa419"
      },
      "source": [
        "#Valores nulos\n",
        "null_values=df.isnull().sum()/len(df) #Valores nulos\n",
        "null_values[null_values>0]"
      ],
      "id": "cd791122-1034-4a0c-855c-60b2837395f4",
      "execution_count": 6,
      "outputs": [
        {
          "output_type": "execute_result",
          "data": {
            "text/plain": [
              "UTILIDAD                  0.000018\n",
              "RENTABILIDAD              0.000018\n",
              "COSTO                     0.000018\n",
              "Columna2                  0.000018\n",
              "NOMBRE_VENDEDOR           0.000868\n",
              "TIPO                      0.845739\n",
              "MARCA                     0.095415\n",
              "LINEA                     0.359933\n",
              "GRUPO                     0.027768\n",
              "CLASE                     0.321853\n",
              "NOMBRE_ESTABLECIMIENTO    0.795251\n",
              "Columna1                  1.000000\n",
              "dtype: float64"
            ]
          },
          "metadata": {},
          "execution_count": 6
        }
      ]
    },
    {
      "cell_type": "code",
      "metadata": {
        "id": "16b6d18e-0616-4d14-ba9f-c315af498475"
      },
      "source": [
        "#Imputación de columnas\n",
        "df = df.drop(['NOMBRE_ESTABLECIMIENTO','TIPO'], axis=1)"
      ],
      "id": "16b6d18e-0616-4d14-ba9f-c315af498475",
      "execution_count": 7,
      "outputs": []
    },
    {
      "cell_type": "code",
      "metadata": {
        "colab": {
          "base_uri": "https://localhost:8080/"
        },
        "id": "40e76a6d-2acc-48cd-bfc3-a6395058a0e2",
        "outputId": "68f0af37-9f5d-4c11-96cf-671f038452b8"
      },
      "source": [
        "#Hay filas duplicadas?\n",
        "l=[]\n",
        "mask=df.duplicated()\n",
        "for i in mask:\n",
        "    if i==True:\n",
        "        l.append(i)\n",
        "print(len(l))"
      ],
      "id": "40e76a6d-2acc-48cd-bfc3-a6395058a0e2",
      "execution_count": 8,
      "outputs": [
        {
          "output_type": "stream",
          "name": "stdout",
          "text": [
            "97\n"
          ]
        }
      ]
    },
    {
      "cell_type": "code",
      "metadata": {
        "id": "4887fe47-e9f3-4f75-ac2a-a191319bde82"
      },
      "source": [
        "#Eliminar las filas dupliucadas\n",
        "df = df.drop_duplicates()"
      ],
      "id": "4887fe47-e9f3-4f75-ac2a-a191319bde82",
      "execution_count": 9,
      "outputs": []
    },
    {
      "cell_type": "code",
      "metadata": {
        "id": "51af3118-65a2-4bbb-88fc-aeb7202728a7"
      },
      "source": [
        "#En la columna 'NOMBRE_DOCUMENTO_MAESTRO' se van a eliminar las filas correspondientes a notas crédito, pues es una devolución que no implica utilidades para la empresa\n",
        "df = df.set_index('NOMBRE_DOCUMENTO_MAESTRO')\n",
        "df = df.drop('NOTA CREDITO')\n",
        "df.reset_index(level=0, inplace=True)"
      ],
      "id": "51af3118-65a2-4bbb-88fc-aeb7202728a7",
      "execution_count": 10,
      "outputs": []
    },
    {
      "cell_type": "markdown",
      "metadata": {
        "id": "236e66d5-e7a6-4b52-9fe7-55f72971d0b5"
      },
      "source": [
        "### EDA"
      ],
      "id": "236e66d5-e7a6-4b52-9fe7-55f72971d0b5"
    },
    {
      "cell_type": "code",
      "metadata": {
        "colab": {
          "base_uri": "https://localhost:8080/",
          "height": 317
        },
        "id": "8ebb6e1d-7562-498f-bfae-787967adc2e1",
        "outputId": "06a65881-3dc5-40ce-dc9f-c7d23393325e"
      },
      "source": [
        "df.describe()"
      ],
      "id": "8ebb6e1d-7562-498f-bfae-787967adc2e1",
      "execution_count": 11,
      "outputs": [
        {
          "output_type": "execute_result",
          "data": {
            "text/html": [
              "<div>\n",
              "<style scoped>\n",
              "    .dataframe tbody tr th:only-of-type {\n",
              "        vertical-align: middle;\n",
              "    }\n",
              "\n",
              "    .dataframe tbody tr th {\n",
              "        vertical-align: top;\n",
              "    }\n",
              "\n",
              "    .dataframe thead th {\n",
              "        text-align: right;\n",
              "    }\n",
              "</style>\n",
              "<table border=\"1\" class=\"dataframe\">\n",
              "  <thead>\n",
              "    <tr style=\"text-align: right;\">\n",
              "      <th></th>\n",
              "      <th>CANTIDAD</th>\n",
              "      <th>VALOR_UNITARIO</th>\n",
              "      <th>VALOR_TOTAL</th>\n",
              "      <th>PORCENTAJE_DESCUENTO</th>\n",
              "      <th>VALOR_DESCUENTO</th>\n",
              "      <th>SUBTOTAL</th>\n",
              "      <th>IVA</th>\n",
              "      <th>TOTAL_NETO</th>\n",
              "      <th>UTILIDAD</th>\n",
              "      <th>RENTABILIDAD</th>\n",
              "      <th>COSTO</th>\n",
              "      <th>Columna2</th>\n",
              "      <th>Columna1</th>\n",
              "    </tr>\n",
              "  </thead>\n",
              "  <tbody>\n",
              "    <tr>\n",
              "      <th>count</th>\n",
              "      <td>212493.000000</td>\n",
              "      <td>2.124930e+05</td>\n",
              "      <td>2.124930e+05</td>\n",
              "      <td>212493.000000</td>\n",
              "      <td>2.124930e+05</td>\n",
              "      <td>2.124930e+05</td>\n",
              "      <td>2.124930e+05</td>\n",
              "      <td>2.124930e+05</td>\n",
              "      <td>2.124930e+05</td>\n",
              "      <td>2.124930e+05</td>\n",
              "      <td>2.124930e+05</td>\n",
              "      <td>2.124930e+05</td>\n",
              "      <td>0.0</td>\n",
              "    </tr>\n",
              "    <tr>\n",
              "      <th>mean</th>\n",
              "      <td>35.022012</td>\n",
              "      <td>4.450882e+04</td>\n",
              "      <td>4.729484e+05</td>\n",
              "      <td>8.779349</td>\n",
              "      <td>3.604622e+04</td>\n",
              "      <td>4.369021e+05</td>\n",
              "      <td>8.168787e+04</td>\n",
              "      <td>5.185900e+05</td>\n",
              "      <td>9.090986e+04</td>\n",
              "      <td>-5.265953e+01</td>\n",
              "      <td>3.459923e+05</td>\n",
              "      <td>9.090986e+04</td>\n",
              "      <td>NaN</td>\n",
              "    </tr>\n",
              "    <tr>\n",
              "      <th>std</th>\n",
              "      <td>311.370932</td>\n",
              "      <td>1.422137e+05</td>\n",
              "      <td>2.163091e+06</td>\n",
              "      <td>13.121995</td>\n",
              "      <td>3.601346e+05</td>\n",
              "      <td>1.998362e+06</td>\n",
              "      <td>3.789614e+05</td>\n",
              "      <td>2.376488e+06</td>\n",
              "      <td>3.980130e+05</td>\n",
              "      <td>2.339324e+04</td>\n",
              "      <td>1.659557e+06</td>\n",
              "      <td>3.980130e+05</td>\n",
              "      <td>NaN</td>\n",
              "    </tr>\n",
              "    <tr>\n",
              "      <th>min</th>\n",
              "      <td>0.000000</td>\n",
              "      <td>0.000000e+00</td>\n",
              "      <td>0.000000e+00</td>\n",
              "      <td>0.000000</td>\n",
              "      <td>0.000000e+00</td>\n",
              "      <td>0.000000e+00</td>\n",
              "      <td>0.000000e+00</td>\n",
              "      <td>0.000000e+00</td>\n",
              "      <td>-1.108899e+07</td>\n",
              "      <td>-9.019149e+06</td>\n",
              "      <td>0.000000e+00</td>\n",
              "      <td>-1.108899e+07</td>\n",
              "      <td>NaN</td>\n",
              "    </tr>\n",
              "    <tr>\n",
              "      <th>25%</th>\n",
              "      <td>1.000000</td>\n",
              "      <td>4.500000e+03</td>\n",
              "      <td>1.965000e+04</td>\n",
              "      <td>0.000000</td>\n",
              "      <td>0.000000e+00</td>\n",
              "      <td>1.758820e+04</td>\n",
              "      <td>3.106500e+03</td>\n",
              "      <td>2.090000e+04</td>\n",
              "      <td>4.964845e+03</td>\n",
              "      <td>1.927170e+01</td>\n",
              "      <td>1.162000e+04</td>\n",
              "      <td>4.964845e+03</td>\n",
              "      <td>NaN</td>\n",
              "    </tr>\n",
              "    <tr>\n",
              "      <th>50%</th>\n",
              "      <td>5.000000</td>\n",
              "      <td>1.680000e+04</td>\n",
              "      <td>7.420168e+04</td>\n",
              "      <td>0.000000</td>\n",
              "      <td>0.000000e+00</td>\n",
              "      <td>6.675000e+04</td>\n",
              "      <td>1.211176e+04</td>\n",
              "      <td>7.921116e+04</td>\n",
              "      <td>1.679382e+04</td>\n",
              "      <td>2.615210e+01</td>\n",
              "      <td>4.747100e+04</td>\n",
              "      <td>1.679382e+04</td>\n",
              "      <td>NaN</td>\n",
              "    </tr>\n",
              "    <tr>\n",
              "      <th>75%</th>\n",
              "      <td>20.000000</td>\n",
              "      <td>3.605000e+04</td>\n",
              "      <td>2.863500e+05</td>\n",
              "      <td>12.000000</td>\n",
              "      <td>1.323600e+04</td>\n",
              "      <td>2.638700e+05</td>\n",
              "      <td>4.853800e+04</td>\n",
              "      <td>3.124009e+05</td>\n",
              "      <td>6.024000e+04</td>\n",
              "      <td>3.498690e+01</td>\n",
              "      <td>1.985370e+05</td>\n",
              "      <td>6.024000e+04</td>\n",
              "      <td>NaN</td>\n",
              "    </tr>\n",
              "    <tr>\n",
              "      <th>max</th>\n",
              "      <td>110000.000000</td>\n",
              "      <td>1.167893e+07</td>\n",
              "      <td>4.006800e+08</td>\n",
              "      <td>100.000000</td>\n",
              "      <td>7.596953e+07</td>\n",
              "      <td>4.006800e+08</td>\n",
              "      <td>7.612920e+07</td>\n",
              "      <td>4.768092e+08</td>\n",
              "      <td>4.871156e+07</td>\n",
              "      <td>1.000000e+02</td>\n",
              "      <td>3.519684e+08</td>\n",
              "      <td>4.871156e+07</td>\n",
              "      <td>NaN</td>\n",
              "    </tr>\n",
              "  </tbody>\n",
              "</table>\n",
              "</div>"
            ],
            "text/plain": [
              "            CANTIDAD  VALOR_UNITARIO  ...      Columna2  Columna1\n",
              "count  212493.000000    2.124930e+05  ...  2.124930e+05       0.0\n",
              "mean       35.022012    4.450882e+04  ...  9.090986e+04       NaN\n",
              "std       311.370932    1.422137e+05  ...  3.980130e+05       NaN\n",
              "min         0.000000    0.000000e+00  ... -1.108899e+07       NaN\n",
              "25%         1.000000    4.500000e+03  ...  4.964845e+03       NaN\n",
              "50%         5.000000    1.680000e+04  ...  1.679382e+04       NaN\n",
              "75%        20.000000    3.605000e+04  ...  6.024000e+04       NaN\n",
              "max    110000.000000    1.167893e+07  ...  4.871156e+07       NaN\n",
              "\n",
              "[8 rows x 13 columns]"
            ]
          },
          "metadata": {},
          "execution_count": 11
        }
      ]
    },
    {
      "cell_type": "markdown",
      "metadata": {
        "id": "b78e14aa-53b8-454e-a81f-b34e46950e81"
      },
      "source": [
        "### ANÁLISIS RFM"
      ],
      "id": "b78e14aa-53b8-454e-a81f-b34e46950e81"
    },
    {
      "cell_type": "markdown",
      "metadata": {
        "id": "ba8944f9-6cc1-4d25-830a-45f00434a914"
      },
      "source": [
        "El análisis RFM permite determinar cuáles son los mejores clientes teniendo en cuenta cuándo realizaron su última compra, con qué frecuencia lo hacen y cuánto se gastan. El RFM permite entender mejor cómo funciona la base de clientes, conociendo su comportamiento.\n",
        "\n",
        "Para aplicar la técnica RFM hay que tener en cuenta las tres principales variables: Recency, Frequency, Monetary.\n",
        "\n",
        " - Recencia: ¿Cuándo fue la última vez que el cliente hizo una compra?\n",
        " - Frecuencia: define el número de interacciones del cliente con la marca en un espacio determinado de tiempo.\n",
        " - Valor monetario: refleja la cantidad que se ha gastado el cliente en las compras hechas en ese espacio de tiempo.\n",
        "\n"
      ],
      "id": "ba8944f9-6cc1-4d25-830a-45f00434a914"
    },
    {
      "cell_type": "markdown",
      "metadata": {
        "id": "97b37b1a-f6c7-4e21-a48f-e8c74c9891b2"
      },
      "source": [
        "#### RESENCIA"
      ],
      "id": "97b37b1a-f6c7-4e21-a48f-e8c74c9891b2"
    },
    {
      "cell_type": "code",
      "metadata": {
        "id": "8eefb269-17d1-4cf0-90cd-087246fff4a1"
      },
      "source": [
        "df['recency'] = pd.to_datetime('2021-11-13 08:26:00') - df['FECHA_VENCIMIENTO']"
      ],
      "id": "8eefb269-17d1-4cf0-90cd-087246fff4a1",
      "execution_count": 12,
      "outputs": []
    },
    {
      "cell_type": "code",
      "metadata": {
        "id": "10c9e78c-5169-42ac-a2e3-a88a489a0dbb"
      },
      "source": [
        "def recency(recency):\n",
        "    res = str(recency).split(' ')[0]\n",
        "    return(int(res))\n",
        "df['recency'] = df['recency'].apply(recency)"
      ],
      "id": "10c9e78c-5169-42ac-a2e3-a88a489a0dbb",
      "execution_count": 13,
      "outputs": []
    },
    {
      "cell_type": "code",
      "metadata": {
        "id": "61a6f6de-6232-4baa-b96d-03b42d04be3b"
      },
      "source": [
        "df_recency = df[['NOMBRE_TERCERO','IDENTIFICACION_TERCERO','recency']]\n",
        "df_recency = df_recency.drop_duplicates()"
      ],
      "id": "61a6f6de-6232-4baa-b96d-03b42d04be3b",
      "execution_count": 14,
      "outputs": []
    },
    {
      "cell_type": "code",
      "metadata": {
        "colab": {
          "base_uri": "https://localhost:8080/",
          "height": 419
        },
        "id": "2e9e0619-c6fd-4e4c-90ef-6d127a0b87d2",
        "outputId": "deb9d0b7-e039-4383-d61a-1dca71bd9918"
      },
      "source": [
        "df_recency"
      ],
      "id": "2e9e0619-c6fd-4e4c-90ef-6d127a0b87d2",
      "execution_count": 15,
      "outputs": [
        {
          "output_type": "execute_result",
          "data": {
            "text/html": [
              "<div>\n",
              "<style scoped>\n",
              "    .dataframe tbody tr th:only-of-type {\n",
              "        vertical-align: middle;\n",
              "    }\n",
              "\n",
              "    .dataframe tbody tr th {\n",
              "        vertical-align: top;\n",
              "    }\n",
              "\n",
              "    .dataframe thead th {\n",
              "        text-align: right;\n",
              "    }\n",
              "</style>\n",
              "<table border=\"1\" class=\"dataframe\">\n",
              "  <thead>\n",
              "    <tr style=\"text-align: right;\">\n",
              "      <th></th>\n",
              "      <th>NOMBRE_TERCERO</th>\n",
              "      <th>IDENTIFICACION_TERCERO</th>\n",
              "      <th>recency</th>\n",
              "    </tr>\n",
              "  </thead>\n",
              "  <tbody>\n",
              "    <tr>\n",
              "      <th>0</th>\n",
              "      <td>ECHEVERRI INVERSIONES CAMEL SOCIEDAD POR ACCIO...</td>\n",
              "      <td>900247351</td>\n",
              "      <td>651</td>\n",
              "    </tr>\n",
              "    <tr>\n",
              "      <th>3</th>\n",
              "      <td>GOMEZ MORA HELIODORO JOSE</td>\n",
              "      <td>890226</td>\n",
              "      <td>679</td>\n",
              "    </tr>\n",
              "    <tr>\n",
              "      <th>5</th>\n",
              "      <td>DAVID ORDOSGOITIA LEONARDO JALIL</td>\n",
              "      <td>78675754</td>\n",
              "      <td>680</td>\n",
              "    </tr>\n",
              "    <tr>\n",
              "      <th>8</th>\n",
              "      <td>COA GONZALEZ JACINTO</td>\n",
              "      <td>98613374</td>\n",
              "      <td>679</td>\n",
              "    </tr>\n",
              "    <tr>\n",
              "      <th>9</th>\n",
              "      <td>ASOCIACION COLEGIO MILITAR ALMIRANTE COLON</td>\n",
              "      <td>806007709</td>\n",
              "      <td>651</td>\n",
              "    </tr>\n",
              "    <tr>\n",
              "      <th>...</th>\n",
              "      <td>...</td>\n",
              "      <td>...</td>\n",
              "      <td>...</td>\n",
              "    </tr>\n",
              "    <tr>\n",
              "      <th>212474</th>\n",
              "      <td>CONSORCIO OBRAS VALLE INFERIOR DEL MAGDALENA</td>\n",
              "      <td>901420745</td>\n",
              "      <td>132</td>\n",
              "    </tr>\n",
              "    <tr>\n",
              "      <th>212483</th>\n",
              "      <td>CONSORCIO AQUA DE ORO</td>\n",
              "      <td>901332047</td>\n",
              "      <td>263</td>\n",
              "    </tr>\n",
              "    <tr>\n",
              "      <th>212484</th>\n",
              "      <td>CONSORCIO OBRAS VALLE INFERIOR DEL MAGDALENA</td>\n",
              "      <td>901420745</td>\n",
              "      <td>283</td>\n",
              "    </tr>\n",
              "    <tr>\n",
              "      <th>212489</th>\n",
              "      <td>CONSORCIO AQUA DE ORO</td>\n",
              "      <td>901332047</td>\n",
              "      <td>285</td>\n",
              "    </tr>\n",
              "    <tr>\n",
              "      <th>212491</th>\n",
              "      <td>CONSORCIO VIRGEN DEL CARMEN</td>\n",
              "      <td>901141029</td>\n",
              "      <td>261</td>\n",
              "    </tr>\n",
              "  </tbody>\n",
              "</table>\n",
              "<p>64184 rows × 3 columns</p>\n",
              "</div>"
            ],
            "text/plain": [
              "                                           NOMBRE_TERCERO  ... recency\n",
              "0       ECHEVERRI INVERSIONES CAMEL SOCIEDAD POR ACCIO...  ...     651\n",
              "3                               GOMEZ MORA HELIODORO JOSE  ...     679\n",
              "5                        DAVID ORDOSGOITIA LEONARDO JALIL  ...     680\n",
              "8                                    COA GONZALEZ JACINTO  ...     679\n",
              "9              ASOCIACION COLEGIO MILITAR ALMIRANTE COLON  ...     651\n",
              "...                                                   ...  ...     ...\n",
              "212474       CONSORCIO OBRAS VALLE INFERIOR DEL MAGDALENA  ...     132\n",
              "212483                              CONSORCIO AQUA DE ORO  ...     263\n",
              "212484       CONSORCIO OBRAS VALLE INFERIOR DEL MAGDALENA  ...     283\n",
              "212489                              CONSORCIO AQUA DE ORO  ...     285\n",
              "212491                        CONSORCIO VIRGEN DEL CARMEN  ...     261\n",
              "\n",
              "[64184 rows x 3 columns]"
            ]
          },
          "metadata": {},
          "execution_count": 15
        }
      ]
    },
    {
      "cell_type": "markdown",
      "metadata": {
        "id": "81c1ae9d-390a-46c2-8a58-dbee82978d8b"
      },
      "source": [
        "#### FRECUENCIA"
      ],
      "id": "81c1ae9d-390a-46c2-8a58-dbee82978d8b"
    },
    {
      "cell_type": "code",
      "metadata": {
        "id": "1074dccf-9e25-48a2-906c-2b99db55a867"
      },
      "source": [
        "freq = df.groupby(['NOMBRE_TERCERO','IDENTIFICACION_TERCERO'])['FECHA_VENCIMIENTO'].count()\n",
        "df_freq = pd.DataFrame(freq).reset_index()"
      ],
      "id": "1074dccf-9e25-48a2-906c-2b99db55a867",
      "execution_count": 16,
      "outputs": []
    },
    {
      "cell_type": "code",
      "metadata": {
        "colab": {
          "base_uri": "https://localhost:8080/",
          "height": 419
        },
        "id": "eeef1984-c0cc-4bc2-a88b-72509ea13c30",
        "outputId": "6521ae0b-8b61-488d-c0b8-e7c43fe049c9"
      },
      "source": [
        "df_freq"
      ],
      "id": "eeef1984-c0cc-4bc2-a88b-72509ea13c30",
      "execution_count": 17,
      "outputs": [
        {
          "output_type": "execute_result",
          "data": {
            "text/html": [
              "<div>\n",
              "<style scoped>\n",
              "    .dataframe tbody tr th:only-of-type {\n",
              "        vertical-align: middle;\n",
              "    }\n",
              "\n",
              "    .dataframe tbody tr th {\n",
              "        vertical-align: top;\n",
              "    }\n",
              "\n",
              "    .dataframe thead th {\n",
              "        text-align: right;\n",
              "    }\n",
              "</style>\n",
              "<table border=\"1\" class=\"dataframe\">\n",
              "  <thead>\n",
              "    <tr style=\"text-align: right;\">\n",
              "      <th></th>\n",
              "      <th>NOMBRE_TERCERO</th>\n",
              "      <th>IDENTIFICACION_TERCERO</th>\n",
              "      <th>FECHA_VENCIMIENTO</th>\n",
              "    </tr>\n",
              "  </thead>\n",
              "  <tbody>\n",
              "    <tr>\n",
              "      <th>0</th>\n",
              "      <td>\\tEDIFICIO PORTO ALEGRE - PROPIEDAD HORIZONTAL</td>\n",
              "      <td>900429009</td>\n",
              "      <td>7</td>\n",
              "    </tr>\n",
              "    <tr>\n",
              "      <th>1</th>\n",
              "      <td>ALCALA  HERNANDEZ PAOLA</td>\n",
              "      <td>1067842751</td>\n",
              "      <td>2</td>\n",
              "    </tr>\n",
              "    <tr>\n",
              "      <th>2</th>\n",
              "      <td>ALVAREZ  FERRER LUIS</td>\n",
              "      <td>6890908</td>\n",
              "      <td>3</td>\n",
              "    </tr>\n",
              "    <tr>\n",
              "      <th>3</th>\n",
              "      <td>BARBOSA  OSUNA MARINA</td>\n",
              "      <td>43692562</td>\n",
              "      <td>4</td>\n",
              "    </tr>\n",
              "    <tr>\n",
              "      <th>4</th>\n",
              "      <td>BELEÑO RAMBAO GLORIA</td>\n",
              "      <td>25872863</td>\n",
              "      <td>2</td>\n",
              "    </tr>\n",
              "    <tr>\n",
              "      <th>...</th>\n",
              "      <td>...</td>\n",
              "      <td>...</td>\n",
              "      <td>...</td>\n",
              "    </tr>\n",
              "    <tr>\n",
              "      <th>16588</th>\n",
              "      <td>ZUÑIGA HERRERA LADISLAO</td>\n",
              "      <td>78690273</td>\n",
              "      <td>2</td>\n",
              "    </tr>\n",
              "    <tr>\n",
              "      <th>16589</th>\n",
              "      <td>ZUÑIGA PEREZ ANGEL</td>\n",
              "      <td>6864474</td>\n",
              "      <td>7</td>\n",
              "    </tr>\n",
              "    <tr>\n",
              "      <th>16590</th>\n",
              "      <td>ZUÑIGA PEÑATE CESARDAVID</td>\n",
              "      <td>78705352</td>\n",
              "      <td>1</td>\n",
              "    </tr>\n",
              "    <tr>\n",
              "      <th>16591</th>\n",
              "      <td>ZUÑIGA RAMIRO</td>\n",
              "      <td>6874582</td>\n",
              "      <td>1</td>\n",
              "    </tr>\n",
              "    <tr>\n",
              "      <th>16592</th>\n",
              "      <td>ZUÑIGA SOLAR LUISMARIO</td>\n",
              "      <td>78698345</td>\n",
              "      <td>3</td>\n",
              "    </tr>\n",
              "  </tbody>\n",
              "</table>\n",
              "<p>16593 rows × 3 columns</p>\n",
              "</div>"
            ],
            "text/plain": [
              "                                       NOMBRE_TERCERO  ... FECHA_VENCIMIENTO\n",
              "0      \\tEDIFICIO PORTO ALEGRE - PROPIEDAD HORIZONTAL  ...                 7\n",
              "1                             ALCALA  HERNANDEZ PAOLA  ...                 2\n",
              "2                                ALVAREZ  FERRER LUIS  ...                 3\n",
              "3                               BARBOSA  OSUNA MARINA  ...                 4\n",
              "4                              BELEÑO RAMBAO GLORIA    ...                 2\n",
              "...                                               ...  ...               ...\n",
              "16588                         ZUÑIGA HERRERA LADISLAO  ...                 2\n",
              "16589                              ZUÑIGA PEREZ ANGEL  ...                 7\n",
              "16590                        ZUÑIGA PEÑATE CESARDAVID  ...                 1\n",
              "16591                                   ZUÑIGA RAMIRO  ...                 1\n",
              "16592                          ZUÑIGA SOLAR LUISMARIO  ...                 3\n",
              "\n",
              "[16593 rows x 3 columns]"
            ]
          },
          "metadata": {},
          "execution_count": 17
        }
      ]
    },
    {
      "cell_type": "markdown",
      "metadata": {
        "id": "479e8400-a8f4-4ca0-a21f-e2103fcc154d"
      },
      "source": [
        "#### MONTO"
      ],
      "id": "479e8400-a8f4-4ca0-a21f-e2103fcc154d"
    },
    {
      "cell_type": "code",
      "metadata": {
        "id": "f6260719-4715-4d9e-b027-871e97f32e10"
      },
      "source": [
        "monto = df.groupby(['NOMBRE_TERCERO','IDENTIFICACION_TERCERO'])['SUBTOTAL'].sum()\n",
        "df_monto = pd.DataFrame(monto).reset_index()"
      ],
      "id": "f6260719-4715-4d9e-b027-871e97f32e10",
      "execution_count": 18,
      "outputs": []
    },
    {
      "cell_type": "code",
      "metadata": {
        "colab": {
          "base_uri": "https://localhost:8080/",
          "height": 419
        },
        "id": "57eb0f71-05cb-417f-9ae8-5b0c7a21dcc9",
        "outputId": "a6d393fb-17a7-4f59-cb64-3017f257d639"
      },
      "source": [
        "df_monto"
      ],
      "id": "57eb0f71-05cb-417f-9ae8-5b0c7a21dcc9",
      "execution_count": 19,
      "outputs": [
        {
          "output_type": "execute_result",
          "data": {
            "text/html": [
              "<div>\n",
              "<style scoped>\n",
              "    .dataframe tbody tr th:only-of-type {\n",
              "        vertical-align: middle;\n",
              "    }\n",
              "\n",
              "    .dataframe tbody tr th {\n",
              "        vertical-align: top;\n",
              "    }\n",
              "\n",
              "    .dataframe thead th {\n",
              "        text-align: right;\n",
              "    }\n",
              "</style>\n",
              "<table border=\"1\" class=\"dataframe\">\n",
              "  <thead>\n",
              "    <tr style=\"text-align: right;\">\n",
              "      <th></th>\n",
              "      <th>NOMBRE_TERCERO</th>\n",
              "      <th>IDENTIFICACION_TERCERO</th>\n",
              "      <th>SUBTOTAL</th>\n",
              "    </tr>\n",
              "  </thead>\n",
              "  <tbody>\n",
              "    <tr>\n",
              "      <th>0</th>\n",
              "      <td>\\tEDIFICIO PORTO ALEGRE - PROPIEDAD HORIZONTAL</td>\n",
              "      <td>900429009</td>\n",
              "      <td>4.956520e+05</td>\n",
              "    </tr>\n",
              "    <tr>\n",
              "      <th>1</th>\n",
              "      <td>ALCALA  HERNANDEZ PAOLA</td>\n",
              "      <td>1067842751</td>\n",
              "      <td>5.556092e+06</td>\n",
              "    </tr>\n",
              "    <tr>\n",
              "      <th>2</th>\n",
              "      <td>ALVAREZ  FERRER LUIS</td>\n",
              "      <td>6890908</td>\n",
              "      <td>5.436849e+06</td>\n",
              "    </tr>\n",
              "    <tr>\n",
              "      <th>3</th>\n",
              "      <td>BARBOSA  OSUNA MARINA</td>\n",
              "      <td>43692562</td>\n",
              "      <td>3.782276e+06</td>\n",
              "    </tr>\n",
              "    <tr>\n",
              "      <th>4</th>\n",
              "      <td>BELEÑO RAMBAO GLORIA</td>\n",
              "      <td>25872863</td>\n",
              "      <td>1.681639e+06</td>\n",
              "    </tr>\n",
              "    <tr>\n",
              "      <th>...</th>\n",
              "      <td>...</td>\n",
              "      <td>...</td>\n",
              "      <td>...</td>\n",
              "    </tr>\n",
              "    <tr>\n",
              "      <th>16588</th>\n",
              "      <td>ZUÑIGA HERRERA LADISLAO</td>\n",
              "      <td>78690273</td>\n",
              "      <td>1.568450e+06</td>\n",
              "    </tr>\n",
              "    <tr>\n",
              "      <th>16589</th>\n",
              "      <td>ZUÑIGA PEREZ ANGEL</td>\n",
              "      <td>6864474</td>\n",
              "      <td>4.602804e+05</td>\n",
              "    </tr>\n",
              "    <tr>\n",
              "      <th>16590</th>\n",
              "      <td>ZUÑIGA PEÑATE CESARDAVID</td>\n",
              "      <td>78705352</td>\n",
              "      <td>1.728300e+03</td>\n",
              "    </tr>\n",
              "    <tr>\n",
              "      <th>16591</th>\n",
              "      <td>ZUÑIGA RAMIRO</td>\n",
              "      <td>6874582</td>\n",
              "      <td>1.090714e+06</td>\n",
              "    </tr>\n",
              "    <tr>\n",
              "      <th>16592</th>\n",
              "      <td>ZUÑIGA SOLAR LUISMARIO</td>\n",
              "      <td>78698345</td>\n",
              "      <td>1.027365e+05</td>\n",
              "    </tr>\n",
              "  </tbody>\n",
              "</table>\n",
              "<p>16593 rows × 3 columns</p>\n",
              "</div>"
            ],
            "text/plain": [
              "                                       NOMBRE_TERCERO  ...      SUBTOTAL\n",
              "0      \\tEDIFICIO PORTO ALEGRE - PROPIEDAD HORIZONTAL  ...  4.956520e+05\n",
              "1                             ALCALA  HERNANDEZ PAOLA  ...  5.556092e+06\n",
              "2                                ALVAREZ  FERRER LUIS  ...  5.436849e+06\n",
              "3                               BARBOSA  OSUNA MARINA  ...  3.782276e+06\n",
              "4                              BELEÑO RAMBAO GLORIA    ...  1.681639e+06\n",
              "...                                               ...  ...           ...\n",
              "16588                         ZUÑIGA HERRERA LADISLAO  ...  1.568450e+06\n",
              "16589                              ZUÑIGA PEREZ ANGEL  ...  4.602804e+05\n",
              "16590                        ZUÑIGA PEÑATE CESARDAVID  ...  1.728300e+03\n",
              "16591                                   ZUÑIGA RAMIRO  ...  1.090714e+06\n",
              "16592                          ZUÑIGA SOLAR LUISMARIO  ...  1.027365e+05\n",
              "\n",
              "[16593 rows x 3 columns]"
            ]
          },
          "metadata": {},
          "execution_count": 19
        }
      ]
    },
    {
      "cell_type": "markdown",
      "metadata": {
        "id": "cab6b619-295e-47d2-924a-8da7008d0c34"
      },
      "source": [
        "#### DATASET RFM"
      ],
      "id": "cab6b619-295e-47d2-924a-8da7008d0c34"
    },
    {
      "cell_type": "code",
      "metadata": {
        "id": "237707da-8af1-486c-affc-0315ebe156d2"
      },
      "source": [
        "finaldf = df_freq.merge(df_monto).merge(df_recency)"
      ],
      "id": "237707da-8af1-486c-affc-0315ebe156d2",
      "execution_count": 20,
      "outputs": []
    },
    {
      "cell_type": "code",
      "metadata": {
        "colab": {
          "base_uri": "https://localhost:8080/",
          "height": 419
        },
        "id": "9fbd13a4-80c9-47db-94bd-e2a37de948a1",
        "outputId": "5ffaf538-c45b-4461-9d6b-f102fb3d19b0"
      },
      "source": [
        "finaldf"
      ],
      "id": "9fbd13a4-80c9-47db-94bd-e2a37de948a1",
      "execution_count": 21,
      "outputs": [
        {
          "output_type": "execute_result",
          "data": {
            "text/html": [
              "<div>\n",
              "<style scoped>\n",
              "    .dataframe tbody tr th:only-of-type {\n",
              "        vertical-align: middle;\n",
              "    }\n",
              "\n",
              "    .dataframe tbody tr th {\n",
              "        vertical-align: top;\n",
              "    }\n",
              "\n",
              "    .dataframe thead th {\n",
              "        text-align: right;\n",
              "    }\n",
              "</style>\n",
              "<table border=\"1\" class=\"dataframe\">\n",
              "  <thead>\n",
              "    <tr style=\"text-align: right;\">\n",
              "      <th></th>\n",
              "      <th>NOMBRE_TERCERO</th>\n",
              "      <th>IDENTIFICACION_TERCERO</th>\n",
              "      <th>FECHA_VENCIMIENTO</th>\n",
              "      <th>SUBTOTAL</th>\n",
              "      <th>recency</th>\n",
              "    </tr>\n",
              "  </thead>\n",
              "  <tbody>\n",
              "    <tr>\n",
              "      <th>0</th>\n",
              "      <td>\\tEDIFICIO PORTO ALEGRE - PROPIEDAD HORIZONTAL</td>\n",
              "      <td>900429009</td>\n",
              "      <td>7</td>\n",
              "      <td>4.956520e+05</td>\n",
              "      <td>548</td>\n",
              "    </tr>\n",
              "    <tr>\n",
              "      <th>1</th>\n",
              "      <td>ALCALA  HERNANDEZ PAOLA</td>\n",
              "      <td>1067842751</td>\n",
              "      <td>2</td>\n",
              "      <td>5.556092e+06</td>\n",
              "      <td>306</td>\n",
              "    </tr>\n",
              "    <tr>\n",
              "      <th>2</th>\n",
              "      <td>ALCALA  HERNANDEZ PAOLA</td>\n",
              "      <td>1067842751</td>\n",
              "      <td>2</td>\n",
              "      <td>5.556092e+06</td>\n",
              "      <td>164</td>\n",
              "    </tr>\n",
              "    <tr>\n",
              "      <th>3</th>\n",
              "      <td>ALVAREZ  FERRER LUIS</td>\n",
              "      <td>6890908</td>\n",
              "      <td>3</td>\n",
              "      <td>5.436849e+06</td>\n",
              "      <td>366</td>\n",
              "    </tr>\n",
              "    <tr>\n",
              "      <th>4</th>\n",
              "      <td>ALVAREZ  FERRER LUIS</td>\n",
              "      <td>6890908</td>\n",
              "      <td>3</td>\n",
              "      <td>5.436849e+06</td>\n",
              "      <td>365</td>\n",
              "    </tr>\n",
              "    <tr>\n",
              "      <th>...</th>\n",
              "      <td>...</td>\n",
              "      <td>...</td>\n",
              "      <td>...</td>\n",
              "      <td>...</td>\n",
              "      <td>...</td>\n",
              "    </tr>\n",
              "    <tr>\n",
              "      <th>64179</th>\n",
              "      <td>ZUÑIGA PEREZ ANGEL</td>\n",
              "      <td>6864474</td>\n",
              "      <td>7</td>\n",
              "      <td>4.602804e+05</td>\n",
              "      <td>157</td>\n",
              "    </tr>\n",
              "    <tr>\n",
              "      <th>64180</th>\n",
              "      <td>ZUÑIGA PEREZ ANGEL</td>\n",
              "      <td>6864474</td>\n",
              "      <td>7</td>\n",
              "      <td>4.602804e+05</td>\n",
              "      <td>144</td>\n",
              "    </tr>\n",
              "    <tr>\n",
              "      <th>64181</th>\n",
              "      <td>ZUÑIGA PEÑATE CESARDAVID</td>\n",
              "      <td>78705352</td>\n",
              "      <td>1</td>\n",
              "      <td>1.728300e+03</td>\n",
              "      <td>331</td>\n",
              "    </tr>\n",
              "    <tr>\n",
              "      <th>64182</th>\n",
              "      <td>ZUÑIGA RAMIRO</td>\n",
              "      <td>6874582</td>\n",
              "      <td>1</td>\n",
              "      <td>1.090714e+06</td>\n",
              "      <td>621</td>\n",
              "    </tr>\n",
              "    <tr>\n",
              "      <th>64183</th>\n",
              "      <td>ZUÑIGA SOLAR LUISMARIO</td>\n",
              "      <td>78698345</td>\n",
              "      <td>3</td>\n",
              "      <td>1.027365e+05</td>\n",
              "      <td>169</td>\n",
              "    </tr>\n",
              "  </tbody>\n",
              "</table>\n",
              "<p>64184 rows × 5 columns</p>\n",
              "</div>"
            ],
            "text/plain": [
              "                                       NOMBRE_TERCERO  ... recency\n",
              "0      \\tEDIFICIO PORTO ALEGRE - PROPIEDAD HORIZONTAL  ...     548\n",
              "1                             ALCALA  HERNANDEZ PAOLA  ...     306\n",
              "2                             ALCALA  HERNANDEZ PAOLA  ...     164\n",
              "3                                ALVAREZ  FERRER LUIS  ...     366\n",
              "4                                ALVAREZ  FERRER LUIS  ...     365\n",
              "...                                               ...  ...     ...\n",
              "64179                              ZUÑIGA PEREZ ANGEL  ...     157\n",
              "64180                              ZUÑIGA PEREZ ANGEL  ...     144\n",
              "64181                        ZUÑIGA PEÑATE CESARDAVID  ...     331\n",
              "64182                                   ZUÑIGA RAMIRO  ...     621\n",
              "64183                          ZUÑIGA SOLAR LUISMARIO  ...     169\n",
              "\n",
              "[64184 rows x 5 columns]"
            ]
          },
          "metadata": {},
          "execution_count": 21
        }
      ]
    },
    {
      "cell_type": "code",
      "metadata": {
        "colab": {
          "base_uri": "https://localhost:8080/"
        },
        "id": "e0c81e97-b934-4c5b-81ed-9add72cafc40",
        "outputId": "cf04c702-f2a7-48e2-b5e0-4fd0fe6f45b9"
      },
      "source": [
        "finaldf.columns"
      ],
      "id": "e0c81e97-b934-4c5b-81ed-9add72cafc40",
      "execution_count": 22,
      "outputs": [
        {
          "output_type": "execute_result",
          "data": {
            "text/plain": [
              "Index(['NOMBRE_TERCERO', 'IDENTIFICACION_TERCERO', 'FECHA_VENCIMIENTO',\n",
              "       'SUBTOTAL', 'recency'],\n",
              "      dtype='object')"
            ]
          },
          "metadata": {},
          "execution_count": 22
        }
      ]
    },
    {
      "cell_type": "code",
      "metadata": {
        "id": "pwPvWJ0WpJRP"
      },
      "source": [
        "df_final = finaldf.rename(columns={'NOMBRE_TERCERO': 'Nombre_cliente', 'IDENTIFICACION_TERCERO': 'id_cliente','FECHA_VENCIMIENTO': 'Frecuencia',\n",
        "       'SUBTOTAL': 'Monto', 'recency':'Recencia'})"
      ],
      "id": "pwPvWJ0WpJRP",
      "execution_count": 24,
      "outputs": []
    },
    {
      "cell_type": "code",
      "metadata": {
        "colab": {
          "base_uri": "https://localhost:8080/",
          "height": 204
        },
        "id": "mOfKn5c1pyAc",
        "outputId": "ceabaa3e-4ec9-433e-8c73-318e072c208a"
      },
      "source": [
        "df_final.head()"
      ],
      "id": "mOfKn5c1pyAc",
      "execution_count": 25,
      "outputs": [
        {
          "output_type": "execute_result",
          "data": {
            "text/html": [
              "<div>\n",
              "<style scoped>\n",
              "    .dataframe tbody tr th:only-of-type {\n",
              "        vertical-align: middle;\n",
              "    }\n",
              "\n",
              "    .dataframe tbody tr th {\n",
              "        vertical-align: top;\n",
              "    }\n",
              "\n",
              "    .dataframe thead th {\n",
              "        text-align: right;\n",
              "    }\n",
              "</style>\n",
              "<table border=\"1\" class=\"dataframe\">\n",
              "  <thead>\n",
              "    <tr style=\"text-align: right;\">\n",
              "      <th></th>\n",
              "      <th>Nombre_cliente</th>\n",
              "      <th>id_cliente</th>\n",
              "      <th>Frecuencia</th>\n",
              "      <th>Monto</th>\n",
              "      <th>Recencia</th>\n",
              "    </tr>\n",
              "  </thead>\n",
              "  <tbody>\n",
              "    <tr>\n",
              "      <th>0</th>\n",
              "      <td>\\tEDIFICIO PORTO ALEGRE - PROPIEDAD HORIZONTAL</td>\n",
              "      <td>900429009</td>\n",
              "      <td>7</td>\n",
              "      <td>4.956520e+05</td>\n",
              "      <td>548</td>\n",
              "    </tr>\n",
              "    <tr>\n",
              "      <th>1</th>\n",
              "      <td>ALCALA  HERNANDEZ PAOLA</td>\n",
              "      <td>1067842751</td>\n",
              "      <td>2</td>\n",
              "      <td>5.556092e+06</td>\n",
              "      <td>306</td>\n",
              "    </tr>\n",
              "    <tr>\n",
              "      <th>2</th>\n",
              "      <td>ALCALA  HERNANDEZ PAOLA</td>\n",
              "      <td>1067842751</td>\n",
              "      <td>2</td>\n",
              "      <td>5.556092e+06</td>\n",
              "      <td>164</td>\n",
              "    </tr>\n",
              "    <tr>\n",
              "      <th>3</th>\n",
              "      <td>ALVAREZ  FERRER LUIS</td>\n",
              "      <td>6890908</td>\n",
              "      <td>3</td>\n",
              "      <td>5.436849e+06</td>\n",
              "      <td>366</td>\n",
              "    </tr>\n",
              "    <tr>\n",
              "      <th>4</th>\n",
              "      <td>ALVAREZ  FERRER LUIS</td>\n",
              "      <td>6890908</td>\n",
              "      <td>3</td>\n",
              "      <td>5.436849e+06</td>\n",
              "      <td>365</td>\n",
              "    </tr>\n",
              "  </tbody>\n",
              "</table>\n",
              "</div>"
            ],
            "text/plain": [
              "                                   Nombre_cliente  ... Recencia\n",
              "0  \\tEDIFICIO PORTO ALEGRE - PROPIEDAD HORIZONTAL  ...      548\n",
              "1                         ALCALA  HERNANDEZ PAOLA  ...      306\n",
              "2                         ALCALA  HERNANDEZ PAOLA  ...      164\n",
              "3                            ALVAREZ  FERRER LUIS  ...      366\n",
              "4                            ALVAREZ  FERRER LUIS  ...      365\n",
              "\n",
              "[5 rows x 5 columns]"
            ]
          },
          "metadata": {},
          "execution_count": 25
        }
      ]
    },
    {
      "cell_type": "code",
      "metadata": {
        "id": "ZrTdhmOrp1b2"
      },
      "source": [
        "df_final['r_cuartil'] = pd.qcut(df_final['Recencia'], 4, ['1','2','3','4'])\n",
        "df_final['f_cuartil'] = pd.qcut(df_final['Frecuencia'], 4, ['4','3','2','1'])\n",
        "df_final['m_cuartil'] = pd.qcut(df_final['Monto'], 4, ['4','3','2','1'])"
      ],
      "id": "ZrTdhmOrp1b2",
      "execution_count": 28,
      "outputs": []
    },
    {
      "cell_type": "code",
      "metadata": {
        "colab": {
          "base_uri": "https://localhost:8080/",
          "height": 204
        },
        "id": "DGsWAlvqqccR",
        "outputId": "c6ac6db4-ee39-4904-f295-b85a59e84a12"
      },
      "source": [
        "df_final.head()"
      ],
      "id": "DGsWAlvqqccR",
      "execution_count": 29,
      "outputs": [
        {
          "output_type": "execute_result",
          "data": {
            "text/html": [
              "<div>\n",
              "<style scoped>\n",
              "    .dataframe tbody tr th:only-of-type {\n",
              "        vertical-align: middle;\n",
              "    }\n",
              "\n",
              "    .dataframe tbody tr th {\n",
              "        vertical-align: top;\n",
              "    }\n",
              "\n",
              "    .dataframe thead th {\n",
              "        text-align: right;\n",
              "    }\n",
              "</style>\n",
              "<table border=\"1\" class=\"dataframe\">\n",
              "  <thead>\n",
              "    <tr style=\"text-align: right;\">\n",
              "      <th></th>\n",
              "      <th>Nombre_cliente</th>\n",
              "      <th>id_cliente</th>\n",
              "      <th>Frecuencia</th>\n",
              "      <th>Monto</th>\n",
              "      <th>Recencia</th>\n",
              "      <th>r_cuartil</th>\n",
              "      <th>f_cuartil</th>\n",
              "      <th>m_cuartil</th>\n",
              "    </tr>\n",
              "  </thead>\n",
              "  <tbody>\n",
              "    <tr>\n",
              "      <th>0</th>\n",
              "      <td>\\tEDIFICIO PORTO ALEGRE - PROPIEDAD HORIZONTAL</td>\n",
              "      <td>900429009</td>\n",
              "      <td>7</td>\n",
              "      <td>4.956520e+05</td>\n",
              "      <td>548</td>\n",
              "      <td>4</td>\n",
              "      <td>4</td>\n",
              "      <td>4</td>\n",
              "    </tr>\n",
              "    <tr>\n",
              "      <th>1</th>\n",
              "      <td>ALCALA  HERNANDEZ PAOLA</td>\n",
              "      <td>1067842751</td>\n",
              "      <td>2</td>\n",
              "      <td>5.556092e+06</td>\n",
              "      <td>306</td>\n",
              "      <td>2</td>\n",
              "      <td>4</td>\n",
              "      <td>3</td>\n",
              "    </tr>\n",
              "    <tr>\n",
              "      <th>2</th>\n",
              "      <td>ALCALA  HERNANDEZ PAOLA</td>\n",
              "      <td>1067842751</td>\n",
              "      <td>2</td>\n",
              "      <td>5.556092e+06</td>\n",
              "      <td>164</td>\n",
              "      <td>2</td>\n",
              "      <td>4</td>\n",
              "      <td>3</td>\n",
              "    </tr>\n",
              "    <tr>\n",
              "      <th>3</th>\n",
              "      <td>ALVAREZ  FERRER LUIS</td>\n",
              "      <td>6890908</td>\n",
              "      <td>3</td>\n",
              "      <td>5.436849e+06</td>\n",
              "      <td>366</td>\n",
              "      <td>3</td>\n",
              "      <td>4</td>\n",
              "      <td>3</td>\n",
              "    </tr>\n",
              "    <tr>\n",
              "      <th>4</th>\n",
              "      <td>ALVAREZ  FERRER LUIS</td>\n",
              "      <td>6890908</td>\n",
              "      <td>3</td>\n",
              "      <td>5.436849e+06</td>\n",
              "      <td>365</td>\n",
              "      <td>3</td>\n",
              "      <td>4</td>\n",
              "      <td>3</td>\n",
              "    </tr>\n",
              "  </tbody>\n",
              "</table>\n",
              "</div>"
            ],
            "text/plain": [
              "                                   Nombre_cliente  ... m_cuartil\n",
              "0  \\tEDIFICIO PORTO ALEGRE - PROPIEDAD HORIZONTAL  ...         4\n",
              "1                         ALCALA  HERNANDEZ PAOLA  ...         3\n",
              "2                         ALCALA  HERNANDEZ PAOLA  ...         3\n",
              "3                            ALVAREZ  FERRER LUIS  ...         3\n",
              "4                            ALVAREZ  FERRER LUIS  ...         3\n",
              "\n",
              "[5 rows x 8 columns]"
            ]
          },
          "metadata": {},
          "execution_count": 29
        }
      ]
    },
    {
      "cell_type": "code",
      "metadata": {
        "colab": {
          "base_uri": "https://localhost:8080/",
          "height": 204
        },
        "id": "-YNTIE4yqnA5",
        "outputId": "d93fad11-b40c-43f1-c8b6-09989514316e"
      },
      "source": [
        "df_final['RFM_Score'] = df_final['r_cuartil'].astype(str)+ df_final['f_cuartil'].astype(str) + df_final['m_cuartil'].astype(str)\n",
        "df_final.head()"
      ],
      "id": "-YNTIE4yqnA5",
      "execution_count": 30,
      "outputs": [
        {
          "output_type": "execute_result",
          "data": {
            "text/html": [
              "<div>\n",
              "<style scoped>\n",
              "    .dataframe tbody tr th:only-of-type {\n",
              "        vertical-align: middle;\n",
              "    }\n",
              "\n",
              "    .dataframe tbody tr th {\n",
              "        vertical-align: top;\n",
              "    }\n",
              "\n",
              "    .dataframe thead th {\n",
              "        text-align: right;\n",
              "    }\n",
              "</style>\n",
              "<table border=\"1\" class=\"dataframe\">\n",
              "  <thead>\n",
              "    <tr style=\"text-align: right;\">\n",
              "      <th></th>\n",
              "      <th>Nombre_cliente</th>\n",
              "      <th>id_cliente</th>\n",
              "      <th>Frecuencia</th>\n",
              "      <th>Monto</th>\n",
              "      <th>Recencia</th>\n",
              "      <th>r_cuartil</th>\n",
              "      <th>f_cuartil</th>\n",
              "      <th>m_cuartil</th>\n",
              "      <th>RFM_Score</th>\n",
              "    </tr>\n",
              "  </thead>\n",
              "  <tbody>\n",
              "    <tr>\n",
              "      <th>0</th>\n",
              "      <td>\\tEDIFICIO PORTO ALEGRE - PROPIEDAD HORIZONTAL</td>\n",
              "      <td>900429009</td>\n",
              "      <td>7</td>\n",
              "      <td>4.956520e+05</td>\n",
              "      <td>548</td>\n",
              "      <td>4</td>\n",
              "      <td>4</td>\n",
              "      <td>4</td>\n",
              "      <td>444</td>\n",
              "    </tr>\n",
              "    <tr>\n",
              "      <th>1</th>\n",
              "      <td>ALCALA  HERNANDEZ PAOLA</td>\n",
              "      <td>1067842751</td>\n",
              "      <td>2</td>\n",
              "      <td>5.556092e+06</td>\n",
              "      <td>306</td>\n",
              "      <td>2</td>\n",
              "      <td>4</td>\n",
              "      <td>3</td>\n",
              "      <td>243</td>\n",
              "    </tr>\n",
              "    <tr>\n",
              "      <th>2</th>\n",
              "      <td>ALCALA  HERNANDEZ PAOLA</td>\n",
              "      <td>1067842751</td>\n",
              "      <td>2</td>\n",
              "      <td>5.556092e+06</td>\n",
              "      <td>164</td>\n",
              "      <td>2</td>\n",
              "      <td>4</td>\n",
              "      <td>3</td>\n",
              "      <td>243</td>\n",
              "    </tr>\n",
              "    <tr>\n",
              "      <th>3</th>\n",
              "      <td>ALVAREZ  FERRER LUIS</td>\n",
              "      <td>6890908</td>\n",
              "      <td>3</td>\n",
              "      <td>5.436849e+06</td>\n",
              "      <td>366</td>\n",
              "      <td>3</td>\n",
              "      <td>4</td>\n",
              "      <td>3</td>\n",
              "      <td>343</td>\n",
              "    </tr>\n",
              "    <tr>\n",
              "      <th>4</th>\n",
              "      <td>ALVAREZ  FERRER LUIS</td>\n",
              "      <td>6890908</td>\n",
              "      <td>3</td>\n",
              "      <td>5.436849e+06</td>\n",
              "      <td>365</td>\n",
              "      <td>3</td>\n",
              "      <td>4</td>\n",
              "      <td>3</td>\n",
              "      <td>343</td>\n",
              "    </tr>\n",
              "  </tbody>\n",
              "</table>\n",
              "</div>"
            ],
            "text/plain": [
              "                                   Nombre_cliente  ... RFM_Score\n",
              "0  \\tEDIFICIO PORTO ALEGRE - PROPIEDAD HORIZONTAL  ...       444\n",
              "1                         ALCALA  HERNANDEZ PAOLA  ...       243\n",
              "2                         ALCALA  HERNANDEZ PAOLA  ...       243\n",
              "3                            ALVAREZ  FERRER LUIS  ...       343\n",
              "4                            ALVAREZ  FERRER LUIS  ...       343\n",
              "\n",
              "[5 rows x 9 columns]"
            ]
          },
          "metadata": {},
          "execution_count": 30
        }
      ]
    },
    {
      "cell_type": "code",
      "metadata": {
        "id": "Gco_Gv8dsdmL"
      },
      "source": [
        "df_final.to_csv('df_final_rfm.csv', index=False)"
      ],
      "id": "Gco_Gv8dsdmL",
      "execution_count": 34,
      "outputs": []
    },
    {
      "cell_type": "code",
      "metadata": {
        "colab": {
          "base_uri": "https://localhost:8080/",
          "height": 204
        },
        "id": "pxKzrPOIq_1K",
        "outputId": "9ec2dd79-d9f9-4b7a-c2bd-638a3759810c"
      },
      "source": [
        "# Filter out Top/Best cusotmers\n",
        "df_final[df_final['RFM_Score']=='111'].sort_values('Monto', ascending=False).head()"
      ],
      "id": "pxKzrPOIq_1K",
      "execution_count": 33,
      "outputs": [
        {
          "output_type": "execute_result",
          "data": {
            "text/html": [
              "<div>\n",
              "<style scoped>\n",
              "    .dataframe tbody tr th:only-of-type {\n",
              "        vertical-align: middle;\n",
              "    }\n",
              "\n",
              "    .dataframe tbody tr th {\n",
              "        vertical-align: top;\n",
              "    }\n",
              "\n",
              "    .dataframe thead th {\n",
              "        text-align: right;\n",
              "    }\n",
              "</style>\n",
              "<table border=\"1\" class=\"dataframe\">\n",
              "  <thead>\n",
              "    <tr style=\"text-align: right;\">\n",
              "      <th></th>\n",
              "      <th>Nombre_cliente</th>\n",
              "      <th>id_cliente</th>\n",
              "      <th>Frecuencia</th>\n",
              "      <th>Monto</th>\n",
              "      <th>Recencia</th>\n",
              "      <th>r_cuartil</th>\n",
              "      <th>f_cuartil</th>\n",
              "      <th>m_cuartil</th>\n",
              "      <th>RFM_Score</th>\n",
              "    </tr>\n",
              "  </thead>\n",
              "  <tbody>\n",
              "    <tr>\n",
              "      <th>12486</th>\n",
              "      <td>CONSORCIO AQUA DE ORO</td>\n",
              "      <td>901332047</td>\n",
              "      <td>359</td>\n",
              "      <td>1.338188e+09</td>\n",
              "      <td>149</td>\n",
              "      <td>1</td>\n",
              "      <td>1</td>\n",
              "      <td>1</td>\n",
              "      <td>111</td>\n",
              "    </tr>\n",
              "    <tr>\n",
              "      <th>12482</th>\n",
              "      <td>CONSORCIO AQUA DE ORO</td>\n",
              "      <td>901332047</td>\n",
              "      <td>359</td>\n",
              "      <td>1.338188e+09</td>\n",
              "      <td>131</td>\n",
              "      <td>1</td>\n",
              "      <td>1</td>\n",
              "      <td>1</td>\n",
              "      <td>111</td>\n",
              "    </tr>\n",
              "    <tr>\n",
              "      <th>12484</th>\n",
              "      <td>CONSORCIO AQUA DE ORO</td>\n",
              "      <td>901332047</td>\n",
              "      <td>359</td>\n",
              "      <td>1.338188e+09</td>\n",
              "      <td>136</td>\n",
              "      <td>1</td>\n",
              "      <td>1</td>\n",
              "      <td>1</td>\n",
              "      <td>111</td>\n",
              "    </tr>\n",
              "    <tr>\n",
              "      <th>12483</th>\n",
              "      <td>CONSORCIO AQUA DE ORO</td>\n",
              "      <td>901332047</td>\n",
              "      <td>359</td>\n",
              "      <td>1.338188e+09</td>\n",
              "      <td>154</td>\n",
              "      <td>1</td>\n",
              "      <td>1</td>\n",
              "      <td>1</td>\n",
              "      <td>111</td>\n",
              "    </tr>\n",
              "    <tr>\n",
              "      <th>12489</th>\n",
              "      <td>CONSORCIO AQUA DE ORO</td>\n",
              "      <td>901332047</td>\n",
              "      <td>359</td>\n",
              "      <td>1.338188e+09</td>\n",
              "      <td>135</td>\n",
              "      <td>1</td>\n",
              "      <td>1</td>\n",
              "      <td>1</td>\n",
              "      <td>111</td>\n",
              "    </tr>\n",
              "  </tbody>\n",
              "</table>\n",
              "</div>"
            ],
            "text/plain": [
              "              Nombre_cliente id_cliente  ...  m_cuartil  RFM_Score\n",
              "12486  CONSORCIO AQUA DE ORO  901332047  ...          1        111\n",
              "12482  CONSORCIO AQUA DE ORO  901332047  ...          1        111\n",
              "12484  CONSORCIO AQUA DE ORO  901332047  ...          1        111\n",
              "12483  CONSORCIO AQUA DE ORO  901332047  ...          1        111\n",
              "12489  CONSORCIO AQUA DE ORO  901332047  ...          1        111\n",
              "\n",
              "[5 rows x 9 columns]"
            ]
          },
          "metadata": {},
          "execution_count": 33
        }
      ]
    },
    {
      "cell_type": "code",
      "metadata": {
        "id": "UaWbI9zArN7R"
      },
      "source": [
        ""
      ],
      "id": "UaWbI9zArN7R",
      "execution_count": null,
      "outputs": []
    }
  ]
}