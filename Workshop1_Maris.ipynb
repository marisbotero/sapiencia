{
  "nbformat": 4,
  "nbformat_minor": 5,
  "metadata": {
    "kernelspec": {
      "display_name": "Python 3",
      "language": "python",
      "name": "python3"
    },
    "language_info": {
      "codemirror_mode": {
        "name": "ipython",
        "version": 3
      },
      "file_extension": ".py",
      "mimetype": "text/x-python",
      "name": "python",
      "nbconvert_exporter": "python",
      "pygments_lexer": "ipython3",
      "version": "3.9.5"
    },
    "colab": {
      "name": "Workshop1_Maris.ipynb",
      "provenance": [],
      "include_colab_link": true
    }
  },
  "cells": [
    {
      "cell_type": "markdown",
      "metadata": {
        "id": "view-in-github",
        "colab_type": "text"
      },
      "source": [
        "<a href=\"https://colab.research.google.com/github/marisbotero/sapiencia/blob/main/Workshop1_Maris.ipynb\" target=\"_parent\"><img src=\"https://colab.research.google.com/assets/colab-badge.svg\" alt=\"Open In Colab\"/></a>"
      ]
    },
    {
      "cell_type": "code",
      "metadata": {
        "id": "88926dc1"
      },
      "source": [
        "import pandas as pd\n",
        "import numpy as np"
      ],
      "id": "88926dc1",
      "execution_count": 1,
      "outputs": []
    },
    {
      "cell_type": "markdown",
      "metadata": {
        "id": "1cedc4ca"
      },
      "source": [
        "## Basic python operations"
      ],
      "id": "1cedc4ca"
    },
    {
      "cell_type": "markdown",
      "metadata": {
        "id": "5cbcef74"
      },
      "source": [
        "* https://www.hackerrank.com/challenges/py-if-else/problem?h_r=internal-search"
      ],
      "id": "5cbcef74"
    },
    {
      "cell_type": "markdown",
      "metadata": {
        "id": "4e2a5da1"
      },
      "source": [
        "* https://www.hackerrank.com/challenges/python-arithmetic-operators/problem"
      ],
      "id": "4e2a5da1"
    },
    {
      "cell_type": "markdown",
      "metadata": {
        "id": "4c17747d"
      },
      "source": [
        "* https://www.hackerrank.com/challenges/python-division/problem"
      ],
      "id": "4c17747d"
    },
    {
      "cell_type": "markdown",
      "metadata": {
        "id": "fce38653"
      },
      "source": [
        "* https://www.hackerrank.com/challenges/python-loops/problem"
      ],
      "id": "fce38653"
    },
    {
      "cell_type": "markdown",
      "metadata": {
        "id": "bebe62c6"
      },
      "source": [
        "## Basic python structures"
      ],
      "id": "bebe62c6"
    },
    {
      "cell_type": "markdown",
      "metadata": {
        "id": "411c2ebf"
      },
      "source": [
        "* https://www.hackerrank.com/challenges/python-lists/problem"
      ],
      "id": "411c2ebf"
    },
    {
      "cell_type": "markdown",
      "metadata": {
        "id": "6eeea4d0"
      },
      "source": [
        "* https://www.hackerrank.com/challenges/find-second-maximum-number-in-a-list/problem"
      ],
      "id": "6eeea4d0"
    },
    {
      "cell_type": "markdown",
      "metadata": {
        "id": "bf4d2376"
      },
      "source": [
        "* https://www.hackerrank.com/challenges/nested-list/problem"
      ],
      "id": "bf4d2376"
    },
    {
      "cell_type": "markdown",
      "metadata": {
        "id": "c2ae091f"
      },
      "source": [
        "## Numpy"
      ],
      "id": "c2ae091f"
    },
    {
      "cell_type": "markdown",
      "metadata": {
        "id": "3a78cc26"
      },
      "source": [
        "* Create a null vector of size 10 (★☆☆)"
      ],
      "id": "3a78cc26"
    },
    {
      "cell_type": "code",
      "metadata": {
        "colab": {
          "base_uri": "https://localhost:8080/"
        },
        "id": "b2a32025",
        "outputId": "01a586f5-186e-48e4-cce9-44a64f1c6807"
      },
      "source": [
        "x = np.zeros(10)\n",
        "(x)"
      ],
      "id": "b2a32025",
      "execution_count": 2,
      "outputs": [
        {
          "output_type": "execute_result",
          "data": {
            "text/plain": [
              "array([0., 0., 0., 0., 0., 0., 0., 0., 0., 0.])"
            ]
          },
          "metadata": {
            "tags": []
          },
          "execution_count": 2
        }
      ]
    },
    {
      "cell_type": "markdown",
      "metadata": {
        "id": "1c00fa44"
      },
      "source": [
        "* Reverse a vector (first element becomes last) (★☆☆)"
      ],
      "id": "1c00fa44"
    },
    {
      "cell_type": "code",
      "metadata": {
        "colab": {
          "base_uri": "https://localhost:8080/"
        },
        "id": "3561ca9f",
        "outputId": "30541fbc-0143-4b5a-a944-3676d70ad4c2"
      },
      "source": [
        "x = np.arange(12, 38)\n",
        "print(\"Original vector:\")\n",
        "print(x)\n",
        "print(\"Reverse vector:\")\n",
        "x = x[::-1]\n",
        "print(x)"
      ],
      "id": "3561ca9f",
      "execution_count": 3,
      "outputs": [
        {
          "output_type": "stream",
          "text": [
            "Original vector:\n",
            "[12 13 14 15 16 17 18 19 20 21 22 23 24 25 26 27 28 29 30 31 32 33 34 35\n",
            " 36 37]\n",
            "Reverse vector:\n",
            "[37 36 35 34 33 32 31 30 29 28 27 26 25 24 23 22 21 20 19 18 17 16 15 14\n",
            " 13 12]\n"
          ],
          "name": "stdout"
        }
      ]
    },
    {
      "cell_type": "markdown",
      "metadata": {
        "id": "5f09a28a"
      },
      "source": [
        "* Find indices of non-zero elements from [1,2,0,0,4,0] (★☆☆)"
      ],
      "id": "5f09a28a"
    },
    {
      "cell_type": "code",
      "metadata": {
        "id": "36ee5a17",
        "colab": {
          "base_uri": "https://localhost:8080/"
        },
        "outputId": "c298b2c2-4df3-46f4-f385-15cf99b08651"
      },
      "source": [
        "x = np.array([1,2,0,0,4,0] )\n",
        "m =np.nonzero(x)\n",
        "print (\"Indices of non zero elements : \", m) "
      ],
      "id": "36ee5a17",
      "execution_count": 32,
      "outputs": [
        {
          "output_type": "stream",
          "text": [
            "Indices of non zero elements :  (array([0, 1, 4]),)\n"
          ],
          "name": "stdout"
        }
      ]
    },
    {
      "cell_type": "markdown",
      "metadata": {
        "id": "61b2d89b"
      },
      "source": [
        "* Create a 3x3 identity matrix (★☆☆)"
      ],
      "id": "61b2d89b"
    },
    {
      "cell_type": "code",
      "metadata": {
        "colab": {
          "base_uri": "https://localhost:8080/"
        },
        "id": "c9997739",
        "outputId": "dce62bbf-cff1-4091-e446-4e535db721f6"
      },
      "source": [
        "m=np.identity(3)\n",
        "m"
      ],
      "id": "c9997739",
      "execution_count": 4,
      "outputs": [
        {
          "output_type": "execute_result",
          "data": {
            "text/plain": [
              "array([[1., 0., 0.],\n",
              "       [0., 1., 0.],\n",
              "       [0., 0., 1.]])"
            ]
          },
          "metadata": {
            "tags": []
          },
          "execution_count": 4
        }
      ]
    },
    {
      "cell_type": "markdown",
      "metadata": {
        "id": "6a465823"
      },
      "source": [
        "* Create a 10x10 array with random values and find the minimum and maximum values (★☆☆)"
      ],
      "id": "6a465823"
    },
    {
      "cell_type": "code",
      "metadata": {
        "colab": {
          "base_uri": "https://localhost:8080/"
        },
        "id": "8fff5657",
        "outputId": "03e10ffb-45d3-4e92-b58e-1152e8333335"
      },
      "source": [
        "x = np.random.random((10,10))\n",
        "print(\"Original :\")\n",
        "print(x) \n",
        "xmin, xmax = x.min(), x.max()\n",
        "print(\"Minimum and Maximum Values:\")\n",
        "print(xmin, xmax)"
      ],
      "id": "8fff5657",
      "execution_count": 5,
      "outputs": [
        {
          "output_type": "stream",
          "text": [
            "Original :\n",
            "[[0.21763369 0.93294363 0.87406119 0.46830052 0.0830411  0.33102995\n",
            "  0.32646778 0.93551298 0.43301198 0.57648483]\n",
            " [0.15858698 0.78991928 0.75524607 0.45458163 0.70514622 0.14565277\n",
            "  0.08159451 0.04837724 0.46280682 0.45690985]\n",
            " [0.73673919 0.79980208 0.29788933 0.06013222 0.19365061 0.8077359\n",
            "  0.73453127 0.16754343 0.47955567 0.76398971]\n",
            " [0.69014608 0.11424932 0.96259942 0.6218606  0.90854024 0.44636129\n",
            "  0.03856989 0.31994127 0.12951292 0.49746036]\n",
            " [0.52916205 0.09269403 0.07724758 0.36496095 0.80347642 0.13023112\n",
            "  0.1454765  0.38310914 0.15067229 0.79679158]\n",
            " [0.1241686  0.31751806 0.61255166 0.53163459 0.4101125  0.14335193\n",
            "  0.1708722  0.11122491 0.93254265 0.78343301]\n",
            " [0.94044909 0.00246997 0.02304715 0.295381   0.19104786 0.71829543\n",
            "  0.68095399 0.15573067 0.64010565 0.84693219]\n",
            " [0.20841008 0.50570182 0.64278759 0.20203023 0.47468934 0.72545278\n",
            "  0.71029084 0.8725094  0.5223389  0.23889039]\n",
            " [0.33491636 0.15144552 0.03773845 0.79194971 0.39362575 0.87922503\n",
            "  0.49985656 0.81470785 0.34393766 0.97404476]\n",
            " [0.72082574 0.5824407  0.2815521  0.82050744 0.29768649 0.50090859\n",
            "  0.36195501 0.12158843 0.26186783 0.03417303]]\n",
            "Minimum and Maximum Values:\n",
            "0.0024699731466406583 0.9740447562688302\n"
          ],
          "name": "stdout"
        }
      ]
    },
    {
      "cell_type": "markdown",
      "metadata": {
        "id": "855b6698"
      },
      "source": [
        "## Pandas"
      ],
      "id": "855b6698"
    },
    {
      "cell_type": "markdown",
      "metadata": {
        "id": "fc072f8a"
      },
      "source": [
        "Consider the following Python dictionary data and Python list labels"
      ],
      "id": "fc072f8a"
    },
    {
      "cell_type": "code",
      "metadata": {
        "id": "9726d8bb"
      },
      "source": [
        "data = {'animal': ['cat', 'cat', 'snake', 'dog', 'dog', 'cat', 'snake', 'cat', 'dog', 'dog'],\n",
        "        'age': [2.5, 3, 0.5, np.nan, 5, 2, 4.5, np.nan, 7, 3],\n",
        "        'visits': [1, 3, 2, 3, 2, 3, 1, 1, 2, 1],\n",
        "        'priority': ['yes', 'yes', 'no', 'yes', 'no', 'no', 'no', 'yes', 'no', 'no']}\n",
        "\n",
        "labels = ['a', 'b', 'c', 'd', 'e', 'f', 'g', 'h', 'i', 'j']"
      ],
      "id": "9726d8bb",
      "execution_count": 6,
      "outputs": []
    },
    {
      "cell_type": "markdown",
      "metadata": {
        "id": "322440c8"
      },
      "source": [
        "* Create a DataFrame df from this dictionary data which has the index labels"
      ],
      "id": "322440c8"
    },
    {
      "cell_type": "code",
      "metadata": {
        "id": "5b562000",
        "colab": {
          "base_uri": "https://localhost:8080/"
        },
        "outputId": "1093de06-f370-4054-eb1a-8326760147ed"
      },
      "source": [
        "df = pd.DataFrame(data , index=labels)\n",
        "print(df)"
      ],
      "id": "5b562000",
      "execution_count": 7,
      "outputs": [
        {
          "output_type": "stream",
          "text": [
            "  animal  age  visits priority\n",
            "a    cat  2.5       1      yes\n",
            "b    cat  3.0       3      yes\n",
            "c  snake  0.5       2       no\n",
            "d    dog  NaN       3      yes\n",
            "e    dog  5.0       2       no\n",
            "f    cat  2.0       3       no\n",
            "g  snake  4.5       1       no\n",
            "h    cat  NaN       1      yes\n",
            "i    dog  7.0       2       no\n",
            "j    dog  3.0       1       no\n"
          ],
          "name": "stdout"
        }
      ]
    },
    {
      "cell_type": "markdown",
      "metadata": {
        "id": "6a98124b"
      },
      "source": [
        "* Display a summary of the basic information about this DataFrame and its data (hint: there is a single method that can be called on the DataFrame 'describe')"
      ],
      "id": "6a98124b"
    },
    {
      "cell_type": "code",
      "metadata": {
        "id": "bef1b4d7",
        "colab": {
          "base_uri": "https://localhost:8080/",
          "height": 297
        },
        "outputId": "0dff7bad-3715-4b48-96c9-0f2666303400"
      },
      "source": [
        "#df.info()\n",
        "df.describe()"
      ],
      "id": "bef1b4d7",
      "execution_count": 13,
      "outputs": [
        {
          "output_type": "execute_result",
          "data": {
            "text/html": [
              "<div>\n",
              "<style scoped>\n",
              "    .dataframe tbody tr th:only-of-type {\n",
              "        vertical-align: middle;\n",
              "    }\n",
              "\n",
              "    .dataframe tbody tr th {\n",
              "        vertical-align: top;\n",
              "    }\n",
              "\n",
              "    .dataframe thead th {\n",
              "        text-align: right;\n",
              "    }\n",
              "</style>\n",
              "<table border=\"1\" class=\"dataframe\">\n",
              "  <thead>\n",
              "    <tr style=\"text-align: right;\">\n",
              "      <th></th>\n",
              "      <th>age</th>\n",
              "      <th>visits</th>\n",
              "    </tr>\n",
              "  </thead>\n",
              "  <tbody>\n",
              "    <tr>\n",
              "      <th>count</th>\n",
              "      <td>8.000000</td>\n",
              "      <td>10.000000</td>\n",
              "    </tr>\n",
              "    <tr>\n",
              "      <th>mean</th>\n",
              "      <td>3.437500</td>\n",
              "      <td>1.900000</td>\n",
              "    </tr>\n",
              "    <tr>\n",
              "      <th>std</th>\n",
              "      <td>2.007797</td>\n",
              "      <td>0.875595</td>\n",
              "    </tr>\n",
              "    <tr>\n",
              "      <th>min</th>\n",
              "      <td>0.500000</td>\n",
              "      <td>1.000000</td>\n",
              "    </tr>\n",
              "    <tr>\n",
              "      <th>25%</th>\n",
              "      <td>2.375000</td>\n",
              "      <td>1.000000</td>\n",
              "    </tr>\n",
              "    <tr>\n",
              "      <th>50%</th>\n",
              "      <td>3.000000</td>\n",
              "      <td>2.000000</td>\n",
              "    </tr>\n",
              "    <tr>\n",
              "      <th>75%</th>\n",
              "      <td>4.625000</td>\n",
              "      <td>2.750000</td>\n",
              "    </tr>\n",
              "    <tr>\n",
              "      <th>max</th>\n",
              "      <td>7.000000</td>\n",
              "      <td>3.000000</td>\n",
              "    </tr>\n",
              "  </tbody>\n",
              "</table>\n",
              "</div>"
            ],
            "text/plain": [
              "            age     visits\n",
              "count  8.000000  10.000000\n",
              "mean   3.437500   1.900000\n",
              "std    2.007797   0.875595\n",
              "min    0.500000   1.000000\n",
              "25%    2.375000   1.000000\n",
              "50%    3.000000   2.000000\n",
              "75%    4.625000   2.750000\n",
              "max    7.000000   3.000000"
            ]
          },
          "metadata": {
            "tags": []
          },
          "execution_count": 13
        }
      ]
    },
    {
      "cell_type": "markdown",
      "metadata": {
        "id": "9c101946"
      },
      "source": [
        "* Return the first 3 rows of the DataFrame df"
      ],
      "id": "9c101946"
    },
    {
      "cell_type": "code",
      "metadata": {
        "id": "88d5c97c",
        "colab": {
          "base_uri": "https://localhost:8080/",
          "height": 142
        },
        "outputId": "3b913802-71d0-423c-c5dc-f2ae3597b28e"
      },
      "source": [
        "df.iloc[:3]"
      ],
      "id": "88d5c97c",
      "execution_count": 14,
      "outputs": [
        {
          "output_type": "execute_result",
          "data": {
            "text/html": [
              "<div>\n",
              "<style scoped>\n",
              "    .dataframe tbody tr th:only-of-type {\n",
              "        vertical-align: middle;\n",
              "    }\n",
              "\n",
              "    .dataframe tbody tr th {\n",
              "        vertical-align: top;\n",
              "    }\n",
              "\n",
              "    .dataframe thead th {\n",
              "        text-align: right;\n",
              "    }\n",
              "</style>\n",
              "<table border=\"1\" class=\"dataframe\">\n",
              "  <thead>\n",
              "    <tr style=\"text-align: right;\">\n",
              "      <th></th>\n",
              "      <th>animal</th>\n",
              "      <th>age</th>\n",
              "      <th>visits</th>\n",
              "      <th>priority</th>\n",
              "    </tr>\n",
              "  </thead>\n",
              "  <tbody>\n",
              "    <tr>\n",
              "      <th>a</th>\n",
              "      <td>cat</td>\n",
              "      <td>2.5</td>\n",
              "      <td>1</td>\n",
              "      <td>yes</td>\n",
              "    </tr>\n",
              "    <tr>\n",
              "      <th>b</th>\n",
              "      <td>cat</td>\n",
              "      <td>3.0</td>\n",
              "      <td>3</td>\n",
              "      <td>yes</td>\n",
              "    </tr>\n",
              "    <tr>\n",
              "      <th>c</th>\n",
              "      <td>snake</td>\n",
              "      <td>0.5</td>\n",
              "      <td>2</td>\n",
              "      <td>no</td>\n",
              "    </tr>\n",
              "  </tbody>\n",
              "</table>\n",
              "</div>"
            ],
            "text/plain": [
              "  animal  age  visits priority\n",
              "a    cat  2.5       1      yes\n",
              "b    cat  3.0       3      yes\n",
              "c  snake  0.5       2       no"
            ]
          },
          "metadata": {
            "tags": []
          },
          "execution_count": 14
        }
      ]
    },
    {
      "cell_type": "markdown",
      "metadata": {
        "id": "4822c294"
      },
      "source": [
        "* Select just the 'animal' and 'age' columns from the DataFrame df"
      ],
      "id": "4822c294"
    },
    {
      "cell_type": "code",
      "metadata": {
        "id": "fbced56d",
        "colab": {
          "base_uri": "https://localhost:8080/",
          "height": 359
        },
        "outputId": "45c69eb4-a5f6-4cd9-d1c6-a2e2a4653097"
      },
      "source": [
        "df[['animal', 'age']]"
      ],
      "id": "fbced56d",
      "execution_count": 20,
      "outputs": [
        {
          "output_type": "execute_result",
          "data": {
            "text/html": [
              "<div>\n",
              "<style scoped>\n",
              "    .dataframe tbody tr th:only-of-type {\n",
              "        vertical-align: middle;\n",
              "    }\n",
              "\n",
              "    .dataframe tbody tr th {\n",
              "        vertical-align: top;\n",
              "    }\n",
              "\n",
              "    .dataframe thead th {\n",
              "        text-align: right;\n",
              "    }\n",
              "</style>\n",
              "<table border=\"1\" class=\"dataframe\">\n",
              "  <thead>\n",
              "    <tr style=\"text-align: right;\">\n",
              "      <th></th>\n",
              "      <th>animal</th>\n",
              "      <th>age</th>\n",
              "    </tr>\n",
              "  </thead>\n",
              "  <tbody>\n",
              "    <tr>\n",
              "      <th>a</th>\n",
              "      <td>cat</td>\n",
              "      <td>2.5</td>\n",
              "    </tr>\n",
              "    <tr>\n",
              "      <th>b</th>\n",
              "      <td>cat</td>\n",
              "      <td>3.0</td>\n",
              "    </tr>\n",
              "    <tr>\n",
              "      <th>c</th>\n",
              "      <td>snake</td>\n",
              "      <td>0.5</td>\n",
              "    </tr>\n",
              "    <tr>\n",
              "      <th>d</th>\n",
              "      <td>dog</td>\n",
              "      <td>NaN</td>\n",
              "    </tr>\n",
              "    <tr>\n",
              "      <th>e</th>\n",
              "      <td>dog</td>\n",
              "      <td>5.0</td>\n",
              "    </tr>\n",
              "    <tr>\n",
              "      <th>f</th>\n",
              "      <td>cat</td>\n",
              "      <td>2.0</td>\n",
              "    </tr>\n",
              "    <tr>\n",
              "      <th>g</th>\n",
              "      <td>snake</td>\n",
              "      <td>4.5</td>\n",
              "    </tr>\n",
              "    <tr>\n",
              "      <th>h</th>\n",
              "      <td>cat</td>\n",
              "      <td>NaN</td>\n",
              "    </tr>\n",
              "    <tr>\n",
              "      <th>i</th>\n",
              "      <td>dog</td>\n",
              "      <td>7.0</td>\n",
              "    </tr>\n",
              "    <tr>\n",
              "      <th>j</th>\n",
              "      <td>dog</td>\n",
              "      <td>3.0</td>\n",
              "    </tr>\n",
              "  </tbody>\n",
              "</table>\n",
              "</div>"
            ],
            "text/plain": [
              "  animal  age\n",
              "a    cat  2.5\n",
              "b    cat  3.0\n",
              "c  snake  0.5\n",
              "d    dog  NaN\n",
              "e    dog  5.0\n",
              "f    cat  2.0\n",
              "g  snake  4.5\n",
              "h    cat  NaN\n",
              "i    dog  7.0\n",
              "j    dog  3.0"
            ]
          },
          "metadata": {
            "tags": []
          },
          "execution_count": 20
        }
      ]
    },
    {
      "cell_type": "markdown",
      "metadata": {
        "id": "c648100c"
      },
      "source": [
        "* Select the rows where the age is missing, i.e. it is NaN."
      ],
      "id": "c648100c"
    },
    {
      "cell_type": "code",
      "metadata": {
        "id": "e914d012",
        "colab": {
          "base_uri": "https://localhost:8080/",
          "height": 111
        },
        "outputId": "a9b6c32e-45f9-4eff-8cd1-68da24e91121"
      },
      "source": [
        "df[df['age'].isnull()]"
      ],
      "id": "e914d012",
      "execution_count": 22,
      "outputs": [
        {
          "output_type": "execute_result",
          "data": {
            "text/html": [
              "<div>\n",
              "<style scoped>\n",
              "    .dataframe tbody tr th:only-of-type {\n",
              "        vertical-align: middle;\n",
              "    }\n",
              "\n",
              "    .dataframe tbody tr th {\n",
              "        vertical-align: top;\n",
              "    }\n",
              "\n",
              "    .dataframe thead th {\n",
              "        text-align: right;\n",
              "    }\n",
              "</style>\n",
              "<table border=\"1\" class=\"dataframe\">\n",
              "  <thead>\n",
              "    <tr style=\"text-align: right;\">\n",
              "      <th></th>\n",
              "      <th>animal</th>\n",
              "      <th>age</th>\n",
              "      <th>visits</th>\n",
              "      <th>priority</th>\n",
              "    </tr>\n",
              "  </thead>\n",
              "  <tbody>\n",
              "    <tr>\n",
              "      <th>d</th>\n",
              "      <td>dog</td>\n",
              "      <td>NaN</td>\n",
              "      <td>3</td>\n",
              "      <td>yes</td>\n",
              "    </tr>\n",
              "    <tr>\n",
              "      <th>h</th>\n",
              "      <td>cat</td>\n",
              "      <td>NaN</td>\n",
              "      <td>1</td>\n",
              "      <td>yes</td>\n",
              "    </tr>\n",
              "  </tbody>\n",
              "</table>\n",
              "</div>"
            ],
            "text/plain": [
              "  animal  age  visits priority\n",
              "d    dog  NaN       3      yes\n",
              "h    cat  NaN       1      yes"
            ]
          },
          "metadata": {
            "tags": []
          },
          "execution_count": 22
        }
      ]
    },
    {
      "cell_type": "markdown",
      "metadata": {
        "id": "2ae99f60"
      },
      "source": [
        "* Calculate the sum of all visits in df (i.e. find the total number of visits)"
      ],
      "id": "2ae99f60"
    },
    {
      "cell_type": "code",
      "metadata": {
        "id": "24682ef9",
        "colab": {
          "base_uri": "https://localhost:8080/"
        },
        "outputId": "f6ace356-5cd9-46b1-bfda-62f19a1c9b2d"
      },
      "source": [
        "df.groupby(['visits']).size()"
      ],
      "id": "24682ef9",
      "execution_count": 24,
      "outputs": [
        {
          "output_type": "execute_result",
          "data": {
            "text/plain": [
              "visits\n",
              "1    4\n",
              "2    3\n",
              "3    3\n",
              "dtype: int64"
            ]
          },
          "metadata": {
            "tags": []
          },
          "execution_count": 24
        }
      ]
    }
  ]
}