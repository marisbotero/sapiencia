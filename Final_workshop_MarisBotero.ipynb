{
  "nbformat": 4,
  "nbformat_minor": 5,
  "metadata": {
    "kernelspec": {
      "display_name": "Python 3",
      "language": "python",
      "name": "python3"
    },
    "language_info": {
      "codemirror_mode": {
        "name": "ipython",
        "version": 3
      },
      "file_extension": ".py",
      "mimetype": "text/x-python",
      "name": "python",
      "nbconvert_exporter": "python",
      "pygments_lexer": "ipython3",
      "version": "3.8.8"
    },
    "colab": {
      "name": "Final workshop_MarisBotero.ipynb",
      "provenance": [],
      "include_colab_link": true
    }
  },
  "cells": [
    {
      "cell_type": "markdown",
      "metadata": {
        "id": "view-in-github",
        "colab_type": "text"
      },
      "source": [
        "<a href=\"https://colab.research.google.com/github/marisbotero/sapiencia/blob/main/Final_workshop_MarisBotero.ipynb\" target=\"_parent\"><img src=\"https://colab.research.google.com/assets/colab-badge.svg\" alt=\"Open In Colab\"/></a>"
      ]
    },
    {
      "cell_type": "markdown",
      "metadata": {
        "id": "27487ced"
      },
      "source": [
        "## Context\n",
        "\n",
        "Customer segmentation is the practice of dividing a customer base into groups of individuals that are similar in specific ways relevant to marketing, such as age, gender, interests and spending habits.\n",
        "\n",
        "Companies employing customer segmentation operate under the fact that every customer is different and that their marketing efforts would be better served if they target specific, smaller groups with messages that those consumers would find relevant and lead them to buy something. Companies also hope to gain a deeper understanding of their customers' preferences and needs with the idea of discovering what each segment finds most valuable to more accurately tailor marketing materials toward that segment.\n",
        "\n",
        "\n",
        "#### Variable description:\n",
        "\n",
        "- CustomerID : unique customer ID\n",
        "- Gender : gender of the customer\n",
        "- Married : marital status of the customer\n",
        "- Age : age of the customer\n",
        "- Graduated : specifies whether the customer a graduate?\n",
        "- Profession : profession of the customer\n",
        "- WorkExperience : work experience of the customer in years\n",
        "- SpendingScore : spending score of the customer\n",
        "- FamilySize : number of family members of the customer (including the customer)\n",
        "- Category : anonymised category for the customer\n",
        "\n",
        "# Activity\n",
        "\n",
        "1. Review data quality issues and perform transformations if necessary\n",
        "\n",
        "* Revisar problemas de calidad de datos y realizar transformaciones si es necesario\n",
        "\n",
        "2. Divide the dataset into 4 customer segments, testing at least two algorithms and choosing the one with the best Sillouhette score.\n",
        "\n",
        "* Dividir el dataset en 4 segmentos de clientes, probando al menos dos algoritmos de clustering y elegir el que mejor Indice de Sillouhette tenga.\n",
        "\n",
        "3. Carry out an EDA (Exploratory Data Analysis) of each of the clusters to pass the report to the management with the conclusion of what type of car should be promoted to each of the segments and what benefit or strategy they should use to advertise it.\n",
        "\n",
        "* Realizar un EDA (Exploratory Data Analysis) de cada uno de los clusters para pasar el informe a la gerencia con la conclusión de qué tipo de auto debe promocionarse a cada uno de los segmentos y que beneficio o estrategia deberían usar para publicitarlo.\n"
      ],
      "id": "27487ced"
    },
    {
      "cell_type": "code",
      "metadata": {
        "id": "0cbcd4a6"
      },
      "source": [
        "# Tratamiento de datos\n",
        "# ==============================================================================\n",
        "import numpy as np\n",
        "import pandas as pd\n",
        "import statsmodels.api as sm\n",
        "\n",
        "# Gráficos\n",
        "# ==============================================================================\n",
        "import matplotlib.pyplot as plt\n",
        "import matplotlib.font_manager\n",
        "from matplotlib import style\n",
        "import seaborn as sns\n",
        "style.use('ggplot') or plt.style.use('ggplot')\n",
        "\n",
        "# Preprocesado y modelado\n",
        "# ==============================================================================\n",
        "from sklearn.metrics import pairwise_distances\n",
        "from sklearn.preprocessing import scale\n",
        "\n",
        "# Configuración warnings\n",
        "# ==============================================================================\n",
        "import warnings\n",
        "warnings.filterwarnings('ignore')"
      ],
      "id": "0cbcd4a6",
      "execution_count": 6,
      "outputs": []
    },
    {
      "cell_type": "code",
      "metadata": {
        "id": "d91e0dcd"
      },
      "source": [
        "#cargar los datos\n",
        "df = pd.read_csv('final-workshop-train.xls')"
      ],
      "id": "d91e0dcd",
      "execution_count": 7,
      "outputs": []
    },
    {
      "cell_type": "code",
      "metadata": {
        "colab": {
          "base_uri": "https://localhost:8080/",
          "height": 204
        },
        "id": "85a7498f",
        "outputId": "602bae2f-e2f3-4552-a5d2-0826e9e4b1c2"
      },
      "source": [
        "df.head()"
      ],
      "id": "85a7498f",
      "execution_count": 8,
      "outputs": [
        {
          "output_type": "execute_result",
          "data": {
            "text/html": [
              "<div>\n",
              "<style scoped>\n",
              "    .dataframe tbody tr th:only-of-type {\n",
              "        vertical-align: middle;\n",
              "    }\n",
              "\n",
              "    .dataframe tbody tr th {\n",
              "        vertical-align: top;\n",
              "    }\n",
              "\n",
              "    .dataframe thead th {\n",
              "        text-align: right;\n",
              "    }\n",
              "</style>\n",
              "<table border=\"1\" class=\"dataframe\">\n",
              "  <thead>\n",
              "    <tr style=\"text-align: right;\">\n",
              "      <th></th>\n",
              "      <th>CustomerID</th>\n",
              "      <th>Gender</th>\n",
              "      <th>Married</th>\n",
              "      <th>Age</th>\n",
              "      <th>Graduated</th>\n",
              "      <th>Profession</th>\n",
              "      <th>WorkExperience</th>\n",
              "      <th>SpendingScore</th>\n",
              "      <th>FamilySize</th>\n",
              "      <th>Category</th>\n",
              "    </tr>\n",
              "  </thead>\n",
              "  <tbody>\n",
              "    <tr>\n",
              "      <th>0</th>\n",
              "      <td>462809</td>\n",
              "      <td>Male</td>\n",
              "      <td>No</td>\n",
              "      <td>22</td>\n",
              "      <td>No</td>\n",
              "      <td>Healthcare</td>\n",
              "      <td>1.0</td>\n",
              "      <td>Low</td>\n",
              "      <td>4.0</td>\n",
              "      <td>Category 4</td>\n",
              "    </tr>\n",
              "    <tr>\n",
              "      <th>1</th>\n",
              "      <td>462643</td>\n",
              "      <td>Female</td>\n",
              "      <td>Yes</td>\n",
              "      <td>38</td>\n",
              "      <td>Yes</td>\n",
              "      <td>Engineer</td>\n",
              "      <td>NaN</td>\n",
              "      <td>Average</td>\n",
              "      <td>3.0</td>\n",
              "      <td>Category 4</td>\n",
              "    </tr>\n",
              "    <tr>\n",
              "      <th>2</th>\n",
              "      <td>466315</td>\n",
              "      <td>Female</td>\n",
              "      <td>Yes</td>\n",
              "      <td>67</td>\n",
              "      <td>Yes</td>\n",
              "      <td>Engineer</td>\n",
              "      <td>1.0</td>\n",
              "      <td>Low</td>\n",
              "      <td>1.0</td>\n",
              "      <td>Category 6</td>\n",
              "    </tr>\n",
              "    <tr>\n",
              "      <th>3</th>\n",
              "      <td>461735</td>\n",
              "      <td>Male</td>\n",
              "      <td>Yes</td>\n",
              "      <td>67</td>\n",
              "      <td>Yes</td>\n",
              "      <td>Lawyer</td>\n",
              "      <td>0.0</td>\n",
              "      <td>High</td>\n",
              "      <td>2.0</td>\n",
              "      <td>Category 6</td>\n",
              "    </tr>\n",
              "    <tr>\n",
              "      <th>4</th>\n",
              "      <td>462669</td>\n",
              "      <td>Female</td>\n",
              "      <td>Yes</td>\n",
              "      <td>40</td>\n",
              "      <td>Yes</td>\n",
              "      <td>Entertainment</td>\n",
              "      <td>NaN</td>\n",
              "      <td>High</td>\n",
              "      <td>6.0</td>\n",
              "      <td>Category 6</td>\n",
              "    </tr>\n",
              "  </tbody>\n",
              "</table>\n",
              "</div>"
            ],
            "text/plain": [
              "   CustomerID  Gender Married  ...  SpendingScore FamilySize    Category\n",
              "0      462809    Male      No  ...            Low        4.0  Category 4\n",
              "1      462643  Female     Yes  ...        Average        3.0  Category 4\n",
              "2      466315  Female     Yes  ...            Low        1.0  Category 6\n",
              "3      461735    Male     Yes  ...           High        2.0  Category 6\n",
              "4      462669  Female     Yes  ...           High        6.0  Category 6\n",
              "\n",
              "[5 rows x 10 columns]"
            ]
          },
          "metadata": {},
          "execution_count": 8
        }
      ]
    },
    {
      "cell_type": "code",
      "metadata": {
        "id": "6b2b02ac"
      },
      "source": [
        "#función para revisar los valores nulos\n",
        "def missing_percentage(df):\n",
        "    total = df.isnull().sum().sort_values(ascending = False)\n",
        "    percent = round(df.isnull().sum().sort_values(ascending = False)/len(df)*100,2)\n",
        "    return pd.concat([total, percent], axis=1, keys=['Total','Percent'])"
      ],
      "id": "6b2b02ac",
      "execution_count": 9,
      "outputs": []
    },
    {
      "cell_type": "code",
      "metadata": {
        "colab": {
          "base_uri": "https://localhost:8080/",
          "height": 359
        },
        "id": "68305a1e",
        "outputId": "d77cdad5-c08a-401c-eeb3-dd93c03257d4"
      },
      "source": [
        "missing_percentage(df)"
      ],
      "id": "68305a1e",
      "execution_count": 10,
      "outputs": [
        {
          "output_type": "execute_result",
          "data": {
            "text/html": [
              "<div>\n",
              "<style scoped>\n",
              "    .dataframe tbody tr th:only-of-type {\n",
              "        vertical-align: middle;\n",
              "    }\n",
              "\n",
              "    .dataframe tbody tr th {\n",
              "        vertical-align: top;\n",
              "    }\n",
              "\n",
              "    .dataframe thead th {\n",
              "        text-align: right;\n",
              "    }\n",
              "</style>\n",
              "<table border=\"1\" class=\"dataframe\">\n",
              "  <thead>\n",
              "    <tr style=\"text-align: right;\">\n",
              "      <th></th>\n",
              "      <th>Total</th>\n",
              "      <th>Percent</th>\n",
              "    </tr>\n",
              "  </thead>\n",
              "  <tbody>\n",
              "    <tr>\n",
              "      <th>WorkExperience</th>\n",
              "      <td>829</td>\n",
              "      <td>10.28</td>\n",
              "    </tr>\n",
              "    <tr>\n",
              "      <th>FamilySize</th>\n",
              "      <td>335</td>\n",
              "      <td>4.15</td>\n",
              "    </tr>\n",
              "    <tr>\n",
              "      <th>Married</th>\n",
              "      <td>140</td>\n",
              "      <td>1.74</td>\n",
              "    </tr>\n",
              "    <tr>\n",
              "      <th>Profession</th>\n",
              "      <td>124</td>\n",
              "      <td>1.54</td>\n",
              "    </tr>\n",
              "    <tr>\n",
              "      <th>Graduated</th>\n",
              "      <td>78</td>\n",
              "      <td>0.97</td>\n",
              "    </tr>\n",
              "    <tr>\n",
              "      <th>Category</th>\n",
              "      <td>76</td>\n",
              "      <td>0.94</td>\n",
              "    </tr>\n",
              "    <tr>\n",
              "      <th>SpendingScore</th>\n",
              "      <td>0</td>\n",
              "      <td>0.00</td>\n",
              "    </tr>\n",
              "    <tr>\n",
              "      <th>Age</th>\n",
              "      <td>0</td>\n",
              "      <td>0.00</td>\n",
              "    </tr>\n",
              "    <tr>\n",
              "      <th>Gender</th>\n",
              "      <td>0</td>\n",
              "      <td>0.00</td>\n",
              "    </tr>\n",
              "    <tr>\n",
              "      <th>CustomerID</th>\n",
              "      <td>0</td>\n",
              "      <td>0.00</td>\n",
              "    </tr>\n",
              "  </tbody>\n",
              "</table>\n",
              "</div>"
            ],
            "text/plain": [
              "                Total  Percent\n",
              "WorkExperience    829    10.28\n",
              "FamilySize        335     4.15\n",
              "Married           140     1.74\n",
              "Profession        124     1.54\n",
              "Graduated          78     0.97\n",
              "Category           76     0.94\n",
              "SpendingScore       0     0.00\n",
              "Age                 0     0.00\n",
              "Gender              0     0.00\n",
              "CustomerID          0     0.00"
            ]
          },
          "metadata": {},
          "execution_count": 10
        }
      ]
    },
    {
      "cell_type": "code",
      "metadata": {
        "colab": {
          "base_uri": "https://localhost:8080/",
          "height": 173
        },
        "id": "f59d0aa9",
        "outputId": "b1dcf92e-6852-41db-e446-2ef5724cd11a"
      },
      "source": [
        "df.describe().T"
      ],
      "id": "f59d0aa9",
      "execution_count": 11,
      "outputs": [
        {
          "output_type": "execute_result",
          "data": {
            "text/html": [
              "<div>\n",
              "<style scoped>\n",
              "    .dataframe tbody tr th:only-of-type {\n",
              "        vertical-align: middle;\n",
              "    }\n",
              "\n",
              "    .dataframe tbody tr th {\n",
              "        vertical-align: top;\n",
              "    }\n",
              "\n",
              "    .dataframe thead th {\n",
              "        text-align: right;\n",
              "    }\n",
              "</style>\n",
              "<table border=\"1\" class=\"dataframe\">\n",
              "  <thead>\n",
              "    <tr style=\"text-align: right;\">\n",
              "      <th></th>\n",
              "      <th>count</th>\n",
              "      <th>mean</th>\n",
              "      <th>std</th>\n",
              "      <th>min</th>\n",
              "      <th>25%</th>\n",
              "      <th>50%</th>\n",
              "      <th>75%</th>\n",
              "      <th>max</th>\n",
              "    </tr>\n",
              "  </thead>\n",
              "  <tbody>\n",
              "    <tr>\n",
              "      <th>CustomerID</th>\n",
              "      <td>8068.0</td>\n",
              "      <td>463479.214551</td>\n",
              "      <td>2595.381232</td>\n",
              "      <td>458982.0</td>\n",
              "      <td>461240.75</td>\n",
              "      <td>463472.5</td>\n",
              "      <td>465744.25</td>\n",
              "      <td>467974.0</td>\n",
              "    </tr>\n",
              "    <tr>\n",
              "      <th>Age</th>\n",
              "      <td>8068.0</td>\n",
              "      <td>43.466906</td>\n",
              "      <td>16.711696</td>\n",
              "      <td>18.0</td>\n",
              "      <td>30.00</td>\n",
              "      <td>40.0</td>\n",
              "      <td>53.00</td>\n",
              "      <td>89.0</td>\n",
              "    </tr>\n",
              "    <tr>\n",
              "      <th>WorkExperience</th>\n",
              "      <td>7239.0</td>\n",
              "      <td>2.641663</td>\n",
              "      <td>3.406763</td>\n",
              "      <td>0.0</td>\n",
              "      <td>0.00</td>\n",
              "      <td>1.0</td>\n",
              "      <td>4.00</td>\n",
              "      <td>14.0</td>\n",
              "    </tr>\n",
              "    <tr>\n",
              "      <th>FamilySize</th>\n",
              "      <td>7733.0</td>\n",
              "      <td>2.850123</td>\n",
              "      <td>1.531413</td>\n",
              "      <td>1.0</td>\n",
              "      <td>2.00</td>\n",
              "      <td>3.0</td>\n",
              "      <td>4.00</td>\n",
              "      <td>9.0</td>\n",
              "    </tr>\n",
              "  </tbody>\n",
              "</table>\n",
              "</div>"
            ],
            "text/plain": [
              "                 count           mean  ...        75%       max\n",
              "CustomerID      8068.0  463479.214551  ...  465744.25  467974.0\n",
              "Age             8068.0      43.466906  ...      53.00      89.0\n",
              "WorkExperience  7239.0       2.641663  ...       4.00      14.0\n",
              "FamilySize      7733.0       2.850123  ...       4.00       9.0\n",
              "\n",
              "[4 rows x 8 columns]"
            ]
          },
          "metadata": {},
          "execution_count": 11
        }
      ]
    },
    {
      "cell_type": "code",
      "metadata": {
        "colab": {
          "base_uri": "https://localhost:8080/",
          "height": 0
        },
        "id": "8b8ec58e",
        "outputId": "3cad5c1d-fa7a-4e2e-952b-cd0dcecb4e81"
      },
      "source": [
        "df['FamilySize'].median()"
      ],
      "id": "8b8ec58e",
      "execution_count": 12,
      "outputs": [
        {
          "output_type": "execute_result",
          "data": {
            "text/plain": [
              "3.0"
            ]
          },
          "metadata": {},
          "execution_count": 12
        }
      ]
    },
    {
      "cell_type": "code",
      "metadata": {
        "colab": {
          "base_uri": "https://localhost:8080/",
          "height": 0
        },
        "id": "c2cd2953",
        "outputId": "35475497-f9f9-44f2-e379-9dad9dc2e46e"
      },
      "source": [
        "df['WorkExperience'].median()"
      ],
      "id": "c2cd2953",
      "execution_count": 13,
      "outputs": [
        {
          "output_type": "execute_result",
          "data": {
            "text/plain": [
              "1.0"
            ]
          },
          "metadata": {},
          "execution_count": 13
        }
      ]
    },
    {
      "cell_type": "code",
      "metadata": {
        "id": "3abb8f47"
      },
      "source": [
        "df2 = df"
      ],
      "id": "3abb8f47",
      "execution_count": 14,
      "outputs": []
    },
    {
      "cell_type": "code",
      "metadata": {
        "id": "6a244b4f"
      },
      "source": [
        "#Missing values\n",
        "df2[\"WorkExperience\"] = df2[\"WorkExperience\"].fillna(1)\n",
        "df2[\"FamilySize\"] = df2[\"FamilySize\"].fillna(3)\n",
        "df2['Married'] = df2['Married'].dropna()\n",
        "df2['Profession'] = df2['Profession'].dropna()\n",
        "df2['Graduated'] = df2['Graduated'].dropna()\n",
        "#df2['Category'] = df2['Category'].fillna('Desconocido')"
      ],
      "id": "6a244b4f",
      "execution_count": 15,
      "outputs": []
    },
    {
      "cell_type": "code",
      "metadata": {
        "colab": {
          "base_uri": "https://localhost:8080/",
          "height": 0
        },
        "id": "36847922",
        "outputId": "554cc272-3717-4191-85bb-8f7da2e9507e"
      },
      "source": [
        "#revisar los datos, cantidad y tipo de datos\n",
        "df2.info()"
      ],
      "id": "36847922",
      "execution_count": 16,
      "outputs": [
        {
          "output_type": "stream",
          "name": "stdout",
          "text": [
            "<class 'pandas.core.frame.DataFrame'>\n",
            "RangeIndex: 8068 entries, 0 to 8067\n",
            "Data columns (total 10 columns):\n",
            " #   Column          Non-Null Count  Dtype  \n",
            "---  ------          --------------  -----  \n",
            " 0   CustomerID      8068 non-null   int64  \n",
            " 1   Gender          8068 non-null   object \n",
            " 2   Married         7928 non-null   object \n",
            " 3   Age             8068 non-null   int64  \n",
            " 4   Graduated       7990 non-null   object \n",
            " 5   Profession      7944 non-null   object \n",
            " 6   WorkExperience  8068 non-null   float64\n",
            " 7   SpendingScore   8068 non-null   object \n",
            " 8   FamilySize      8068 non-null   float64\n",
            " 9   Category        7992 non-null   object \n",
            "dtypes: float64(2), int64(2), object(6)\n",
            "memory usage: 630.4+ KB\n"
          ]
        }
      ]
    },
    {
      "cell_type": "code",
      "metadata": {
        "id": "2ea8a9d3"
      },
      "source": [
        "#convertir campo FamilySize a enetero\n",
        "df2['FamilySize'] = df['FamilySize'].astype(int)"
      ],
      "id": "2ea8a9d3",
      "execution_count": 17,
      "outputs": []
    },
    {
      "cell_type": "code",
      "metadata": {
        "id": "b6ab240c"
      },
      "source": [
        "#convertir campo workExperiencie a enetero\n",
        "df2['WorkExperience'] = df['WorkExperience'].astype(int)"
      ],
      "id": "b6ab240c",
      "execution_count": 18,
      "outputs": []
    },
    {
      "cell_type": "code",
      "metadata": {
        "colab": {
          "base_uri": "https://localhost:8080/",
          "height": 0
        },
        "id": "75627fa3",
        "outputId": "c8c0c90f-5653-4da6-aa1c-ae9c29b29c0c"
      },
      "source": [
        "df2.info()"
      ],
      "id": "75627fa3",
      "execution_count": 19,
      "outputs": [
        {
          "output_type": "stream",
          "name": "stdout",
          "text": [
            "<class 'pandas.core.frame.DataFrame'>\n",
            "RangeIndex: 8068 entries, 0 to 8067\n",
            "Data columns (total 10 columns):\n",
            " #   Column          Non-Null Count  Dtype \n",
            "---  ------          --------------  ----- \n",
            " 0   CustomerID      8068 non-null   int64 \n",
            " 1   Gender          8068 non-null   object\n",
            " 2   Married         7928 non-null   object\n",
            " 3   Age             8068 non-null   int64 \n",
            " 4   Graduated       7990 non-null   object\n",
            " 5   Profession      7944 non-null   object\n",
            " 6   WorkExperience  8068 non-null   int64 \n",
            " 7   SpendingScore   8068 non-null   object\n",
            " 8   FamilySize      8068 non-null   int64 \n",
            " 9   Category        7992 non-null   object\n",
            "dtypes: int64(4), object(6)\n",
            "memory usage: 630.4+ KB\n"
          ]
        }
      ]
    },
    {
      "cell_type": "markdown",
      "metadata": {
        "id": "2450947a"
      },
      "source": [
        "Análisis de las variables"
      ],
      "id": "2450947a"
    },
    {
      "cell_type": "code",
      "metadata": {
        "colab": {
          "base_uri": "https://localhost:8080/",
          "height": 0
        },
        "id": "2a594e55",
        "outputId": "f69824b5-7c59-4f39-c71f-d6219e53b804"
      },
      "source": [
        "df2['Gender'].value_counts()"
      ],
      "id": "2a594e55",
      "execution_count": 20,
      "outputs": [
        {
          "output_type": "execute_result",
          "data": {
            "text/plain": [
              "Male      4417\n",
              "Female    3651\n",
              "Name: Gender, dtype: int64"
            ]
          },
          "metadata": {},
          "execution_count": 20
        }
      ]
    },
    {
      "cell_type": "code",
      "metadata": {
        "colab": {
          "base_uri": "https://localhost:8080/",
          "height": 0
        },
        "id": "e9663043",
        "outputId": "e7d77478-1b63-4f02-f828-b891046cfda5"
      },
      "source": [
        "df2['Married'].value_counts()"
      ],
      "id": "e9663043",
      "execution_count": 21,
      "outputs": [
        {
          "output_type": "execute_result",
          "data": {
            "text/plain": [
              "Yes    4643\n",
              "No     3285\n",
              "Name: Married, dtype: int64"
            ]
          },
          "metadata": {},
          "execution_count": 21
        }
      ]
    },
    {
      "cell_type": "code",
      "metadata": {
        "colab": {
          "base_uri": "https://localhost:8080/",
          "height": 0
        },
        "id": "65b19282",
        "outputId": "a9b3031b-afba-44b2-c976-fb6e3b01d3e2"
      },
      "source": [
        "df2['Graduated'].value_counts()"
      ],
      "id": "65b19282",
      "execution_count": 22,
      "outputs": [
        {
          "output_type": "execute_result",
          "data": {
            "text/plain": [
              "Yes    4968\n",
              "No     3022\n",
              "Name: Graduated, dtype: int64"
            ]
          },
          "metadata": {},
          "execution_count": 22
        }
      ]
    },
    {
      "cell_type": "code",
      "metadata": {
        "colab": {
          "base_uri": "https://localhost:8080/",
          "height": 0
        },
        "id": "94f07b30",
        "outputId": "7717fd64-d91a-495e-8612-f31ba4630e9e"
      },
      "source": [
        "df2['Profession'].value_counts()"
      ],
      "id": "94f07b30",
      "execution_count": 23,
      "outputs": [
        {
          "output_type": "execute_result",
          "data": {
            "text/plain": [
              "Artist           2516\n",
              "Healthcare       1332\n",
              "Entertainment     949\n",
              "Engineer          699\n",
              "Doctor            688\n",
              "Lawyer            623\n",
              "Executive         599\n",
              "Marketing         292\n",
              "Homemaker         246\n",
              "Name: Profession, dtype: int64"
            ]
          },
          "metadata": {},
          "execution_count": 23
        }
      ]
    },
    {
      "cell_type": "code",
      "metadata": {
        "colab": {
          "base_uri": "https://localhost:8080/",
          "height": 0
        },
        "id": "1eb06e8e",
        "outputId": "f231a189-d046-4efb-81e2-13741a6dfd97"
      },
      "source": [
        "df2['WorkExperience'].value_counts()"
      ],
      "id": "1eb06e8e",
      "execution_count": 24,
      "outputs": [
        {
          "output_type": "execute_result",
          "data": {
            "text/plain": [
              "1     3183\n",
              "0     2318\n",
              "9      474\n",
              "8      463\n",
              "2      286\n",
              "3      255\n",
              "4      253\n",
              "6      204\n",
              "7      196\n",
              "5      194\n",
              "10      53\n",
              "11      50\n",
              "12      48\n",
              "13      46\n",
              "14      45\n",
              "Name: WorkExperience, dtype: int64"
            ]
          },
          "metadata": {},
          "execution_count": 24
        }
      ]
    },
    {
      "cell_type": "code",
      "metadata": {
        "colab": {
          "base_uri": "https://localhost:8080/",
          "height": 0
        },
        "id": "ab990747",
        "outputId": "c77f2b27-70ac-4564-b024-93e0767c0b09"
      },
      "source": [
        "df2['SpendingScore'].value_counts()"
      ],
      "id": "ab990747",
      "execution_count": 25,
      "outputs": [
        {
          "output_type": "execute_result",
          "data": {
            "text/plain": [
              "Low        4878\n",
              "Average    1974\n",
              "High       1216\n",
              "Name: SpendingScore, dtype: int64"
            ]
          },
          "metadata": {},
          "execution_count": 25
        }
      ]
    },
    {
      "cell_type": "code",
      "metadata": {
        "colab": {
          "base_uri": "https://localhost:8080/",
          "height": 0
        },
        "id": "b9d42de2",
        "outputId": "be9f14e9-e07d-4571-e777-35f17d7b68cf"
      },
      "source": [
        "df2['FamilySize'].value_counts()"
      ],
      "id": "b9d42de2",
      "execution_count": 26,
      "outputs": [
        {
          "output_type": "execute_result",
          "data": {
            "text/plain": [
              "2    2390\n",
              "3    1832\n",
              "1    1453\n",
              "4    1379\n",
              "5     612\n",
              "6     212\n",
              "7      96\n",
              "8      50\n",
              "9      44\n",
              "Name: FamilySize, dtype: int64"
            ]
          },
          "metadata": {},
          "execution_count": 26
        }
      ]
    },
    {
      "cell_type": "code",
      "metadata": {
        "colab": {
          "base_uri": "https://localhost:8080/",
          "height": 0
        },
        "id": "4b064d1f",
        "outputId": "0dd71a0b-810e-4469-9047-e9d9c88acc76"
      },
      "source": [
        "df2['Category'].value_counts()"
      ],
      "id": "4b064d1f",
      "execution_count": 27,
      "outputs": [
        {
          "output_type": "execute_result",
          "data": {
            "text/plain": [
              "Category 6    5238\n",
              "Category 4    1089\n",
              "Category 3     822\n",
              "Category 2     422\n",
              "Category 7     203\n",
              "Category 1     133\n",
              "Category 5      85\n",
              "Name: Category, dtype: int64"
            ]
          },
          "metadata": {},
          "execution_count": 27
        }
      ]
    },
    {
      "cell_type": "code",
      "metadata": {
        "colab": {
          "base_uri": "https://localhost:8080/",
          "height": 0
        },
        "id": "df12227b",
        "outputId": "f763d6c8-164e-4b8e-bf5f-97b5164f6951"
      },
      "source": [
        "df2.columns"
      ],
      "id": "df12227b",
      "execution_count": 28,
      "outputs": [
        {
          "output_type": "execute_result",
          "data": {
            "text/plain": [
              "Index(['CustomerID', 'Gender', 'Married', 'Age', 'Graduated', 'Profession',\n",
              "       'WorkExperience', 'SpendingScore', 'FamilySize', 'Category'],\n",
              "      dtype='object')"
            ]
          },
          "metadata": {},
          "execution_count": 28
        }
      ]
    },
    {
      "cell_type": "code",
      "metadata": {
        "id": "3a87772f"
      },
      "source": [
        "a =['Gender','Married','Age','Graduated','Profession','WorkExperience','SpendingScore','FamilySize']"
      ],
      "id": "3a87772f",
      "execution_count": 29,
      "outputs": []
    },
    {
      "cell_type": "code",
      "metadata": {
        "id": "d61217ad"
      },
      "source": [
        "data = df2[a]"
      ],
      "id": "d61217ad",
      "execution_count": 30,
      "outputs": []
    },
    {
      "cell_type": "code",
      "metadata": {
        "colab": {
          "base_uri": "https://localhost:8080/",
          "height": 359
        },
        "id": "f1a50b17",
        "outputId": "0185f441-8b13-4ed3-cf6b-beb7980dc38c"
      },
      "source": [
        "data.head(10)"
      ],
      "id": "f1a50b17",
      "execution_count": 31,
      "outputs": [
        {
          "output_type": "execute_result",
          "data": {
            "text/html": [
              "<div>\n",
              "<style scoped>\n",
              "    .dataframe tbody tr th:only-of-type {\n",
              "        vertical-align: middle;\n",
              "    }\n",
              "\n",
              "    .dataframe tbody tr th {\n",
              "        vertical-align: top;\n",
              "    }\n",
              "\n",
              "    .dataframe thead th {\n",
              "        text-align: right;\n",
              "    }\n",
              "</style>\n",
              "<table border=\"1\" class=\"dataframe\">\n",
              "  <thead>\n",
              "    <tr style=\"text-align: right;\">\n",
              "      <th></th>\n",
              "      <th>Gender</th>\n",
              "      <th>Married</th>\n",
              "      <th>Age</th>\n",
              "      <th>Graduated</th>\n",
              "      <th>Profession</th>\n",
              "      <th>WorkExperience</th>\n",
              "      <th>SpendingScore</th>\n",
              "      <th>FamilySize</th>\n",
              "    </tr>\n",
              "  </thead>\n",
              "  <tbody>\n",
              "    <tr>\n",
              "      <th>0</th>\n",
              "      <td>Male</td>\n",
              "      <td>No</td>\n",
              "      <td>22</td>\n",
              "      <td>No</td>\n",
              "      <td>Healthcare</td>\n",
              "      <td>1</td>\n",
              "      <td>Low</td>\n",
              "      <td>4</td>\n",
              "    </tr>\n",
              "    <tr>\n",
              "      <th>1</th>\n",
              "      <td>Female</td>\n",
              "      <td>Yes</td>\n",
              "      <td>38</td>\n",
              "      <td>Yes</td>\n",
              "      <td>Engineer</td>\n",
              "      <td>1</td>\n",
              "      <td>Average</td>\n",
              "      <td>3</td>\n",
              "    </tr>\n",
              "    <tr>\n",
              "      <th>2</th>\n",
              "      <td>Female</td>\n",
              "      <td>Yes</td>\n",
              "      <td>67</td>\n",
              "      <td>Yes</td>\n",
              "      <td>Engineer</td>\n",
              "      <td>1</td>\n",
              "      <td>Low</td>\n",
              "      <td>1</td>\n",
              "    </tr>\n",
              "    <tr>\n",
              "      <th>3</th>\n",
              "      <td>Male</td>\n",
              "      <td>Yes</td>\n",
              "      <td>67</td>\n",
              "      <td>Yes</td>\n",
              "      <td>Lawyer</td>\n",
              "      <td>0</td>\n",
              "      <td>High</td>\n",
              "      <td>2</td>\n",
              "    </tr>\n",
              "    <tr>\n",
              "      <th>4</th>\n",
              "      <td>Female</td>\n",
              "      <td>Yes</td>\n",
              "      <td>40</td>\n",
              "      <td>Yes</td>\n",
              "      <td>Entertainment</td>\n",
              "      <td>1</td>\n",
              "      <td>High</td>\n",
              "      <td>6</td>\n",
              "    </tr>\n",
              "    <tr>\n",
              "      <th>5</th>\n",
              "      <td>Male</td>\n",
              "      <td>Yes</td>\n",
              "      <td>56</td>\n",
              "      <td>No</td>\n",
              "      <td>Artist</td>\n",
              "      <td>0</td>\n",
              "      <td>Average</td>\n",
              "      <td>2</td>\n",
              "    </tr>\n",
              "    <tr>\n",
              "      <th>6</th>\n",
              "      <td>Male</td>\n",
              "      <td>No</td>\n",
              "      <td>32</td>\n",
              "      <td>Yes</td>\n",
              "      <td>Healthcare</td>\n",
              "      <td>1</td>\n",
              "      <td>Low</td>\n",
              "      <td>3</td>\n",
              "    </tr>\n",
              "    <tr>\n",
              "      <th>7</th>\n",
              "      <td>Female</td>\n",
              "      <td>No</td>\n",
              "      <td>33</td>\n",
              "      <td>Yes</td>\n",
              "      <td>Healthcare</td>\n",
              "      <td>1</td>\n",
              "      <td>Low</td>\n",
              "      <td>3</td>\n",
              "    </tr>\n",
              "    <tr>\n",
              "      <th>8</th>\n",
              "      <td>Female</td>\n",
              "      <td>Yes</td>\n",
              "      <td>61</td>\n",
              "      <td>Yes</td>\n",
              "      <td>Engineer</td>\n",
              "      <td>0</td>\n",
              "      <td>Low</td>\n",
              "      <td>3</td>\n",
              "    </tr>\n",
              "    <tr>\n",
              "      <th>9</th>\n",
              "      <td>Female</td>\n",
              "      <td>Yes</td>\n",
              "      <td>55</td>\n",
              "      <td>Yes</td>\n",
              "      <td>Artist</td>\n",
              "      <td>1</td>\n",
              "      <td>Average</td>\n",
              "      <td>4</td>\n",
              "    </tr>\n",
              "  </tbody>\n",
              "</table>\n",
              "</div>"
            ],
            "text/plain": [
              "   Gender Married  Age  ... WorkExperience SpendingScore  FamilySize\n",
              "0    Male      No   22  ...              1           Low           4\n",
              "1  Female     Yes   38  ...              1       Average           3\n",
              "2  Female     Yes   67  ...              1           Low           1\n",
              "3    Male     Yes   67  ...              0          High           2\n",
              "4  Female     Yes   40  ...              1          High           6\n",
              "5    Male     Yes   56  ...              0       Average           2\n",
              "6    Male      No   32  ...              1           Low           3\n",
              "7  Female      No   33  ...              1           Low           3\n",
              "8  Female     Yes   61  ...              0           Low           3\n",
              "9  Female     Yes   55  ...              1       Average           4\n",
              "\n",
              "[10 rows x 8 columns]"
            ]
          },
          "metadata": {},
          "execution_count": 31
        }
      ]
    },
    {
      "cell_type": "markdown",
      "metadata": {
        "id": "4413a5b8"
      },
      "source": [
        "## Análisis univariado\n",
        "- variables categóricas"
      ],
      "id": "4413a5b8"
    },
    {
      "cell_type": "code",
      "metadata": {
        "id": "2f39261a"
      },
      "source": [
        "#función para graficar variables categoricas\n",
        "def bar_plot(variable):\n",
        "    \"\"\"\n",
        "        input: variable ex: \"Pclass\"\n",
        "        output: bar plot & value count\n",
        "    \"\"\"\n",
        "    # get feature\n",
        "    var = data[variable]\n",
        "    # count number of categorical variable(value/sample)\n",
        "    varValue = var.value_counts()\n",
        "    \n",
        "    # visualize\n",
        "    plt.figure(figsize = (9,3))\n",
        "    plt.bar(varValue.index, varValue)\n",
        "    plt.xticks(varValue.index, varValue.index.values)\n",
        "    plt.ylabel(\"Frequency\")\n",
        "    plt.title(variable)\n",
        "    plt.show()\n",
        "    print(\"{}: \\n {}\".format(variable,varValue))"
      ],
      "id": "2f39261a",
      "execution_count": 32,
      "outputs": []
    },
    {
      "cell_type": "code",
      "metadata": {
        "colab": {
          "base_uri": "https://localhost:8080/",
          "height": 1085
        },
        "id": "8cb7b920",
        "outputId": "7982dca4-0057-440f-fb02-80d3d11c0d9f"
      },
      "source": [
        "category1 = [\"Gender\",\"Married\",\"Graduated\",\"Profession\",\"SpendingScore\"]\n",
        "for c in category1:\n",
        "    bar_plot(c)"
      ],
      "id": "8cb7b920",
      "execution_count": 33,
      "outputs": [
        {
          "output_type": "display_data",
          "data": {
            "image/png": "[encoded data removed]",
            "text/plain": [
              "<Figure size 648x216 with 1 Axes>"
            ]
          },
          "metadata": {}
        },
        {
          "output_type": "stream",
          "name": "stdout",
          "text": [
            "Gender: \n",
            " Male      4417\n",
            "Female    3651\n",
            "Name: Gender, dtype: int64\n"
          ]
        },
        {
          "output_type": "display_data",
          "data": {
            "image/png": "[encoded data removed]",
            "text/plain": [
              "<Figure size 648x216 with 1 Axes>"
            ]
          },
          "metadata": {}
        },
        {
          "output_type": "stream",
          "name": "stdout",
          "text": [
            "Married: \n",
            " Yes    4643\n",
            "No     3285\n",
            "Name: Married, dtype: int64\n"
          ]
        },
        {
          "output_type": "display_data",
          "data": {
            "image/png": "[encoded data removed]",
            "text/plain": [
              "<Figure size 648x216 with 1 Axes>"
            ]
          },
          "metadata": {}
        },
        {
          "output_type": "stream",
          "name": "stdout",
          "text": [
            "Graduated: \n",
            " Yes    4968\n",
            "No     3022\n",
            "Name: Graduated, dtype: int64\n"
          ]
        },
        {
          "output_type": "display_data",
          "data": {
            "image/png": "[encoded data removed]",
            "text/plain": [
              "<Figure size 648x216 with 1 Axes>"
            ]
          },
          "metadata": {}
        },
        {
          "output_type": "stream",
          "name": "stdout",
          "text": [
            "Profession: \n",
            " Artist           2516\n",
            "Healthcare       1332\n",
            "Entertainment     949\n",
            "Engineer          699\n",
            "Doctor            688\n",
            "Lawyer            623\n",
            "Executive         599\n",
            "Marketing         292\n",
            "Homemaker         246\n",
            "Name: Profession, dtype: int64\n"
          ]
        },
        {
          "output_type": "display_data",
          "data": {
            "image/png": "[encoded data removed]",
            "text/plain": [
              "<Figure size 648x216 with 1 Axes>"
            ]
          },
          "metadata": {}
        },
        {
          "output_type": "stream",
          "name": "stdout",
          "text": [
            "SpendingScore: \n",
            " Low        4878\n",
            "Average    1974\n",
            "High       1216\n",
            "Name: SpendingScore, dtype: int64\n"
          ]
        }
      ]
    },
    {
      "cell_type": "code",
      "metadata": {
        "id": "d30d7d9f"
      },
      "source": [
        "#función para graficar varibales numericas\n",
        "def plot_hist(variable):\n",
        "    plt.figure(figsize = (9,3))\n",
        "    plt.hist(data[variable], bins = 50)\n",
        "    plt.xlabel(variable)\n",
        "    plt.ylabel(\"Frecuancia\")\n",
        "    plt.title(\"{} Distribución\".format(variable))\n",
        "    plt.show()"
      ],
      "id": "d30d7d9f",
      "execution_count": 34,
      "outputs": []
    },
    {
      "cell_type": "code",
      "metadata": {
        "colab": {
          "base_uri": "https://localhost:8080/",
          "height": 701
        },
        "id": "fbd42542",
        "outputId": "a58bb2bb-0f46-48fa-9a1d-d0087cc1afe5"
      },
      "source": [
        "numericVar = [\"Age\", \"WorkExperience\" ,\"FamilySize\"]\n",
        "for n in numericVar:\n",
        "    plot_hist(n)"
      ],
      "id": "fbd42542",
      "execution_count": 35,
      "outputs": [
        {
          "output_type": "display_data",
          "data": {
            "image/png": "[encoded data removed]",
            "text/plain": [
              "<Figure size 648x216 with 1 Axes>"
            ]
          },
          "metadata": {}
        },
        {
          "output_type": "display_data",
          "data": {
            "image/png": "[encoded data removed]",
            "text/plain": [
              "<Figure size 648x216 with 1 Axes>"
            ]
          },
          "metadata": {}
        },
        {
          "output_type": "display_data",
          "data": {
            "image/png": "[encoded data removed]",
            "text/plain": [
              "<Figure size 648x216 with 1 Axes>"
            ]
          },
          "metadata": {}
        }
      ]
    },
    {
      "cell_type": "code",
      "metadata": {
        "colab": {
          "base_uri": "https://localhost:8080/",
          "height": 204
        },
        "id": "30e98660",
        "outputId": "e7cf79d5-4bf8-4993-9d7a-da9f31acbf2b"
      },
      "source": [
        "data.head()"
      ],
      "id": "30e98660",
      "execution_count": 36,
      "outputs": [
        {
          "output_type": "execute_result",
          "data": {
            "text/html": [
              "<div>\n",
              "<style scoped>\n",
              "    .dataframe tbody tr th:only-of-type {\n",
              "        vertical-align: middle;\n",
              "    }\n",
              "\n",
              "    .dataframe tbody tr th {\n",
              "        vertical-align: top;\n",
              "    }\n",
              "\n",
              "    .dataframe thead th {\n",
              "        text-align: right;\n",
              "    }\n",
              "</style>\n",
              "<table border=\"1\" class=\"dataframe\">\n",
              "  <thead>\n",
              "    <tr style=\"text-align: right;\">\n",
              "      <th></th>\n",
              "      <th>Gender</th>\n",
              "      <th>Married</th>\n",
              "      <th>Age</th>\n",
              "      <th>Graduated</th>\n",
              "      <th>Profession</th>\n",
              "      <th>WorkExperience</th>\n",
              "      <th>SpendingScore</th>\n",
              "      <th>FamilySize</th>\n",
              "    </tr>\n",
              "  </thead>\n",
              "  <tbody>\n",
              "    <tr>\n",
              "      <th>0</th>\n",
              "      <td>Male</td>\n",
              "      <td>No</td>\n",
              "      <td>22</td>\n",
              "      <td>No</td>\n",
              "      <td>Healthcare</td>\n",
              "      <td>1</td>\n",
              "      <td>Low</td>\n",
              "      <td>4</td>\n",
              "    </tr>\n",
              "    <tr>\n",
              "      <th>1</th>\n",
              "      <td>Female</td>\n",
              "      <td>Yes</td>\n",
              "      <td>38</td>\n",
              "      <td>Yes</td>\n",
              "      <td>Engineer</td>\n",
              "      <td>1</td>\n",
              "      <td>Average</td>\n",
              "      <td>3</td>\n",
              "    </tr>\n",
              "    <tr>\n",
              "      <th>2</th>\n",
              "      <td>Female</td>\n",
              "      <td>Yes</td>\n",
              "      <td>67</td>\n",
              "      <td>Yes</td>\n",
              "      <td>Engineer</td>\n",
              "      <td>1</td>\n",
              "      <td>Low</td>\n",
              "      <td>1</td>\n",
              "    </tr>\n",
              "    <tr>\n",
              "      <th>3</th>\n",
              "      <td>Male</td>\n",
              "      <td>Yes</td>\n",
              "      <td>67</td>\n",
              "      <td>Yes</td>\n",
              "      <td>Lawyer</td>\n",
              "      <td>0</td>\n",
              "      <td>High</td>\n",
              "      <td>2</td>\n",
              "    </tr>\n",
              "    <tr>\n",
              "      <th>4</th>\n",
              "      <td>Female</td>\n",
              "      <td>Yes</td>\n",
              "      <td>40</td>\n",
              "      <td>Yes</td>\n",
              "      <td>Entertainment</td>\n",
              "      <td>1</td>\n",
              "      <td>High</td>\n",
              "      <td>6</td>\n",
              "    </tr>\n",
              "  </tbody>\n",
              "</table>\n",
              "</div>"
            ],
            "text/plain": [
              "   Gender Married  Age  ... WorkExperience SpendingScore  FamilySize\n",
              "0    Male      No   22  ...              1           Low           4\n",
              "1  Female     Yes   38  ...              1       Average           3\n",
              "2  Female     Yes   67  ...              1           Low           1\n",
              "3    Male     Yes   67  ...              0          High           2\n",
              "4  Female     Yes   40  ...              1          High           6\n",
              "\n",
              "[5 rows x 8 columns]"
            ]
          },
          "metadata": {},
          "execution_count": 36
        }
      ]
    },
    {
      "cell_type": "code",
      "metadata": {
        "colab": {
          "base_uri": "https://localhost:8080/",
          "height": 0
        },
        "id": "1f5be334",
        "outputId": "1b1ea36f-b7c1-49bd-c3ae-bd52b6e6bef8"
      },
      "source": [
        "data.columns"
      ],
      "id": "1f5be334",
      "execution_count": 37,
      "outputs": [
        {
          "output_type": "execute_result",
          "data": {
            "text/plain": [
              "Index(['Gender', 'Married', 'Age', 'Graduated', 'Profession', 'WorkExperience',\n",
              "       'SpendingScore', 'FamilySize'],\n",
              "      dtype='object')"
            ]
          },
          "metadata": {},
          "execution_count": 37
        }
      ]
    },
    {
      "cell_type": "code",
      "metadata": {
        "colab": {
          "base_uri": "https://localhost:8080/",
          "height": 0
        },
        "id": "c30dd478",
        "outputId": "7aa7ada0-b1b9-49d6-f23e-399c841cfa6a"
      },
      "source": [
        "data['SpendingScore'].value_counts()"
      ],
      "id": "c30dd478",
      "execution_count": 38,
      "outputs": [
        {
          "output_type": "execute_result",
          "data": {
            "text/plain": [
              "Low        4878\n",
              "Average    1974\n",
              "High       1216\n",
              "Name: SpendingScore, dtype: int64"
            ]
          },
          "metadata": {},
          "execution_count": 38
        }
      ]
    },
    {
      "cell_type": "code",
      "metadata": {
        "id": "b1a368fc"
      },
      "source": [
        ""
      ],
      "id": "b1a368fc",
      "execution_count": 38,
      "outputs": []
    },
    {
      "cell_type": "code",
      "metadata": {
        "id": "2ea45fbf"
      },
      "source": [
        ""
      ],
      "id": "2ea45fbf",
      "execution_count": 38,
      "outputs": []
    },
    {
      "cell_type": "code",
      "metadata": {
        "colab": {
          "base_uri": "https://localhost:8080/",
          "height": 439
        },
        "id": "e589152d",
        "outputId": "440b5b36-acb0-4265-af89-91ff931a0c64"
      },
      "source": [
        "one_hot_encoded_data = pd.get_dummies(data, columns = [\"Gender\",\"Married\",\"Graduated\",\"Profession\",'SpendingScore'])\n",
        "one_hot_encoded_data"
      ],
      "id": "e589152d",
      "execution_count": 39,
      "outputs": [
        {
          "output_type": "execute_result",
          "data": {
            "text/html": [
              "<div>\n",
              "<style scoped>\n",
              "    .dataframe tbody tr th:only-of-type {\n",
              "        vertical-align: middle;\n",
              "    }\n",
              "\n",
              "    .dataframe tbody tr th {\n",
              "        vertical-align: top;\n",
              "    }\n",
              "\n",
              "    .dataframe thead th {\n",
              "        text-align: right;\n",
              "    }\n",
              "</style>\n",
              "<table border=\"1\" class=\"dataframe\">\n",
              "  <thead>\n",
              "    <tr style=\"text-align: right;\">\n",
              "      <th></th>\n",
              "      <th>Age</th>\n",
              "      <th>WorkExperience</th>\n",
              "      <th>FamilySize</th>\n",
              "      <th>Gender_Female</th>\n",
              "      <th>Gender_Male</th>\n",
              "      <th>Married_No</th>\n",
              "      <th>Married_Yes</th>\n",
              "      <th>Graduated_No</th>\n",
              "      <th>Graduated_Yes</th>\n",
              "      <th>Profession_Artist</th>\n",
              "      <th>Profession_Doctor</th>\n",
              "      <th>Profession_Engineer</th>\n",
              "      <th>Profession_Entertainment</th>\n",
              "      <th>Profession_Executive</th>\n",
              "      <th>Profession_Healthcare</th>\n",
              "      <th>Profession_Homemaker</th>\n",
              "      <th>Profession_Lawyer</th>\n",
              "      <th>Profession_Marketing</th>\n",
              "      <th>SpendingScore_Average</th>\n",
              "      <th>SpendingScore_High</th>\n",
              "      <th>SpendingScore_Low</th>\n",
              "    </tr>\n",
              "  </thead>\n",
              "  <tbody>\n",
              "    <tr>\n",
              "      <th>0</th>\n",
              "      <td>22</td>\n",
              "      <td>1</td>\n",
              "      <td>4</td>\n",
              "      <td>0</td>\n",
              "      <td>1</td>\n",
              "      <td>1</td>\n",
              "      <td>0</td>\n",
              "      <td>1</td>\n",
              "      <td>0</td>\n",
              "      <td>0</td>\n",
              "      <td>0</td>\n",
              "      <td>0</td>\n",
              "      <td>0</td>\n",
              "      <td>0</td>\n",
              "      <td>1</td>\n",
              "      <td>0</td>\n",
              "      <td>0</td>\n",
              "      <td>0</td>\n",
              "      <td>0</td>\n",
              "      <td>0</td>\n",
              "      <td>1</td>\n",
              "    </tr>\n",
              "    <tr>\n",
              "      <th>1</th>\n",
              "      <td>38</td>\n",
              "      <td>1</td>\n",
              "      <td>3</td>\n",
              "      <td>1</td>\n",
              "      <td>0</td>\n",
              "      <td>0</td>\n",
              "      <td>1</td>\n",
              "      <td>0</td>\n",
              "      <td>1</td>\n",
              "      <td>0</td>\n",
              "      <td>0</td>\n",
              "      <td>1</td>\n",
              "      <td>0</td>\n",
              "      <td>0</td>\n",
              "      <td>0</td>\n",
              "      <td>0</td>\n",
              "      <td>0</td>\n",
              "      <td>0</td>\n",
              "      <td>1</td>\n",
              "      <td>0</td>\n",
              "      <td>0</td>\n",
              "    </tr>\n",
              "    <tr>\n",
              "      <th>2</th>\n",
              "      <td>67</td>\n",
              "      <td>1</td>\n",
              "      <td>1</td>\n",
              "      <td>1</td>\n",
              "      <td>0</td>\n",
              "      <td>0</td>\n",
              "      <td>1</td>\n",
              "      <td>0</td>\n",
              "      <td>1</td>\n",
              "      <td>0</td>\n",
              "      <td>0</td>\n",
              "      <td>1</td>\n",
              "      <td>0</td>\n",
              "      <td>0</td>\n",
              "      <td>0</td>\n",
              "      <td>0</td>\n",
              "      <td>0</td>\n",
              "      <td>0</td>\n",
              "      <td>0</td>\n",
              "      <td>0</td>\n",
              "      <td>1</td>\n",
              "    </tr>\n",
              "    <tr>\n",
              "      <th>3</th>\n",
              "      <td>67</td>\n",
              "      <td>0</td>\n",
              "      <td>2</td>\n",
              "      <td>0</td>\n",
              "      <td>1</td>\n",
              "      <td>0</td>\n",
              "      <td>1</td>\n",
              "      <td>0</td>\n",
              "      <td>1</td>\n",
              "      <td>0</td>\n",
              "      <td>0</td>\n",
              "      <td>0</td>\n",
              "      <td>0</td>\n",
              "      <td>0</td>\n",
              "      <td>0</td>\n",
              "      <td>0</td>\n",
              "      <td>1</td>\n",
              "      <td>0</td>\n",
              "      <td>0</td>\n",
              "      <td>1</td>\n",
              "      <td>0</td>\n",
              "    </tr>\n",
              "    <tr>\n",
              "      <th>4</th>\n",
              "      <td>40</td>\n",
              "      <td>1</td>\n",
              "      <td>6</td>\n",
              "      <td>1</td>\n",
              "      <td>0</td>\n",
              "      <td>0</td>\n",
              "      <td>1</td>\n",
              "      <td>0</td>\n",
              "      <td>1</td>\n",
              "      <td>0</td>\n",
              "      <td>0</td>\n",
              "      <td>0</td>\n",
              "      <td>1</td>\n",
              "      <td>0</td>\n",
              "      <td>0</td>\n",
              "      <td>0</td>\n",
              "      <td>0</td>\n",
              "      <td>0</td>\n",
              "      <td>0</td>\n",
              "      <td>1</td>\n",
              "      <td>0</td>\n",
              "    </tr>\n",
              "    <tr>\n",
              "      <th>...</th>\n",
              "      <td>...</td>\n",
              "      <td>...</td>\n",
              "      <td>...</td>\n",
              "      <td>...</td>\n",
              "      <td>...</td>\n",
              "      <td>...</td>\n",
              "      <td>...</td>\n",
              "      <td>...</td>\n",
              "      <td>...</td>\n",
              "      <td>...</td>\n",
              "      <td>...</td>\n",
              "      <td>...</td>\n",
              "      <td>...</td>\n",
              "      <td>...</td>\n",
              "      <td>...</td>\n",
              "      <td>...</td>\n",
              "      <td>...</td>\n",
              "      <td>...</td>\n",
              "      <td>...</td>\n",
              "      <td>...</td>\n",
              "      <td>...</td>\n",
              "    </tr>\n",
              "    <tr>\n",
              "      <th>8063</th>\n",
              "      <td>22</td>\n",
              "      <td>0</td>\n",
              "      <td>7</td>\n",
              "      <td>0</td>\n",
              "      <td>1</td>\n",
              "      <td>1</td>\n",
              "      <td>0</td>\n",
              "      <td>1</td>\n",
              "      <td>0</td>\n",
              "      <td>0</td>\n",
              "      <td>0</td>\n",
              "      <td>0</td>\n",
              "      <td>0</td>\n",
              "      <td>0</td>\n",
              "      <td>0</td>\n",
              "      <td>0</td>\n",
              "      <td>0</td>\n",
              "      <td>0</td>\n",
              "      <td>0</td>\n",
              "      <td>0</td>\n",
              "      <td>1</td>\n",
              "    </tr>\n",
              "    <tr>\n",
              "      <th>8064</th>\n",
              "      <td>35</td>\n",
              "      <td>3</td>\n",
              "      <td>4</td>\n",
              "      <td>0</td>\n",
              "      <td>1</td>\n",
              "      <td>1</td>\n",
              "      <td>0</td>\n",
              "      <td>1</td>\n",
              "      <td>0</td>\n",
              "      <td>0</td>\n",
              "      <td>0</td>\n",
              "      <td>0</td>\n",
              "      <td>0</td>\n",
              "      <td>1</td>\n",
              "      <td>0</td>\n",
              "      <td>0</td>\n",
              "      <td>0</td>\n",
              "      <td>0</td>\n",
              "      <td>0</td>\n",
              "      <td>0</td>\n",
              "      <td>1</td>\n",
              "    </tr>\n",
              "    <tr>\n",
              "      <th>8065</th>\n",
              "      <td>33</td>\n",
              "      <td>1</td>\n",
              "      <td>1</td>\n",
              "      <td>1</td>\n",
              "      <td>0</td>\n",
              "      <td>1</td>\n",
              "      <td>0</td>\n",
              "      <td>0</td>\n",
              "      <td>1</td>\n",
              "      <td>0</td>\n",
              "      <td>0</td>\n",
              "      <td>0</td>\n",
              "      <td>0</td>\n",
              "      <td>0</td>\n",
              "      <td>1</td>\n",
              "      <td>0</td>\n",
              "      <td>0</td>\n",
              "      <td>0</td>\n",
              "      <td>0</td>\n",
              "      <td>0</td>\n",
              "      <td>1</td>\n",
              "    </tr>\n",
              "    <tr>\n",
              "      <th>8066</th>\n",
              "      <td>27</td>\n",
              "      <td>1</td>\n",
              "      <td>4</td>\n",
              "      <td>1</td>\n",
              "      <td>0</td>\n",
              "      <td>1</td>\n",
              "      <td>0</td>\n",
              "      <td>0</td>\n",
              "      <td>1</td>\n",
              "      <td>0</td>\n",
              "      <td>0</td>\n",
              "      <td>0</td>\n",
              "      <td>0</td>\n",
              "      <td>0</td>\n",
              "      <td>1</td>\n",
              "      <td>0</td>\n",
              "      <td>0</td>\n",
              "      <td>0</td>\n",
              "      <td>0</td>\n",
              "      <td>0</td>\n",
              "      <td>1</td>\n",
              "    </tr>\n",
              "    <tr>\n",
              "      <th>8067</th>\n",
              "      <td>37</td>\n",
              "      <td>0</td>\n",
              "      <td>3</td>\n",
              "      <td>0</td>\n",
              "      <td>1</td>\n",
              "      <td>0</td>\n",
              "      <td>1</td>\n",
              "      <td>0</td>\n",
              "      <td>1</td>\n",
              "      <td>0</td>\n",
              "      <td>0</td>\n",
              "      <td>0</td>\n",
              "      <td>0</td>\n",
              "      <td>1</td>\n",
              "      <td>0</td>\n",
              "      <td>0</td>\n",
              "      <td>0</td>\n",
              "      <td>0</td>\n",
              "      <td>1</td>\n",
              "      <td>0</td>\n",
              "      <td>0</td>\n",
              "    </tr>\n",
              "  </tbody>\n",
              "</table>\n",
              "<p>8068 rows × 21 columns</p>\n",
              "</div>"
            ],
            "text/plain": [
              "      Age  WorkExperience  ...  SpendingScore_High  SpendingScore_Low\n",
              "0      22               1  ...                   0                  1\n",
              "1      38               1  ...                   0                  0\n",
              "2      67               1  ...                   0                  1\n",
              "3      67               0  ...                   1                  0\n",
              "4      40               1  ...                   1                  0\n",
              "...   ...             ...  ...                 ...                ...\n",
              "8063   22               0  ...                   0                  1\n",
              "8064   35               3  ...                   0                  1\n",
              "8065   33               1  ...                   0                  1\n",
              "8066   27               1  ...                   0                  1\n",
              "8067   37               0  ...                   0                  0\n",
              "\n",
              "[8068 rows x 21 columns]"
            ]
          },
          "metadata": {},
          "execution_count": 39
        }
      ]
    },
    {
      "cell_type": "code",
      "metadata": {
        "colab": {
          "base_uri": "https://localhost:8080/",
          "height": 0
        },
        "id": "af7cc47b",
        "outputId": "7a59eb7b-ce70-43c7-fc28-ef9034376b7d"
      },
      "source": [
        "one_hot_encoded_data.columns"
      ],
      "id": "af7cc47b",
      "execution_count": 40,
      "outputs": [
        {
          "output_type": "execute_result",
          "data": {
            "text/plain": [
              "Index(['Age', 'WorkExperience', 'FamilySize', 'Gender_Female', 'Gender_Male',\n",
              "       'Married_No', 'Married_Yes', 'Graduated_No', 'Graduated_Yes',\n",
              "       'Profession_Artist', 'Profession_Doctor', 'Profession_Engineer',\n",
              "       'Profession_Entertainment', 'Profession_Executive',\n",
              "       'Profession_Healthcare', 'Profession_Homemaker', 'Profession_Lawyer',\n",
              "       'Profession_Marketing', 'SpendingScore_Average', 'SpendingScore_High',\n",
              "       'SpendingScore_Low'],\n",
              "      dtype='object')"
            ]
          },
          "metadata": {},
          "execution_count": 40
        }
      ]
    },
    {
      "cell_type": "code",
      "metadata": {
        "colab": {
          "base_uri": "https://localhost:8080/",
          "height": 224
        },
        "id": "821071ce",
        "outputId": "462f4dfa-4471-4f5b-e19d-31fbd12f3e94"
      },
      "source": [
        "b =['Age', 'WorkExperience', 'FamilySize','Gender_Male',\n",
        "       'Married_Yes', 'Graduated_Yes',\n",
        "       'Profession_Artist', 'Profession_Doctor', 'Profession_Engineer',\n",
        "       'Profession_Entertainment', 'Profession_Executive',\n",
        "       'Profession_Healthcare', 'Profession_Homemaker', 'Profession_Lawyer',\n",
        "       'Profession_Marketing','SpendingScore_Average', 'SpendingScore_High',\n",
        "       'SpendingScore_Low']\n",
        "datos = one_hot_encoded_data[b] \n",
        "datos.head()"
      ],
      "id": "821071ce",
      "execution_count": 41,
      "outputs": [
        {
          "output_type": "execute_result",
          "data": {
            "text/html": [
              "<div>\n",
              "<style scoped>\n",
              "    .dataframe tbody tr th:only-of-type {\n",
              "        vertical-align: middle;\n",
              "    }\n",
              "\n",
              "    .dataframe tbody tr th {\n",
              "        vertical-align: top;\n",
              "    }\n",
              "\n",
              "    .dataframe thead th {\n",
              "        text-align: right;\n",
              "    }\n",
              "</style>\n",
              "<table border=\"1\" class=\"dataframe\">\n",
              "  <thead>\n",
              "    <tr style=\"text-align: right;\">\n",
              "      <th></th>\n",
              "      <th>Age</th>\n",
              "      <th>WorkExperience</th>\n",
              "      <th>FamilySize</th>\n",
              "      <th>Gender_Male</th>\n",
              "      <th>Married_Yes</th>\n",
              "      <th>Graduated_Yes</th>\n",
              "      <th>Profession_Artist</th>\n",
              "      <th>Profession_Doctor</th>\n",
              "      <th>Profession_Engineer</th>\n",
              "      <th>Profession_Entertainment</th>\n",
              "      <th>Profession_Executive</th>\n",
              "      <th>Profession_Healthcare</th>\n",
              "      <th>Profession_Homemaker</th>\n",
              "      <th>Profession_Lawyer</th>\n",
              "      <th>Profession_Marketing</th>\n",
              "      <th>SpendingScore_Average</th>\n",
              "      <th>SpendingScore_High</th>\n",
              "      <th>SpendingScore_Low</th>\n",
              "    </tr>\n",
              "  </thead>\n",
              "  <tbody>\n",
              "    <tr>\n",
              "      <th>0</th>\n",
              "      <td>22</td>\n",
              "      <td>1</td>\n",
              "      <td>4</td>\n",
              "      <td>1</td>\n",
              "      <td>0</td>\n",
              "      <td>0</td>\n",
              "      <td>0</td>\n",
              "      <td>0</td>\n",
              "      <td>0</td>\n",
              "      <td>0</td>\n",
              "      <td>0</td>\n",
              "      <td>1</td>\n",
              "      <td>0</td>\n",
              "      <td>0</td>\n",
              "      <td>0</td>\n",
              "      <td>0</td>\n",
              "      <td>0</td>\n",
              "      <td>1</td>\n",
              "    </tr>\n",
              "    <tr>\n",
              "      <th>1</th>\n",
              "      <td>38</td>\n",
              "      <td>1</td>\n",
              "      <td>3</td>\n",
              "      <td>0</td>\n",
              "      <td>1</td>\n",
              "      <td>1</td>\n",
              "      <td>0</td>\n",
              "      <td>0</td>\n",
              "      <td>1</td>\n",
              "      <td>0</td>\n",
              "      <td>0</td>\n",
              "      <td>0</td>\n",
              "      <td>0</td>\n",
              "      <td>0</td>\n",
              "      <td>0</td>\n",
              "      <td>1</td>\n",
              "      <td>0</td>\n",
              "      <td>0</td>\n",
              "    </tr>\n",
              "    <tr>\n",
              "      <th>2</th>\n",
              "      <td>67</td>\n",
              "      <td>1</td>\n",
              "      <td>1</td>\n",
              "      <td>0</td>\n",
              "      <td>1</td>\n",
              "      <td>1</td>\n",
              "      <td>0</td>\n",
              "      <td>0</td>\n",
              "      <td>1</td>\n",
              "      <td>0</td>\n",
              "      <td>0</td>\n",
              "      <td>0</td>\n",
              "      <td>0</td>\n",
              "      <td>0</td>\n",
              "      <td>0</td>\n",
              "      <td>0</td>\n",
              "      <td>0</td>\n",
              "      <td>1</td>\n",
              "    </tr>\n",
              "    <tr>\n",
              "      <th>3</th>\n",
              "      <td>67</td>\n",
              "      <td>0</td>\n",
              "      <td>2</td>\n",
              "      <td>1</td>\n",
              "      <td>1</td>\n",
              "      <td>1</td>\n",
              "      <td>0</td>\n",
              "      <td>0</td>\n",
              "      <td>0</td>\n",
              "      <td>0</td>\n",
              "      <td>0</td>\n",
              "      <td>0</td>\n",
              "      <td>0</td>\n",
              "      <td>1</td>\n",
              "      <td>0</td>\n",
              "      <td>0</td>\n",
              "      <td>1</td>\n",
              "      <td>0</td>\n",
              "    </tr>\n",
              "    <tr>\n",
              "      <th>4</th>\n",
              "      <td>40</td>\n",
              "      <td>1</td>\n",
              "      <td>6</td>\n",
              "      <td>0</td>\n",
              "      <td>1</td>\n",
              "      <td>1</td>\n",
              "      <td>0</td>\n",
              "      <td>0</td>\n",
              "      <td>0</td>\n",
              "      <td>1</td>\n",
              "      <td>0</td>\n",
              "      <td>0</td>\n",
              "      <td>0</td>\n",
              "      <td>0</td>\n",
              "      <td>0</td>\n",
              "      <td>0</td>\n",
              "      <td>1</td>\n",
              "      <td>0</td>\n",
              "    </tr>\n",
              "  </tbody>\n",
              "</table>\n",
              "</div>"
            ],
            "text/plain": [
              "   Age  WorkExperience  ...  SpendingScore_High  SpendingScore_Low\n",
              "0   22               1  ...                   0                  1\n",
              "1   38               1  ...                   0                  0\n",
              "2   67               1  ...                   0                  1\n",
              "3   67               0  ...                   1                  0\n",
              "4   40               1  ...                   1                  0\n",
              "\n",
              "[5 rows x 18 columns]"
            ]
          },
          "metadata": {},
          "execution_count": 41
        }
      ]
    },
    {
      "cell_type": "code",
      "metadata": {
        "id": "5bb59445"
      },
      "source": [
        ""
      ],
      "id": "5bb59445",
      "execution_count": 41,
      "outputs": []
    },
    {
      "cell_type": "markdown",
      "metadata": {
        "id": "183c0979"
      },
      "source": [
        "Normalización de los datos"
      ],
      "id": "183c0979"
    },
    {
      "cell_type": "code",
      "metadata": {
        "colab": {
          "base_uri": "https://localhost:8080/",
          "height": 224
        },
        "id": "be3fb495",
        "outputId": "1222312b-c977-4e4c-f6bb-fea70f64dbc5"
      },
      "source": [
        "# Escalado de las variables\n",
        "# ==============================================================================\n",
        "\n",
        "datos_scaled = (datos-datos.min())/(datos.max()-datos.min())\n",
        "datos_scaled.head()"
      ],
      "id": "be3fb495",
      "execution_count": 42,
      "outputs": [
        {
          "output_type": "execute_result",
          "data": {
            "text/html": [
              "<div>\n",
              "<style scoped>\n",
              "    .dataframe tbody tr th:only-of-type {\n",
              "        vertical-align: middle;\n",
              "    }\n",
              "\n",
              "    .dataframe tbody tr th {\n",
              "        vertical-align: top;\n",
              "    }\n",
              "\n",
              "    .dataframe thead th {\n",
              "        text-align: right;\n",
              "    }\n",
              "</style>\n",
              "<table border=\"1\" class=\"dataframe\">\n",
              "  <thead>\n",
              "    <tr style=\"text-align: right;\">\n",
              "      <th></th>\n",
              "      <th>Age</th>\n",
              "      <th>WorkExperience</th>\n",
              "      <th>FamilySize</th>\n",
              "      <th>Gender_Male</th>\n",
              "      <th>Married_Yes</th>\n",
              "      <th>Graduated_Yes</th>\n",
              "      <th>Profession_Artist</th>\n",
              "      <th>Profession_Doctor</th>\n",
              "      <th>Profession_Engineer</th>\n",
              "      <th>Profession_Entertainment</th>\n",
              "      <th>Profession_Executive</th>\n",
              "      <th>Profession_Healthcare</th>\n",
              "      <th>Profession_Homemaker</th>\n",
              "      <th>Profession_Lawyer</th>\n",
              "      <th>Profession_Marketing</th>\n",
              "      <th>SpendingScore_Average</th>\n",
              "      <th>SpendingScore_High</th>\n",
              "      <th>SpendingScore_Low</th>\n",
              "    </tr>\n",
              "  </thead>\n",
              "  <tbody>\n",
              "    <tr>\n",
              "      <th>0</th>\n",
              "      <td>0.056338</td>\n",
              "      <td>0.071429</td>\n",
              "      <td>0.375</td>\n",
              "      <td>1.0</td>\n",
              "      <td>0.0</td>\n",
              "      <td>0.0</td>\n",
              "      <td>0.0</td>\n",
              "      <td>0.0</td>\n",
              "      <td>0.0</td>\n",
              "      <td>0.0</td>\n",
              "      <td>0.0</td>\n",
              "      <td>1.0</td>\n",
              "      <td>0.0</td>\n",
              "      <td>0.0</td>\n",
              "      <td>0.0</td>\n",
              "      <td>0.0</td>\n",
              "      <td>0.0</td>\n",
              "      <td>1.0</td>\n",
              "    </tr>\n",
              "    <tr>\n",
              "      <th>1</th>\n",
              "      <td>0.281690</td>\n",
              "      <td>0.071429</td>\n",
              "      <td>0.250</td>\n",
              "      <td>0.0</td>\n",
              "      <td>1.0</td>\n",
              "      <td>1.0</td>\n",
              "      <td>0.0</td>\n",
              "      <td>0.0</td>\n",
              "      <td>1.0</td>\n",
              "      <td>0.0</td>\n",
              "      <td>0.0</td>\n",
              "      <td>0.0</td>\n",
              "      <td>0.0</td>\n",
              "      <td>0.0</td>\n",
              "      <td>0.0</td>\n",
              "      <td>1.0</td>\n",
              "      <td>0.0</td>\n",
              "      <td>0.0</td>\n",
              "    </tr>\n",
              "    <tr>\n",
              "      <th>2</th>\n",
              "      <td>0.690141</td>\n",
              "      <td>0.071429</td>\n",
              "      <td>0.000</td>\n",
              "      <td>0.0</td>\n",
              "      <td>1.0</td>\n",
              "      <td>1.0</td>\n",
              "      <td>0.0</td>\n",
              "      <td>0.0</td>\n",
              "      <td>1.0</td>\n",
              "      <td>0.0</td>\n",
              "      <td>0.0</td>\n",
              "      <td>0.0</td>\n",
              "      <td>0.0</td>\n",
              "      <td>0.0</td>\n",
              "      <td>0.0</td>\n",
              "      <td>0.0</td>\n",
              "      <td>0.0</td>\n",
              "      <td>1.0</td>\n",
              "    </tr>\n",
              "    <tr>\n",
              "      <th>3</th>\n",
              "      <td>0.690141</td>\n",
              "      <td>0.000000</td>\n",
              "      <td>0.125</td>\n",
              "      <td>1.0</td>\n",
              "      <td>1.0</td>\n",
              "      <td>1.0</td>\n",
              "      <td>0.0</td>\n",
              "      <td>0.0</td>\n",
              "      <td>0.0</td>\n",
              "      <td>0.0</td>\n",
              "      <td>0.0</td>\n",
              "      <td>0.0</td>\n",
              "      <td>0.0</td>\n",
              "      <td>1.0</td>\n",
              "      <td>0.0</td>\n",
              "      <td>0.0</td>\n",
              "      <td>1.0</td>\n",
              "      <td>0.0</td>\n",
              "    </tr>\n",
              "    <tr>\n",
              "      <th>4</th>\n",
              "      <td>0.309859</td>\n",
              "      <td>0.071429</td>\n",
              "      <td>0.625</td>\n",
              "      <td>0.0</td>\n",
              "      <td>1.0</td>\n",
              "      <td>1.0</td>\n",
              "      <td>0.0</td>\n",
              "      <td>0.0</td>\n",
              "      <td>0.0</td>\n",
              "      <td>1.0</td>\n",
              "      <td>0.0</td>\n",
              "      <td>0.0</td>\n",
              "      <td>0.0</td>\n",
              "      <td>0.0</td>\n",
              "      <td>0.0</td>\n",
              "      <td>0.0</td>\n",
              "      <td>1.0</td>\n",
              "      <td>0.0</td>\n",
              "    </tr>\n",
              "  </tbody>\n",
              "</table>\n",
              "</div>"
            ],
            "text/plain": [
              "        Age  WorkExperience  ...  SpendingScore_High  SpendingScore_Low\n",
              "0  0.056338        0.071429  ...                 0.0                1.0\n",
              "1  0.281690        0.071429  ...                 0.0                0.0\n",
              "2  0.690141        0.071429  ...                 0.0                1.0\n",
              "3  0.690141        0.000000  ...                 1.0                0.0\n",
              "4  0.309859        0.071429  ...                 1.0                0.0\n",
              "\n",
              "[5 rows x 18 columns]"
            ]
          },
          "metadata": {},
          "execution_count": 42
        }
      ]
    },
    {
      "cell_type": "markdown",
      "metadata": {
        "id": "799a98bb"
      },
      "source": [
        "Distancias"
      ],
      "id": "799a98bb"
    },
    {
      "cell_type": "code",
      "metadata": {
        "colab": {
          "base_uri": "https://localhost:8080/",
          "height": 224
        },
        "id": "2077527b",
        "outputId": "1ba087d4-3b74-41b2-e49d-64a163f37cc9"
      },
      "source": [
        "# Cálculo de distancias\n",
        "# ==============================================================================\n",
        "print('------------------')\n",
        "print('Distancia euclídea')\n",
        "print('------------------')\n",
        "distancias = pairwise_distances(\n",
        "                X      = datos_scaled,\n",
        "                metric ='euclidean'\n",
        "             )\n",
        "\n",
        "# Se descarta la diagonal superior de la matriz\n",
        "distancias[np.triu_indices(n=distancias.shape[0])] = np.nan\n",
        "\n",
        "distancias = pd.DataFrame(\n",
        "                distancias,\n",
        "                columns=datos_scaled.index,\n",
        "                index = datos_scaled.index\n",
        "            )\n",
        "\n",
        "distancias.iloc[:4,:4]"
      ],
      "id": "2077527b",
      "execution_count": 43,
      "outputs": [
        {
          "output_type": "stream",
          "name": "stdout",
          "text": [
            "------------------\n",
            "Distancia euclídea\n",
            "------------------\n"
          ]
        },
        {
          "output_type": "execute_result",
          "data": {
            "text/html": [
              "<div>\n",
              "<style scoped>\n",
              "    .dataframe tbody tr th:only-of-type {\n",
              "        vertical-align: middle;\n",
              "    }\n",
              "\n",
              "    .dataframe tbody tr th {\n",
              "        vertical-align: top;\n",
              "    }\n",
              "\n",
              "    .dataframe thead th {\n",
              "        text-align: right;\n",
              "    }\n",
              "</style>\n",
              "<table border=\"1\" class=\"dataframe\">\n",
              "  <thead>\n",
              "    <tr style=\"text-align: right;\">\n",
              "      <th></th>\n",
              "      <th>0</th>\n",
              "      <th>1</th>\n",
              "      <th>2</th>\n",
              "      <th>3</th>\n",
              "    </tr>\n",
              "  </thead>\n",
              "  <tbody>\n",
              "    <tr>\n",
              "      <th>0</th>\n",
              "      <td>NaN</td>\n",
              "      <td>NaN</td>\n",
              "      <td>NaN</td>\n",
              "      <td>NaN</td>\n",
              "    </tr>\n",
              "    <tr>\n",
              "      <th>1</th>\n",
              "      <td>2.658272</td>\n",
              "      <td>NaN</td>\n",
              "      <td>NaN</td>\n",
              "      <td>NaN</td>\n",
              "    </tr>\n",
              "    <tr>\n",
              "      <th>2</th>\n",
              "      <td>2.354216</td>\n",
              "      <td>1.493095</td>\n",
              "      <td>NaN</td>\n",
              "      <td>NaN</td>\n",
              "    </tr>\n",
              "    <tr>\n",
              "      <th>3</th>\n",
              "      <td>2.543483</td>\n",
              "      <td>2.277621</td>\n",
              "      <td>2.240698</td>\n",
              "      <td>NaN</td>\n",
              "    </tr>\n",
              "  </tbody>\n",
              "</table>\n",
              "</div>"
            ],
            "text/plain": [
              "          0         1         2   3\n",
              "0       NaN       NaN       NaN NaN\n",
              "1  2.658272       NaN       NaN NaN\n",
              "2  2.354216  1.493095       NaN NaN\n",
              "3  2.543483  2.277621  2.240698 NaN"
            ]
          },
          "metadata": {},
          "execution_count": 43
        }
      ]
    },
    {
      "cell_type": "code",
      "metadata": {
        "colab": {
          "base_uri": "https://localhost:8080/",
          "height": 142
        },
        "id": "2584a639",
        "outputId": "d51ad1f2-5808-4e18-883f-b32e36999453"
      },
      "source": [
        "# Top n observaciones más similares\n",
        "# ==============================================================================\n",
        "distancias.melt(ignore_index=False, var_name=\"estado_b\", value_name='distancia') \\\n",
        "    .rename_axis(\"estado_a\") \\\n",
        "    .reset_index() \\\n",
        "    .dropna() \\\n",
        "    .sort_values('distancia') \\\n",
        "    .head(3)"
      ],
      "id": "2584a639",
      "execution_count": 44,
      "outputs": [
        {
          "output_type": "execute_result",
          "data": {
            "text/html": [
              "<div>\n",
              "<style scoped>\n",
              "    .dataframe tbody tr th:only-of-type {\n",
              "        vertical-align: middle;\n",
              "    }\n",
              "\n",
              "    .dataframe tbody tr th {\n",
              "        vertical-align: top;\n",
              "    }\n",
              "\n",
              "    .dataframe thead th {\n",
              "        text-align: right;\n",
              "    }\n",
              "</style>\n",
              "<table border=\"1\" class=\"dataframe\">\n",
              "  <thead>\n",
              "    <tr style=\"text-align: right;\">\n",
              "      <th></th>\n",
              "      <th>estado_a</th>\n",
              "      <th>estado_b</th>\n",
              "      <th>distancia</th>\n",
              "    </tr>\n",
              "  </thead>\n",
              "  <tbody>\n",
              "    <tr>\n",
              "      <th>17804907</th>\n",
              "      <td>6899</td>\n",
              "      <td>2206</td>\n",
              "      <td>0.0</td>\n",
              "    </tr>\n",
              "    <tr>\n",
              "      <th>22990195</th>\n",
              "      <td>4463</td>\n",
              "      <td>2849</td>\n",
              "      <td>0.0</td>\n",
              "    </tr>\n",
              "    <tr>\n",
              "      <th>18391324</th>\n",
              "      <td>4352</td>\n",
              "      <td>2279</td>\n",
              "      <td>0.0</td>\n",
              "    </tr>\n",
              "  </tbody>\n",
              "</table>\n",
              "</div>"
            ],
            "text/plain": [
              "          estado_a  estado_b  distancia\n",
              "17804907      6899      2206        0.0\n",
              "22990195      4463      2849        0.0\n",
              "18391324      4352      2279        0.0"
            ]
          },
          "metadata": {},
          "execution_count": 44
        }
      ]
    },
    {
      "cell_type": "markdown",
      "metadata": {
        "id": "2620753e"
      },
      "source": [
        "## K-means"
      ],
      "id": "2620753e"
    },
    {
      "cell_type": "code",
      "metadata": {
        "id": "7715e3c6"
      },
      "source": [
        "# Preprocesado y modelado\n",
        "# ==============================================================================\n",
        "from sklearn.cluster import KMeans\n",
        "from sklearn.preprocessing import scale\n",
        "from sklearn.metrics import silhouette_score"
      ],
      "id": "7715e3c6",
      "execution_count": 45,
      "outputs": []
    },
    {
      "cell_type": "code",
      "metadata": {
        "colab": {
          "base_uri": "https://localhost:8080/",
          "height": 0
        },
        "id": "b4c7a927",
        "outputId": "b1bda54a-1890-4dd2-9976-783bb2ed9c29"
      },
      "source": [
        "model = KMeans(n_clusters=4)\n",
        "model.fit(datos_scaled)"
      ],
      "id": "b4c7a927",
      "execution_count": 46,
      "outputs": [
        {
          "output_type": "execute_result",
          "data": {
            "text/plain": [
              "KMeans(algorithm='auto', copy_x=True, init='k-means++', max_iter=300,\n",
              "       n_clusters=4, n_init=10, n_jobs=None, precompute_distances='auto',\n",
              "       random_state=None, tol=0.0001, verbose=0)"
            ]
          },
          "metadata": {},
          "execution_count": 46
        }
      ]
    },
    {
      "cell_type": "code",
      "metadata": {
        "colab": {
          "base_uri": "https://localhost:8080/",
          "height": 0
        },
        "id": "cb68d097",
        "outputId": "2d405206-f1cf-4b7c-dc6b-6f562e4b3aa8"
      },
      "source": [
        "model.labels_"
      ],
      "id": "cb68d097",
      "execution_count": 47,
      "outputs": [
        {
          "output_type": "execute_result",
          "data": {
            "text/plain": [
              "array([1, 0, 3, ..., 1, 1, 0], dtype=int32)"
            ]
          },
          "metadata": {},
          "execution_count": 47
        }
      ]
    },
    {
      "cell_type": "code",
      "metadata": {
        "id": "dd380a25"
      },
      "source": [
        "md_k = pd.Series(model.labels_)"
      ],
      "id": "dd380a25",
      "execution_count": 48,
      "outputs": []
    },
    {
      "cell_type": "code",
      "metadata": {
        "id": "fd3dd6a9"
      },
      "source": [
        "datos_scaled[\"clust_k\"] = md_k"
      ],
      "id": "fd3dd6a9",
      "execution_count": 49,
      "outputs": []
    },
    {
      "cell_type": "code",
      "metadata": {
        "colab": {
          "base_uri": "https://localhost:8080/",
          "height": 224
        },
        "id": "f6f2cab2",
        "outputId": "e1b4f1f1-fd18-4246-d886-638ee77a2496"
      },
      "source": [
        "datos_scaled.head()"
      ],
      "id": "f6f2cab2",
      "execution_count": 50,
      "outputs": [
        {
          "output_type": "execute_result",
          "data": {
            "text/html": [
              "<div>\n",
              "<style scoped>\n",
              "    .dataframe tbody tr th:only-of-type {\n",
              "        vertical-align: middle;\n",
              "    }\n",
              "\n",
              "    .dataframe tbody tr th {\n",
              "        vertical-align: top;\n",
              "    }\n",
              "\n",
              "    .dataframe thead th {\n",
              "        text-align: right;\n",
              "    }\n",
              "</style>\n",
              "<table border=\"1\" class=\"dataframe\">\n",
              "  <thead>\n",
              "    <tr style=\"text-align: right;\">\n",
              "      <th></th>\n",
              "      <th>Age</th>\n",
              "      <th>WorkExperience</th>\n",
              "      <th>FamilySize</th>\n",
              "      <th>Gender_Male</th>\n",
              "      <th>Married_Yes</th>\n",
              "      <th>Graduated_Yes</th>\n",
              "      <th>Profession_Artist</th>\n",
              "      <th>Profession_Doctor</th>\n",
              "      <th>Profession_Engineer</th>\n",
              "      <th>Profession_Entertainment</th>\n",
              "      <th>Profession_Executive</th>\n",
              "      <th>Profession_Healthcare</th>\n",
              "      <th>Profession_Homemaker</th>\n",
              "      <th>Profession_Lawyer</th>\n",
              "      <th>Profession_Marketing</th>\n",
              "      <th>SpendingScore_Average</th>\n",
              "      <th>SpendingScore_High</th>\n",
              "      <th>SpendingScore_Low</th>\n",
              "      <th>clust_k</th>\n",
              "    </tr>\n",
              "  </thead>\n",
              "  <tbody>\n",
              "    <tr>\n",
              "      <th>0</th>\n",
              "      <td>0.056338</td>\n",
              "      <td>0.071429</td>\n",
              "      <td>0.375</td>\n",
              "      <td>1.0</td>\n",
              "      <td>0.0</td>\n",
              "      <td>0.0</td>\n",
              "      <td>0.0</td>\n",
              "      <td>0.0</td>\n",
              "      <td>0.0</td>\n",
              "      <td>0.0</td>\n",
              "      <td>0.0</td>\n",
              "      <td>1.0</td>\n",
              "      <td>0.0</td>\n",
              "      <td>0.0</td>\n",
              "      <td>0.0</td>\n",
              "      <td>0.0</td>\n",
              "      <td>0.0</td>\n",
              "      <td>1.0</td>\n",
              "      <td>1</td>\n",
              "    </tr>\n",
              "    <tr>\n",
              "      <th>1</th>\n",
              "      <td>0.281690</td>\n",
              "      <td>0.071429</td>\n",
              "      <td>0.250</td>\n",
              "      <td>0.0</td>\n",
              "      <td>1.0</td>\n",
              "      <td>1.0</td>\n",
              "      <td>0.0</td>\n",
              "      <td>0.0</td>\n",
              "      <td>1.0</td>\n",
              "      <td>0.0</td>\n",
              "      <td>0.0</td>\n",
              "      <td>0.0</td>\n",
              "      <td>0.0</td>\n",
              "      <td>0.0</td>\n",
              "      <td>0.0</td>\n",
              "      <td>1.0</td>\n",
              "      <td>0.0</td>\n",
              "      <td>0.0</td>\n",
              "      <td>0</td>\n",
              "    </tr>\n",
              "    <tr>\n",
              "      <th>2</th>\n",
              "      <td>0.690141</td>\n",
              "      <td>0.071429</td>\n",
              "      <td>0.000</td>\n",
              "      <td>0.0</td>\n",
              "      <td>1.0</td>\n",
              "      <td>1.0</td>\n",
              "      <td>0.0</td>\n",
              "      <td>0.0</td>\n",
              "      <td>1.0</td>\n",
              "      <td>0.0</td>\n",
              "      <td>0.0</td>\n",
              "      <td>0.0</td>\n",
              "      <td>0.0</td>\n",
              "      <td>0.0</td>\n",
              "      <td>0.0</td>\n",
              "      <td>0.0</td>\n",
              "      <td>0.0</td>\n",
              "      <td>1.0</td>\n",
              "      <td>3</td>\n",
              "    </tr>\n",
              "    <tr>\n",
              "      <th>3</th>\n",
              "      <td>0.690141</td>\n",
              "      <td>0.000000</td>\n",
              "      <td>0.125</td>\n",
              "      <td>1.0</td>\n",
              "      <td>1.0</td>\n",
              "      <td>1.0</td>\n",
              "      <td>0.0</td>\n",
              "      <td>0.0</td>\n",
              "      <td>0.0</td>\n",
              "      <td>0.0</td>\n",
              "      <td>0.0</td>\n",
              "      <td>0.0</td>\n",
              "      <td>0.0</td>\n",
              "      <td>1.0</td>\n",
              "      <td>0.0</td>\n",
              "      <td>0.0</td>\n",
              "      <td>1.0</td>\n",
              "      <td>0.0</td>\n",
              "      <td>2</td>\n",
              "    </tr>\n",
              "    <tr>\n",
              "      <th>4</th>\n",
              "      <td>0.309859</td>\n",
              "      <td>0.071429</td>\n",
              "      <td>0.625</td>\n",
              "      <td>0.0</td>\n",
              "      <td>1.0</td>\n",
              "      <td>1.0</td>\n",
              "      <td>0.0</td>\n",
              "      <td>0.0</td>\n",
              "      <td>0.0</td>\n",
              "      <td>1.0</td>\n",
              "      <td>0.0</td>\n",
              "      <td>0.0</td>\n",
              "      <td>0.0</td>\n",
              "      <td>0.0</td>\n",
              "      <td>0.0</td>\n",
              "      <td>0.0</td>\n",
              "      <td>1.0</td>\n",
              "      <td>0.0</td>\n",
              "      <td>2</td>\n",
              "    </tr>\n",
              "  </tbody>\n",
              "</table>\n",
              "</div>"
            ],
            "text/plain": [
              "        Age  WorkExperience  ...  SpendingScore_Low  clust_k\n",
              "0  0.056338        0.071429  ...                1.0        1\n",
              "1  0.281690        0.071429  ...                0.0        0\n",
              "2  0.690141        0.071429  ...                1.0        3\n",
              "3  0.690141        0.000000  ...                0.0        2\n",
              "4  0.309859        0.071429  ...                0.0        2\n",
              "\n",
              "[5 rows x 19 columns]"
            ]
          },
          "metadata": {},
          "execution_count": 50
        }
      ]
    },
    {
      "cell_type": "code",
      "metadata": {
        "colab": {
          "base_uri": "https://localhost:8080/",
          "height": 335
        },
        "id": "c29d9076",
        "outputId": "9b9eefd8-c01e-4f64-ee4a-296564a8e99e"
      },
      "source": [
        "plt.hist(md_k)"
      ],
      "id": "c29d9076",
      "execution_count": 51,
      "outputs": [
        {
          "output_type": "execute_result",
          "data": {
            "text/plain": [
              "(array([1972.,    0.,    0., 1990.,    0.,    0., 1212.,    0.,    0.,\n",
              "        2894.]),\n",
              " array([0. , 0.3, 0.6, 0.9, 1.2, 1.5, 1.8, 2.1, 2.4, 2.7, 3. ]),\n",
              " <a list of 10 Patch objects>)"
            ]
          },
          "metadata": {},
          "execution_count": 51
        },
        {
          "output_type": "display_data",
          "data": {
            "image/png": "[encoded data removed]",
            "text/plain": [
              "<Figure size 432x288 with 1 Axes>"
            ]
          },
          "metadata": {}
        }
      ]
    },
    {
      "cell_type": "code",
      "metadata": {
        "colab": {
          "base_uri": "https://localhost:8080/",
          "height": 291
        },
        "id": "d41e3640",
        "outputId": "6bb16348-d469-4598-fa3b-c98f9de502df"
      },
      "source": [
        "# Método silhouette para identificar el número óptimo de clusters\n",
        "# ==============================================================================\n",
        "range_n_clusters = range(2, 15)\n",
        "valores_medios_silhouette = []\n",
        "\n",
        "for n_clusters in range_n_clusters:\n",
        "    modelo_kmeans = KMeans(\n",
        "                        n_clusters   = n_clusters, \n",
        "                        n_init       = 20, \n",
        "                        random_state = 123\n",
        "                    )\n",
        "    cluster_labels = modelo_kmeans.fit_predict(datos_scaled)\n",
        "    silhouette_avg = silhouette_score(datos_scaled, cluster_labels)\n",
        "    valores_medios_silhouette.append(silhouette_avg)\n",
        "    \n",
        "fig, ax = plt.subplots(1, 1, figsize=(6, 3.84))\n",
        "ax.plot(range_n_clusters, valores_medios_silhouette, marker='o')\n",
        "ax.set_title(\"Evolución de media de los índices silhouette\")\n",
        "ax.set_xlabel('Número clusters')\n",
        "ax.set_ylabel('Media índices silhouette');"
      ],
      "id": "d41e3640",
      "execution_count": 52,
      "outputs": [
        {
          "output_type": "display_data",
          "data": {
            "image/png": "[encoded data removed]",
            "text/plain": [
              "<Figure size 432x276.48 with 1 Axes>"
            ]
          },
          "metadata": {}
        }
      ]
    },
    {
      "cell_type": "markdown",
      "metadata": {
        "id": "6c590b1f"
      },
      "source": [
        "## Clustering jerárquico con scikit-learn"
      ],
      "id": "6c590b1f"
    },
    {
      "cell_type": "code",
      "metadata": {
        "id": "6632cce4"
      },
      "source": [
        "from sklearn.cluster import AgglomerativeClustering"
      ],
      "id": "6632cce4",
      "execution_count": 53,
      "outputs": []
    },
    {
      "cell_type": "code",
      "metadata": {
        "id": "1c930ec7"
      },
      "source": [
        "clus= AgglomerativeClustering(n_clusters=4, linkage=\"ward\").fit(datos_scaled)"
      ],
      "id": "1c930ec7",
      "execution_count": 54,
      "outputs": []
    },
    {
      "cell_type": "code",
      "metadata": {
        "id": "30038f38"
      },
      "source": [
        "md_h = pd.Series(clus.labels_)"
      ],
      "id": "30038f38",
      "execution_count": 55,
      "outputs": []
    },
    {
      "cell_type": "code",
      "metadata": {
        "colab": {
          "base_uri": "https://localhost:8080/",
          "height": 316
        },
        "id": "63eca7c2",
        "outputId": "44f828bf-4864-45e8-fce8-ff628fc2f669"
      },
      "source": [
        "plt.hist(md_h)\n",
        "plt.title(\"Histograma de los clusters\")\n",
        "plt.xlabel(\"Cluster\")"
      ],
      "id": "63eca7c2",
      "execution_count": 56,
      "outputs": [
        {
          "output_type": "execute_result",
          "data": {
            "text/plain": [
              "Text(0.5, 0, 'Cluster')"
            ]
          },
          "metadata": {},
          "execution_count": 56
        },
        {
          "output_type": "display_data",
          "data": {
            "image/png": "[encoded data removed]",
            "text/plain": [
              "<Figure size 432x288 with 1 Axes>"
            ]
          },
          "metadata": {}
        }
      ]
    },
    {
      "cell_type": "code",
      "metadata": {
        "colab": {
          "base_uri": "https://localhost:8080/",
          "height": 224
        },
        "id": "cf6b5026",
        "outputId": "fe990673-d90c-4377-a8ce-af2d08279ef7"
      },
      "source": [
        "datos_scaled.head()"
      ],
      "id": "cf6b5026",
      "execution_count": 57,
      "outputs": [
        {
          "output_type": "execute_result",
          "data": {
            "text/html": [
              "<div>\n",
              "<style scoped>\n",
              "    .dataframe tbody tr th:only-of-type {\n",
              "        vertical-align: middle;\n",
              "    }\n",
              "\n",
              "    .dataframe tbody tr th {\n",
              "        vertical-align: top;\n",
              "    }\n",
              "\n",
              "    .dataframe thead th {\n",
              "        text-align: right;\n",
              "    }\n",
              "</style>\n",
              "<table border=\"1\" class=\"dataframe\">\n",
              "  <thead>\n",
              "    <tr style=\"text-align: right;\">\n",
              "      <th></th>\n",
              "      <th>Age</th>\n",
              "      <th>WorkExperience</th>\n",
              "      <th>FamilySize</th>\n",
              "      <th>Gender_Male</th>\n",
              "      <th>Married_Yes</th>\n",
              "      <th>Graduated_Yes</th>\n",
              "      <th>Profession_Artist</th>\n",
              "      <th>Profession_Doctor</th>\n",
              "      <th>Profession_Engineer</th>\n",
              "      <th>Profession_Entertainment</th>\n",
              "      <th>Profession_Executive</th>\n",
              "      <th>Profession_Healthcare</th>\n",
              "      <th>Profession_Homemaker</th>\n",
              "      <th>Profession_Lawyer</th>\n",
              "      <th>Profession_Marketing</th>\n",
              "      <th>SpendingScore_Average</th>\n",
              "      <th>SpendingScore_High</th>\n",
              "      <th>SpendingScore_Low</th>\n",
              "      <th>clust_k</th>\n",
              "    </tr>\n",
              "  </thead>\n",
              "  <tbody>\n",
              "    <tr>\n",
              "      <th>0</th>\n",
              "      <td>0.056338</td>\n",
              "      <td>0.071429</td>\n",
              "      <td>0.375</td>\n",
              "      <td>1.0</td>\n",
              "      <td>0.0</td>\n",
              "      <td>0.0</td>\n",
              "      <td>0.0</td>\n",
              "      <td>0.0</td>\n",
              "      <td>0.0</td>\n",
              "      <td>0.0</td>\n",
              "      <td>0.0</td>\n",
              "      <td>1.0</td>\n",
              "      <td>0.0</td>\n",
              "      <td>0.0</td>\n",
              "      <td>0.0</td>\n",
              "      <td>0.0</td>\n",
              "      <td>0.0</td>\n",
              "      <td>1.0</td>\n",
              "      <td>1</td>\n",
              "    </tr>\n",
              "    <tr>\n",
              "      <th>1</th>\n",
              "      <td>0.281690</td>\n",
              "      <td>0.071429</td>\n",
              "      <td>0.250</td>\n",
              "      <td>0.0</td>\n",
              "      <td>1.0</td>\n",
              "      <td>1.0</td>\n",
              "      <td>0.0</td>\n",
              "      <td>0.0</td>\n",
              "      <td>1.0</td>\n",
              "      <td>0.0</td>\n",
              "      <td>0.0</td>\n",
              "      <td>0.0</td>\n",
              "      <td>0.0</td>\n",
              "      <td>0.0</td>\n",
              "      <td>0.0</td>\n",
              "      <td>1.0</td>\n",
              "      <td>0.0</td>\n",
              "      <td>0.0</td>\n",
              "      <td>0</td>\n",
              "    </tr>\n",
              "    <tr>\n",
              "      <th>2</th>\n",
              "      <td>0.690141</td>\n",
              "      <td>0.071429</td>\n",
              "      <td>0.000</td>\n",
              "      <td>0.0</td>\n",
              "      <td>1.0</td>\n",
              "      <td>1.0</td>\n",
              "      <td>0.0</td>\n",
              "      <td>0.0</td>\n",
              "      <td>1.0</td>\n",
              "      <td>0.0</td>\n",
              "      <td>0.0</td>\n",
              "      <td>0.0</td>\n",
              "      <td>0.0</td>\n",
              "      <td>0.0</td>\n",
              "      <td>0.0</td>\n",
              "      <td>0.0</td>\n",
              "      <td>0.0</td>\n",
              "      <td>1.0</td>\n",
              "      <td>3</td>\n",
              "    </tr>\n",
              "    <tr>\n",
              "      <th>3</th>\n",
              "      <td>0.690141</td>\n",
              "      <td>0.000000</td>\n",
              "      <td>0.125</td>\n",
              "      <td>1.0</td>\n",
              "      <td>1.0</td>\n",
              "      <td>1.0</td>\n",
              "      <td>0.0</td>\n",
              "      <td>0.0</td>\n",
              "      <td>0.0</td>\n",
              "      <td>0.0</td>\n",
              "      <td>0.0</td>\n",
              "      <td>0.0</td>\n",
              "      <td>0.0</td>\n",
              "      <td>1.0</td>\n",
              "      <td>0.0</td>\n",
              "      <td>0.0</td>\n",
              "      <td>1.0</td>\n",
              "      <td>0.0</td>\n",
              "      <td>2</td>\n",
              "    </tr>\n",
              "    <tr>\n",
              "      <th>4</th>\n",
              "      <td>0.309859</td>\n",
              "      <td>0.071429</td>\n",
              "      <td>0.625</td>\n",
              "      <td>0.0</td>\n",
              "      <td>1.0</td>\n",
              "      <td>1.0</td>\n",
              "      <td>0.0</td>\n",
              "      <td>0.0</td>\n",
              "      <td>0.0</td>\n",
              "      <td>1.0</td>\n",
              "      <td>0.0</td>\n",
              "      <td>0.0</td>\n",
              "      <td>0.0</td>\n",
              "      <td>0.0</td>\n",
              "      <td>0.0</td>\n",
              "      <td>0.0</td>\n",
              "      <td>1.0</td>\n",
              "      <td>0.0</td>\n",
              "      <td>2</td>\n",
              "    </tr>\n",
              "  </tbody>\n",
              "</table>\n",
              "</div>"
            ],
            "text/plain": [
              "        Age  WorkExperience  ...  SpendingScore_Low  clust_k\n",
              "0  0.056338        0.071429  ...                1.0        1\n",
              "1  0.281690        0.071429  ...                0.0        0\n",
              "2  0.690141        0.071429  ...                1.0        3\n",
              "3  0.690141        0.000000  ...                0.0        2\n",
              "4  0.309859        0.071429  ...                0.0        2\n",
              "\n",
              "[5 rows x 19 columns]"
            ]
          },
          "metadata": {},
          "execution_count": 57
        }
      ]
    },
    {
      "cell_type": "code",
      "metadata": {
        "colab": {
          "base_uri": "https://localhost:8080/",
          "height": 0
        },
        "id": "00a56497",
        "outputId": "42b7c9fc-afb0-4ef1-b7d2-b80af2de7643"
      },
      "source": [
        "clus.children_"
      ],
      "id": "00a56497",
      "execution_count": 58,
      "outputs": [
        {
          "output_type": "execute_result",
          "data": {
            "text/plain": [
              "array([[    0,   968],\n",
              "       [    2,  6651],\n",
              "       [    3,  5596],\n",
              "       ...,\n",
              "       [16128, 16131],\n",
              "       [16129, 16130],\n",
              "       [16132, 16133]])"
            ]
          },
          "metadata": {},
          "execution_count": 58
        }
      ]
    },
    {
      "cell_type": "code",
      "metadata": {
        "id": "440960ab"
      },
      "source": [
        "from scipy.cluster.hierarchy import dendrogram, linkage"
      ],
      "id": "440960ab",
      "execution_count": 59,
      "outputs": []
    },
    {
      "cell_type": "code",
      "metadata": {
        "id": "dfc4c2de"
      },
      "source": [
        "Z = linkage(datos_scaled, \"ward\")"
      ],
      "id": "dfc4c2de",
      "execution_count": 60,
      "outputs": []
    },
    {
      "cell_type": "code",
      "metadata": {
        "colab": {
          "base_uri": "https://localhost:8080/",
          "height": 502
        },
        "id": "844a8685",
        "outputId": "9d9fac63-0aee-4a40-f190-5c9d466ddbdb"
      },
      "source": [
        "plt.figure(figsize=(25,10))\n",
        "plt.title(\"Dendrograma de clientes\")\n",
        "plt.xlabel(\"ID\")\n",
        "plt.ylabel(\"Distancia\")\n",
        "dendrogram(Z, leaf_rotation=90., leaf_font_size=4.)\n",
        "plt.show()"
      ],
      "id": "844a8685",
      "execution_count": 61,
      "outputs": [
        {
          "output_type": "display_data",
          "data": {
            "image/png": "[encoded data removed]",
            "text/plain": [
              "<Figure size 1800x720 with 1 Axes>"
            ]
          },
          "metadata": {}
        }
      ]
    },
    {
      "cell_type": "code",
      "metadata": {
        "id": "3d920cd1"
      },
      "source": [
        "datos_scaled[\"clust_h\"] = md_h"
      ],
      "id": "3d920cd1",
      "execution_count": 62,
      "outputs": []
    },
    {
      "cell_type": "code",
      "metadata": {
        "colab": {
          "base_uri": "https://localhost:8080/",
          "height": 224
        },
        "id": "ce7c413b",
        "outputId": "e873edfa-55a9-4dca-d0e7-351f16f3c2bc"
      },
      "source": [
        "datos_scaled.head()"
      ],
      "id": "ce7c413b",
      "execution_count": 63,
      "outputs": [
        {
          "output_type": "execute_result",
          "data": {
            "text/html": [
              "<div>\n",
              "<style scoped>\n",
              "    .dataframe tbody tr th:only-of-type {\n",
              "        vertical-align: middle;\n",
              "    }\n",
              "\n",
              "    .dataframe tbody tr th {\n",
              "        vertical-align: top;\n",
              "    }\n",
              "\n",
              "    .dataframe thead th {\n",
              "        text-align: right;\n",
              "    }\n",
              "</style>\n",
              "<table border=\"1\" class=\"dataframe\">\n",
              "  <thead>\n",
              "    <tr style=\"text-align: right;\">\n",
              "      <th></th>\n",
              "      <th>Age</th>\n",
              "      <th>WorkExperience</th>\n",
              "      <th>FamilySize</th>\n",
              "      <th>Gender_Male</th>\n",
              "      <th>Married_Yes</th>\n",
              "      <th>Graduated_Yes</th>\n",
              "      <th>Profession_Artist</th>\n",
              "      <th>Profession_Doctor</th>\n",
              "      <th>Profession_Engineer</th>\n",
              "      <th>Profession_Entertainment</th>\n",
              "      <th>Profession_Executive</th>\n",
              "      <th>Profession_Healthcare</th>\n",
              "      <th>Profession_Homemaker</th>\n",
              "      <th>Profession_Lawyer</th>\n",
              "      <th>Profession_Marketing</th>\n",
              "      <th>SpendingScore_Average</th>\n",
              "      <th>SpendingScore_High</th>\n",
              "      <th>SpendingScore_Low</th>\n",
              "      <th>clust_k</th>\n",
              "      <th>clust_h</th>\n",
              "    </tr>\n",
              "  </thead>\n",
              "  <tbody>\n",
              "    <tr>\n",
              "      <th>0</th>\n",
              "      <td>0.056338</td>\n",
              "      <td>0.071429</td>\n",
              "      <td>0.375</td>\n",
              "      <td>1.0</td>\n",
              "      <td>0.0</td>\n",
              "      <td>0.0</td>\n",
              "      <td>0.0</td>\n",
              "      <td>0.0</td>\n",
              "      <td>0.0</td>\n",
              "      <td>0.0</td>\n",
              "      <td>0.0</td>\n",
              "      <td>1.0</td>\n",
              "      <td>0.0</td>\n",
              "      <td>0.0</td>\n",
              "      <td>0.0</td>\n",
              "      <td>0.0</td>\n",
              "      <td>0.0</td>\n",
              "      <td>1.0</td>\n",
              "      <td>1</td>\n",
              "      <td>2</td>\n",
              "    </tr>\n",
              "    <tr>\n",
              "      <th>1</th>\n",
              "      <td>0.281690</td>\n",
              "      <td>0.071429</td>\n",
              "      <td>0.250</td>\n",
              "      <td>0.0</td>\n",
              "      <td>1.0</td>\n",
              "      <td>1.0</td>\n",
              "      <td>0.0</td>\n",
              "      <td>0.0</td>\n",
              "      <td>1.0</td>\n",
              "      <td>0.0</td>\n",
              "      <td>0.0</td>\n",
              "      <td>0.0</td>\n",
              "      <td>0.0</td>\n",
              "      <td>0.0</td>\n",
              "      <td>0.0</td>\n",
              "      <td>1.0</td>\n",
              "      <td>0.0</td>\n",
              "      <td>0.0</td>\n",
              "      <td>0</td>\n",
              "      <td>1</td>\n",
              "    </tr>\n",
              "    <tr>\n",
              "      <th>2</th>\n",
              "      <td>0.690141</td>\n",
              "      <td>0.071429</td>\n",
              "      <td>0.000</td>\n",
              "      <td>0.0</td>\n",
              "      <td>1.0</td>\n",
              "      <td>1.0</td>\n",
              "      <td>0.0</td>\n",
              "      <td>0.0</td>\n",
              "      <td>1.0</td>\n",
              "      <td>0.0</td>\n",
              "      <td>0.0</td>\n",
              "      <td>0.0</td>\n",
              "      <td>0.0</td>\n",
              "      <td>0.0</td>\n",
              "      <td>0.0</td>\n",
              "      <td>0.0</td>\n",
              "      <td>0.0</td>\n",
              "      <td>1.0</td>\n",
              "      <td>3</td>\n",
              "      <td>0</td>\n",
              "    </tr>\n",
              "    <tr>\n",
              "      <th>3</th>\n",
              "      <td>0.690141</td>\n",
              "      <td>0.000000</td>\n",
              "      <td>0.125</td>\n",
              "      <td>1.0</td>\n",
              "      <td>1.0</td>\n",
              "      <td>1.0</td>\n",
              "      <td>0.0</td>\n",
              "      <td>0.0</td>\n",
              "      <td>0.0</td>\n",
              "      <td>0.0</td>\n",
              "      <td>0.0</td>\n",
              "      <td>0.0</td>\n",
              "      <td>0.0</td>\n",
              "      <td>1.0</td>\n",
              "      <td>0.0</td>\n",
              "      <td>0.0</td>\n",
              "      <td>1.0</td>\n",
              "      <td>0.0</td>\n",
              "      <td>2</td>\n",
              "      <td>3</td>\n",
              "    </tr>\n",
              "    <tr>\n",
              "      <th>4</th>\n",
              "      <td>0.309859</td>\n",
              "      <td>0.071429</td>\n",
              "      <td>0.625</td>\n",
              "      <td>0.0</td>\n",
              "      <td>1.0</td>\n",
              "      <td>1.0</td>\n",
              "      <td>0.0</td>\n",
              "      <td>0.0</td>\n",
              "      <td>0.0</td>\n",
              "      <td>1.0</td>\n",
              "      <td>0.0</td>\n",
              "      <td>0.0</td>\n",
              "      <td>0.0</td>\n",
              "      <td>0.0</td>\n",
              "      <td>0.0</td>\n",
              "      <td>0.0</td>\n",
              "      <td>1.0</td>\n",
              "      <td>0.0</td>\n",
              "      <td>2</td>\n",
              "      <td>3</td>\n",
              "    </tr>\n",
              "  </tbody>\n",
              "</table>\n",
              "</div>"
            ],
            "text/plain": [
              "        Age  WorkExperience  FamilySize  ...  SpendingScore_Low  clust_k  clust_h\n",
              "0  0.056338        0.071429       0.375  ...                1.0        1        2\n",
              "1  0.281690        0.071429       0.250  ...                0.0        0        1\n",
              "2  0.690141        0.071429       0.000  ...                1.0        3        0\n",
              "3  0.690141        0.000000       0.125  ...                0.0        2        3\n",
              "4  0.309859        0.071429       0.625  ...                0.0        2        3\n",
              "\n",
              "[5 rows x 20 columns]"
            ]
          },
          "metadata": {},
          "execution_count": 63
        }
      ]
    },
    {
      "cell_type": "code",
      "metadata": {
        "colab": {
          "base_uri": "https://localhost:8080/",
          "height": 0
        },
        "id": "cc3a53f3",
        "outputId": "a20cec8a-bb51-4f85-dea7-1687671bd2b7"
      },
      "source": [
        "model.cluster_centers_"
      ],
      "id": "cc3a53f3",
      "execution_count": 64,
      "outputs": [
        {
          "output_type": "execute_result",
          "data": {
            "text/plain": [
              "array([[ 4.06786561e-01,  1.68465662e-01,  2.62994422e-01,\n",
              "         5.79614604e-01,  9.82251521e-01,  7.35294118e-01,\n",
              "         5.12677485e-01,  8.97565923e-02,  1.12068966e-01,\n",
              "         1.61764706e-01,  3.80324544e-02,  2.02839757e-02,\n",
              "         3.04259635e-02,  9.12778905e-03,  8.62068966e-03,\n",
              "         1.00000000e+00,  2.96984659e-15, -2.12052598e-14],\n",
              "       [ 1.37594256e-01,  1.77800874e-01,  3.17423482e-01,\n",
              "         5.13296538e-01,  5.01756147e-03,  1.81133969e-01,\n",
              "         2.35825389e-02,  9.43301555e-02,  7.37581535e-02,\n",
              "         7.32563974e-02,  1.25439037e-02,  5.99598595e-01,\n",
              "         3.41194180e-02,  8.02809834e-03,  6.27195183e-02,\n",
              "         1.00351229e-03,  2.00702459e-03,  9.96989463e-01],\n",
              "       [ 5.61892809e-01,  1.40205092e-01,  2.48349835e-01,\n",
              "         5.96534653e-01,  9.70297030e-01,  6.43564356e-01,\n",
              "         1.99669967e-01,  2.55775578e-02,  4.95049505e-02,\n",
              "         3.79537954e-02,  3.28382838e-01,  3.38283828e-02,\n",
              "         2.14521452e-02,  2.67326733e-01,  2.72277228e-02,\n",
              "         4.71844785e-16,  1.00000000e+00, -8.88178420e-15],\n",
              "       [ 3.93109261e-01,  1.96694174e-01,  1.45235213e-01,\n",
              "         5.28536838e-01,  5.25769630e-01,  8.22206849e-01,\n",
              "         4.20615704e-01,  1.01003113e-01,  9.37391906e-02,\n",
              "         1.51504670e-01,  3.49360083e-02,  1.93704600e-02,\n",
              "         3.18228987e-02,  9.16637842e-02,  4.04704255e-02,\n",
              "         4.74620343e-15,  3.10862447e-15,  1.00000000e+00]])"
            ]
          },
          "metadata": {},
          "execution_count": 64
        }
      ]
    },
    {
      "cell_type": "code",
      "metadata": {
        "colab": {
          "base_uri": "https://localhost:8080/",
          "height": 0
        },
        "id": "84054c70",
        "outputId": "38bd910b-7143-4baf-f088-b0082f823e37"
      },
      "source": [
        "model.inertia_"
      ],
      "id": "84054c70",
      "execution_count": 65,
      "outputs": [
        {
          "output_type": "execute_result",
          "data": {
            "text/plain": [
              "10771.774723186745"
            ]
          },
          "metadata": {},
          "execution_count": 65
        }
      ]
    },
    {
      "cell_type": "code",
      "metadata": {
        "colab": {
          "base_uri": "https://localhost:8080/",
          "height": 224
        },
        "id": "09316a88",
        "outputId": "46291e6f-14af-44cd-8668-08c43874fa3d"
      },
      "source": [
        "datos_scaled.groupby(\"clust_k\").mean()"
      ],
      "id": "09316a88",
      "execution_count": 66,
      "outputs": [
        {
          "output_type": "execute_result",
          "data": {
            "text/html": [
              "<div>\n",
              "<style scoped>\n",
              "    .dataframe tbody tr th:only-of-type {\n",
              "        vertical-align: middle;\n",
              "    }\n",
              "\n",
              "    .dataframe tbody tr th {\n",
              "        vertical-align: top;\n",
              "    }\n",
              "\n",
              "    .dataframe thead th {\n",
              "        text-align: right;\n",
              "    }\n",
              "</style>\n",
              "<table border=\"1\" class=\"dataframe\">\n",
              "  <thead>\n",
              "    <tr style=\"text-align: right;\">\n",
              "      <th></th>\n",
              "      <th>Age</th>\n",
              "      <th>WorkExperience</th>\n",
              "      <th>FamilySize</th>\n",
              "      <th>Gender_Male</th>\n",
              "      <th>Married_Yes</th>\n",
              "      <th>Graduated_Yes</th>\n",
              "      <th>Profession_Artist</th>\n",
              "      <th>Profession_Doctor</th>\n",
              "      <th>Profession_Engineer</th>\n",
              "      <th>Profession_Entertainment</th>\n",
              "      <th>Profession_Executive</th>\n",
              "      <th>Profession_Healthcare</th>\n",
              "      <th>Profession_Homemaker</th>\n",
              "      <th>Profession_Lawyer</th>\n",
              "      <th>Profession_Marketing</th>\n",
              "      <th>SpendingScore_Average</th>\n",
              "      <th>SpendingScore_High</th>\n",
              "      <th>SpendingScore_Low</th>\n",
              "      <th>clust_h</th>\n",
              "    </tr>\n",
              "    <tr>\n",
              "      <th>clust_k</th>\n",
              "      <th></th>\n",
              "      <th></th>\n",
              "      <th></th>\n",
              "      <th></th>\n",
              "      <th></th>\n",
              "      <th></th>\n",
              "      <th></th>\n",
              "      <th></th>\n",
              "      <th></th>\n",
              "      <th></th>\n",
              "      <th></th>\n",
              "      <th></th>\n",
              "      <th></th>\n",
              "      <th></th>\n",
              "      <th></th>\n",
              "      <th></th>\n",
              "      <th></th>\n",
              "      <th></th>\n",
              "      <th></th>\n",
              "    </tr>\n",
              "  </thead>\n",
              "  <tbody>\n",
              "    <tr>\n",
              "      <th>0</th>\n",
              "      <td>0.406787</td>\n",
              "      <td>0.168466</td>\n",
              "      <td>0.262994</td>\n",
              "      <td>0.579615</td>\n",
              "      <td>0.982252</td>\n",
              "      <td>0.735294</td>\n",
              "      <td>0.512677</td>\n",
              "      <td>0.089757</td>\n",
              "      <td>0.112069</td>\n",
              "      <td>0.161765</td>\n",
              "      <td>0.038032</td>\n",
              "      <td>0.020284</td>\n",
              "      <td>0.030426</td>\n",
              "      <td>0.009128</td>\n",
              "      <td>0.008621</td>\n",
              "      <td>1.000000</td>\n",
              "      <td>0.00000</td>\n",
              "      <td>0.000000</td>\n",
              "      <td>1</td>\n",
              "    </tr>\n",
              "    <tr>\n",
              "      <th>1</th>\n",
              "      <td>0.137469</td>\n",
              "      <td>0.177782</td>\n",
              "      <td>0.317525</td>\n",
              "      <td>0.513065</td>\n",
              "      <td>0.005025</td>\n",
              "      <td>0.181407</td>\n",
              "      <td>0.022111</td>\n",
              "      <td>0.094472</td>\n",
              "      <td>0.073869</td>\n",
              "      <td>0.073367</td>\n",
              "      <td>0.012563</td>\n",
              "      <td>0.600503</td>\n",
              "      <td>0.034171</td>\n",
              "      <td>0.008040</td>\n",
              "      <td>0.062814</td>\n",
              "      <td>0.001005</td>\n",
              "      <td>0.00201</td>\n",
              "      <td>0.996985</td>\n",
              "      <td>2</td>\n",
              "    </tr>\n",
              "    <tr>\n",
              "      <th>2</th>\n",
              "      <td>0.561893</td>\n",
              "      <td>0.140205</td>\n",
              "      <td>0.248350</td>\n",
              "      <td>0.596535</td>\n",
              "      <td>0.970297</td>\n",
              "      <td>0.643564</td>\n",
              "      <td>0.199670</td>\n",
              "      <td>0.025578</td>\n",
              "      <td>0.049505</td>\n",
              "      <td>0.037954</td>\n",
              "      <td>0.328383</td>\n",
              "      <td>0.033828</td>\n",
              "      <td>0.021452</td>\n",
              "      <td>0.267327</td>\n",
              "      <td>0.027228</td>\n",
              "      <td>0.000000</td>\n",
              "      <td>1.00000</td>\n",
              "      <td>0.000000</td>\n",
              "      <td>3</td>\n",
              "    </tr>\n",
              "    <tr>\n",
              "      <th>3</th>\n",
              "      <td>0.392930</td>\n",
              "      <td>0.196688</td>\n",
              "      <td>0.145344</td>\n",
              "      <td>0.528680</td>\n",
              "      <td>0.525225</td>\n",
              "      <td>0.821355</td>\n",
              "      <td>0.421216</td>\n",
              "      <td>0.100898</td>\n",
              "      <td>0.093642</td>\n",
              "      <td>0.151348</td>\n",
              "      <td>0.034900</td>\n",
              "      <td>0.019350</td>\n",
              "      <td>0.031790</td>\n",
              "      <td>0.091569</td>\n",
              "      <td>0.040428</td>\n",
              "      <td>0.000000</td>\n",
              "      <td>0.00000</td>\n",
              "      <td>1.000000</td>\n",
              "      <td>0</td>\n",
              "    </tr>\n",
              "  </tbody>\n",
              "</table>\n",
              "</div>"
            ],
            "text/plain": [
              "              Age  WorkExperience  ...  SpendingScore_Low  clust_h\n",
              "clust_k                            ...                            \n",
              "0        0.406787        0.168466  ...           0.000000        1\n",
              "1        0.137469        0.177782  ...           0.996985        2\n",
              "2        0.561893        0.140205  ...           0.000000        3\n",
              "3        0.392930        0.196688  ...           1.000000        0\n",
              "\n",
              "[4 rows x 19 columns]"
            ]
          },
          "metadata": {},
          "execution_count": 66
        }
      ]
    },
    {
      "cell_type": "code",
      "metadata": {
        "colab": {
          "base_uri": "https://localhost:8080/",
          "height": 224
        },
        "id": "3921cc30",
        "outputId": "6244292f-7533-4108-fafc-2a5537fd6216"
      },
      "source": [
        "datos_scaled.groupby(\"clust_h\").mean()"
      ],
      "id": "3921cc30",
      "execution_count": 67,
      "outputs": [
        {
          "output_type": "execute_result",
          "data": {
            "text/html": [
              "<div>\n",
              "<style scoped>\n",
              "    .dataframe tbody tr th:only-of-type {\n",
              "        vertical-align: middle;\n",
              "    }\n",
              "\n",
              "    .dataframe tbody tr th {\n",
              "        vertical-align: top;\n",
              "    }\n",
              "\n",
              "    .dataframe thead th {\n",
              "        text-align: right;\n",
              "    }\n",
              "</style>\n",
              "<table border=\"1\" class=\"dataframe\">\n",
              "  <thead>\n",
              "    <tr style=\"text-align: right;\">\n",
              "      <th></th>\n",
              "      <th>Age</th>\n",
              "      <th>WorkExperience</th>\n",
              "      <th>FamilySize</th>\n",
              "      <th>Gender_Male</th>\n",
              "      <th>Married_Yes</th>\n",
              "      <th>Graduated_Yes</th>\n",
              "      <th>Profession_Artist</th>\n",
              "      <th>Profession_Doctor</th>\n",
              "      <th>Profession_Engineer</th>\n",
              "      <th>Profession_Entertainment</th>\n",
              "      <th>Profession_Executive</th>\n",
              "      <th>Profession_Healthcare</th>\n",
              "      <th>Profession_Homemaker</th>\n",
              "      <th>Profession_Lawyer</th>\n",
              "      <th>Profession_Marketing</th>\n",
              "      <th>SpendingScore_Average</th>\n",
              "      <th>SpendingScore_High</th>\n",
              "      <th>SpendingScore_Low</th>\n",
              "      <th>clust_k</th>\n",
              "    </tr>\n",
              "    <tr>\n",
              "      <th>clust_h</th>\n",
              "      <th></th>\n",
              "      <th></th>\n",
              "      <th></th>\n",
              "      <th></th>\n",
              "      <th></th>\n",
              "      <th></th>\n",
              "      <th></th>\n",
              "      <th></th>\n",
              "      <th></th>\n",
              "      <th></th>\n",
              "      <th></th>\n",
              "      <th></th>\n",
              "      <th></th>\n",
              "      <th></th>\n",
              "      <th></th>\n",
              "      <th></th>\n",
              "      <th></th>\n",
              "      <th></th>\n",
              "      <th></th>\n",
              "    </tr>\n",
              "  </thead>\n",
              "  <tbody>\n",
              "    <tr>\n",
              "      <th>0</th>\n",
              "      <td>0.392930</td>\n",
              "      <td>0.196688</td>\n",
              "      <td>0.145344</td>\n",
              "      <td>0.528680</td>\n",
              "      <td>0.525225</td>\n",
              "      <td>0.821355</td>\n",
              "      <td>0.421216</td>\n",
              "      <td>0.100898</td>\n",
              "      <td>0.093642</td>\n",
              "      <td>0.151348</td>\n",
              "      <td>0.034900</td>\n",
              "      <td>0.019350</td>\n",
              "      <td>0.031790</td>\n",
              "      <td>0.091569</td>\n",
              "      <td>0.040428</td>\n",
              "      <td>0.000000</td>\n",
              "      <td>0.00000</td>\n",
              "      <td>1.000000</td>\n",
              "      <td>3</td>\n",
              "    </tr>\n",
              "    <tr>\n",
              "      <th>1</th>\n",
              "      <td>0.406787</td>\n",
              "      <td>0.168466</td>\n",
              "      <td>0.262994</td>\n",
              "      <td>0.579615</td>\n",
              "      <td>0.982252</td>\n",
              "      <td>0.735294</td>\n",
              "      <td>0.512677</td>\n",
              "      <td>0.089757</td>\n",
              "      <td>0.112069</td>\n",
              "      <td>0.161765</td>\n",
              "      <td>0.038032</td>\n",
              "      <td>0.020284</td>\n",
              "      <td>0.030426</td>\n",
              "      <td>0.009128</td>\n",
              "      <td>0.008621</td>\n",
              "      <td>1.000000</td>\n",
              "      <td>0.00000</td>\n",
              "      <td>0.000000</td>\n",
              "      <td>0</td>\n",
              "    </tr>\n",
              "    <tr>\n",
              "      <th>2</th>\n",
              "      <td>0.137469</td>\n",
              "      <td>0.177782</td>\n",
              "      <td>0.317525</td>\n",
              "      <td>0.513065</td>\n",
              "      <td>0.005025</td>\n",
              "      <td>0.181407</td>\n",
              "      <td>0.022111</td>\n",
              "      <td>0.094472</td>\n",
              "      <td>0.073869</td>\n",
              "      <td>0.073367</td>\n",
              "      <td>0.012563</td>\n",
              "      <td>0.600503</td>\n",
              "      <td>0.034171</td>\n",
              "      <td>0.008040</td>\n",
              "      <td>0.062814</td>\n",
              "      <td>0.001005</td>\n",
              "      <td>0.00201</td>\n",
              "      <td>0.996985</td>\n",
              "      <td>1</td>\n",
              "    </tr>\n",
              "    <tr>\n",
              "      <th>3</th>\n",
              "      <td>0.561893</td>\n",
              "      <td>0.140205</td>\n",
              "      <td>0.248350</td>\n",
              "      <td>0.596535</td>\n",
              "      <td>0.970297</td>\n",
              "      <td>0.643564</td>\n",
              "      <td>0.199670</td>\n",
              "      <td>0.025578</td>\n",
              "      <td>0.049505</td>\n",
              "      <td>0.037954</td>\n",
              "      <td>0.328383</td>\n",
              "      <td>0.033828</td>\n",
              "      <td>0.021452</td>\n",
              "      <td>0.267327</td>\n",
              "      <td>0.027228</td>\n",
              "      <td>0.000000</td>\n",
              "      <td>1.00000</td>\n",
              "      <td>0.000000</td>\n",
              "      <td>2</td>\n",
              "    </tr>\n",
              "  </tbody>\n",
              "</table>\n",
              "</div>"
            ],
            "text/plain": [
              "              Age  WorkExperience  ...  SpendingScore_Low  clust_k\n",
              "clust_h                            ...                            \n",
              "0        0.392930        0.196688  ...           1.000000        3\n",
              "1        0.406787        0.168466  ...           0.000000        0\n",
              "2        0.137469        0.177782  ...           0.996985        1\n",
              "3        0.561893        0.140205  ...           0.000000        2\n",
              "\n",
              "[4 rows x 19 columns]"
            ]
          },
          "metadata": {},
          "execution_count": 67
        }
      ]
    },
    {
      "cell_type": "code",
      "metadata": {
        "id": "0dac2a55"
      },
      "source": [
        ""
      ],
      "id": "0dac2a55",
      "execution_count": 67,
      "outputs": []
    },
    {
      "cell_type": "code",
      "metadata": {
        "id": "136ec53e"
      },
      "source": [
        ""
      ],
      "id": "136ec53e",
      "execution_count": 67,
      "outputs": []
    },
    {
      "cell_type": "code",
      "metadata": {
        "id": "60dcfd70"
      },
      "source": [
        ""
      ],
      "id": "60dcfd70",
      "execution_count": 67,
      "outputs": []
    }
  ]
}